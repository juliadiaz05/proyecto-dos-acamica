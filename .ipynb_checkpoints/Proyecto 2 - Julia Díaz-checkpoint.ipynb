{
 "cells": [
  {
   "cell_type": "markdown",
   "id": "compressed-growth",
   "metadata": {},
   "source": [
    "# Proyecto 2: Ingeniería de features, Modelos avanzados e Interpretación de modelos."
   ]
  },
  {
   "cell_type": "markdown",
   "id": "sophisticated-frank",
   "metadata": {},
   "source": [
    "**PARTE A - Transformación de Datos**\n",
    "\n",
    "Elige cuáles de las siguientes tareas son apropiadas para su dataset. Justifica e implementa al menostres de las transformaciones de datos propuestas:\n",
    "\n",
    "1- Detección y eliminación de Outliers\n",
    "\n",
    "2- Encoding\n",
    "\n",
    "3- Imputación de valores faltantes\n",
    "\n",
    "4- Escalado de datos\n",
    "\n",
    "5- Generación de nuevas variables predictoras/reducción de dimensionalidad (SVD/PCA).\n",
    "\n",
    "Vuelve a entrenar el modelo implementado en la Entrega 01 - en particular, el árbol de decisión - y evalúa su desempeño a partir del dataset obtenido luego de transformar los datos. ¿Hay una mejora en su desempeño? Sea cual sea la respuesta, intenta explicar a qué se debe"
   ]
  },
  {
   "cell_type": "code",
   "execution_count": 1,
   "id": "bronze-mouth",
   "metadata": {},
   "outputs": [],
   "source": [
    "#imporamos las librerias con las que vamos a trabajar en la parte A\n",
    "import numpy as np  \n",
    "import pandas as pd\n",
    "import matplotlib.pyplot as plt\n",
    "import seaborn as sns"
   ]
  },
  {
   "cell_type": "code",
   "execution_count": 2,
   "id": "covered-wonder",
   "metadata": {},
   "outputs": [
    {
     "data": {
      "text/html": [
       "<div>\n",
       "<style scoped>\n",
       "    .dataframe tbody tr th:only-of-type {\n",
       "        vertical-align: middle;\n",
       "    }\n",
       "\n",
       "    .dataframe tbody tr th {\n",
       "        vertical-align: top;\n",
       "    }\n",
       "\n",
       "    .dataframe thead th {\n",
       "        text-align: right;\n",
       "    }\n",
       "</style>\n",
       "<table border=\"1\" class=\"dataframe\">\n",
       "  <thead>\n",
       "    <tr style=\"text-align: right;\">\n",
       "      <th></th>\n",
       "      <th>start_date</th>\n",
       "      <th>end_date</th>\n",
       "      <th>created_on</th>\n",
       "      <th>lat</th>\n",
       "      <th>lon</th>\n",
       "      <th>l1</th>\n",
       "      <th>l2</th>\n",
       "      <th>l3</th>\n",
       "      <th>rooms</th>\n",
       "      <th>bedrooms</th>\n",
       "      <th>bathrooms</th>\n",
       "      <th>surface_total</th>\n",
       "      <th>surface_covered</th>\n",
       "      <th>price</th>\n",
       "      <th>currency</th>\n",
       "      <th>title</th>\n",
       "      <th>description</th>\n",
       "      <th>property_type</th>\n",
       "      <th>operation_type</th>\n",
       "    </tr>\n",
       "  </thead>\n",
       "  <tbody>\n",
       "    <tr>\n",
       "      <th>0</th>\n",
       "      <td>2019-10-17</td>\n",
       "      <td>2019-12-23</td>\n",
       "      <td>2019-10-17</td>\n",
       "      <td>-34.605880</td>\n",
       "      <td>-58.384949</td>\n",
       "      <td>Argentina</td>\n",
       "      <td>Capital Federal</td>\n",
       "      <td>San Cristobal</td>\n",
       "      <td>7.0</td>\n",
       "      <td>7.0</td>\n",
       "      <td>2.0</td>\n",
       "      <td>140.0</td>\n",
       "      <td>140.0</td>\n",
       "      <td>153000.0</td>\n",
       "      <td>USD</td>\n",
       "      <td>***Venta semipiso centro, ideal hostel*****</td>\n",
       "      <td>DESCRIPCION DE LA PROPIEDAD: Departamento de 1...</td>\n",
       "      <td>Departamento</td>\n",
       "      <td>Venta</td>\n",
       "    </tr>\n",
       "    <tr>\n",
       "      <th>1</th>\n",
       "      <td>2019-10-17</td>\n",
       "      <td>2019-11-21</td>\n",
       "      <td>2019-10-17</td>\n",
       "      <td>-34.624056</td>\n",
       "      <td>-58.412110</td>\n",
       "      <td>Argentina</td>\n",
       "      <td>Capital Federal</td>\n",
       "      <td>Boedo</td>\n",
       "      <td>2.0</td>\n",
       "      <td>1.0</td>\n",
       "      <td>2.0</td>\n",
       "      <td>70.0</td>\n",
       "      <td>58.0</td>\n",
       "      <td>159000.0</td>\n",
       "      <td>USD</td>\n",
       "      <td>Espectacular PH reciclado en Boedo sin expensas.</td>\n",
       "      <td>PH reciclado en Boedo a una cuadra de la plaz...</td>\n",
       "      <td>PH</td>\n",
       "      <td>Venta</td>\n",
       "    </tr>\n",
       "    <tr>\n",
       "      <th>2</th>\n",
       "      <td>2019-10-17</td>\n",
       "      <td>2019-11-01</td>\n",
       "      <td>2019-10-17</td>\n",
       "      <td>-34.593569</td>\n",
       "      <td>-58.427474</td>\n",
       "      <td>Argentina</td>\n",
       "      <td>Capital Federal</td>\n",
       "      <td>Palermo</td>\n",
       "      <td>2.0</td>\n",
       "      <td>1.0</td>\n",
       "      <td>1.0</td>\n",
       "      <td>45.0</td>\n",
       "      <td>45.0</td>\n",
       "      <td>125000.0</td>\n",
       "      <td>USD</td>\n",
       "      <td>Depto.tipo casa de 2 ambientes en Venta en Pal...</td>\n",
       "      <td>2 ambienets amplio , excelente estado , patio ...</td>\n",
       "      <td>PH</td>\n",
       "      <td>Venta</td>\n",
       "    </tr>\n",
       "    <tr>\n",
       "      <th>3</th>\n",
       "      <td>2019-10-17</td>\n",
       "      <td>2019-12-23</td>\n",
       "      <td>2019-10-17</td>\n",
       "      <td>-34.581294</td>\n",
       "      <td>-58.436754</td>\n",
       "      <td>Argentina</td>\n",
       "      <td>Capital Federal</td>\n",
       "      <td>Palermo</td>\n",
       "      <td>2.0</td>\n",
       "      <td>1.0</td>\n",
       "      <td>1.0</td>\n",
       "      <td>85.0</td>\n",
       "      <td>50.0</td>\n",
       "      <td>295000.0</td>\n",
       "      <td>USD</td>\n",
       "      <td>COSTA RICA 5800 / PALERMO HOLLYWOOD / VENTA PH...</td>\n",
       "      <td>HERMOSO PH EN PALERMO!!!2 AMBIENTES TOTALMENTE...</td>\n",
       "      <td>PH</td>\n",
       "      <td>Venta</td>\n",
       "    </tr>\n",
       "    <tr>\n",
       "      <th>4</th>\n",
       "      <td>2019-10-17</td>\n",
       "      <td>2020-03-11</td>\n",
       "      <td>2019-10-17</td>\n",
       "      <td>-34.914194</td>\n",
       "      <td>-57.938219</td>\n",
       "      <td>Argentina</td>\n",
       "      <td>Bs.As. G.B.A. Zona Sur</td>\n",
       "      <td>La Plata</td>\n",
       "      <td>2.0</td>\n",
       "      <td>1.0</td>\n",
       "      <td>1.0</td>\n",
       "      <td>50.0</td>\n",
       "      <td>35.0</td>\n",
       "      <td>40000.0</td>\n",
       "      <td>USD</td>\n",
       "      <td>58 entre 1 y 2  Venta de departamento en ph.1 ...</td>\n",
       "      <td>58 entre 1 y 2  Venta de departamento en PH. P...</td>\n",
       "      <td>PH</td>\n",
       "      <td>Venta</td>\n",
       "    </tr>\n",
       "  </tbody>\n",
       "</table>\n",
       "</div>"
      ],
      "text/plain": [
       "   start_date    end_date  created_on        lat        lon         l1  \\\n",
       "0  2019-10-17  2019-12-23  2019-10-17 -34.605880 -58.384949  Argentina   \n",
       "1  2019-10-17  2019-11-21  2019-10-17 -34.624056 -58.412110  Argentina   \n",
       "2  2019-10-17  2019-11-01  2019-10-17 -34.593569 -58.427474  Argentina   \n",
       "3  2019-10-17  2019-12-23  2019-10-17 -34.581294 -58.436754  Argentina   \n",
       "4  2019-10-17  2020-03-11  2019-10-17 -34.914194 -57.938219  Argentina   \n",
       "\n",
       "                       l2             l3  rooms  bedrooms  bathrooms  \\\n",
       "0         Capital Federal  San Cristobal    7.0       7.0        2.0   \n",
       "1         Capital Federal          Boedo    2.0       1.0        2.0   \n",
       "2         Capital Federal        Palermo    2.0       1.0        1.0   \n",
       "3         Capital Federal        Palermo    2.0       1.0        1.0   \n",
       "4  Bs.As. G.B.A. Zona Sur       La Plata    2.0       1.0        1.0   \n",
       "\n",
       "   surface_total  surface_covered     price currency  \\\n",
       "0          140.0            140.0  153000.0      USD   \n",
       "1           70.0             58.0  159000.0      USD   \n",
       "2           45.0             45.0  125000.0      USD   \n",
       "3           85.0             50.0  295000.0      USD   \n",
       "4           50.0             35.0   40000.0      USD   \n",
       "\n",
       "                                               title  \\\n",
       "0        ***Venta semipiso centro, ideal hostel*****   \n",
       "1   Espectacular PH reciclado en Boedo sin expensas.   \n",
       "2  Depto.tipo casa de 2 ambientes en Venta en Pal...   \n",
       "3  COSTA RICA 5800 / PALERMO HOLLYWOOD / VENTA PH...   \n",
       "4  58 entre 1 y 2  Venta de departamento en ph.1 ...   \n",
       "\n",
       "                                         description property_type  \\\n",
       "0  DESCRIPCION DE LA PROPIEDAD: Departamento de 1...  Departamento   \n",
       "1   PH reciclado en Boedo a una cuadra de la plaz...            PH   \n",
       "2  2 ambienets amplio , excelente estado , patio ...            PH   \n",
       "3  HERMOSO PH EN PALERMO!!!2 AMBIENTES TOTALMENTE...            PH   \n",
       "4  58 entre 1 y 2  Venta de departamento en PH. P...            PH   \n",
       "\n",
       "  operation_type  \n",
       "0          Venta  \n",
       "1          Venta  \n",
       "2          Venta  \n",
       "3          Venta  \n",
       "4          Venta  "
      ]
     },
     "execution_count": 2,
     "metadata": {},
     "output_type": "execute_result"
    }
   ],
   "source": [
    "proyecto = pd.read_csv('DS_Proyecto_01_Datos_Properati.csv') #importamos el dataset \n",
    "proyecto.head()"
   ]
  },
  {
   "cell_type": "code",
   "execution_count": 3,
   "id": "patent-nursery",
   "metadata": {},
   "outputs": [
    {
     "data": {
      "text/plain": [
       "start_date             0\n",
       "end_date               0\n",
       "created_on             0\n",
       "lat                 9925\n",
       "lon                 9959\n",
       "l1                     0\n",
       "l2                     0\n",
       "l3                     0\n",
       "rooms                  0\n",
       "bedrooms               0\n",
       "bathrooms           5957\n",
       "surface_total      20527\n",
       "surface_covered    21614\n",
       "price                  0\n",
       "currency               0\n",
       "title                  0\n",
       "description            0\n",
       "property_type          0\n",
       "operation_type         0\n",
       "dtype: int64"
      ]
     },
     "execution_count": 3,
     "metadata": {},
     "output_type": "execute_result"
    }
   ],
   "source": [
    "proyecto.isna().sum()"
   ]
  },
  {
   "cell_type": "code",
   "execution_count": 4,
   "id": "exact-federation",
   "metadata": {},
   "outputs": [
    {
     "name": "stdout",
     "output_type": "stream",
     "text": [
      "<class 'pandas.core.frame.DataFrame'>\n",
      "RangeIndex: 146660 entries, 0 to 146659\n",
      "Data columns (total 19 columns):\n",
      " #   Column           Non-Null Count   Dtype  \n",
      "---  ------           --------------   -----  \n",
      " 0   start_date       146660 non-null  object \n",
      " 1   end_date         146660 non-null  object \n",
      " 2   created_on       146660 non-null  object \n",
      " 3   lat              136735 non-null  float64\n",
      " 4   lon              136701 non-null  float64\n",
      " 5   l1               146660 non-null  object \n",
      " 6   l2               146660 non-null  object \n",
      " 7   l3               146660 non-null  object \n",
      " 8   rooms            146660 non-null  float64\n",
      " 9   bedrooms         146660 non-null  float64\n",
      " 10  bathrooms        140703 non-null  float64\n",
      " 11  surface_total    126133 non-null  float64\n",
      " 12  surface_covered  125046 non-null  float64\n",
      " 13  price            146660 non-null  float64\n",
      " 14  currency         146660 non-null  object \n",
      " 15  title            146660 non-null  object \n",
      " 16  description      146660 non-null  object \n",
      " 17  property_type    146660 non-null  object \n",
      " 18  operation_type   146660 non-null  object \n",
      "dtypes: float64(8), object(11)\n",
      "memory usage: 21.3+ MB\n"
     ]
    }
   ],
   "source": [
    "proyecto.info()"
   ]
  },
  {
   "cell_type": "code",
   "execution_count": 5,
   "id": "arbitrary-suffering",
   "metadata": {},
   "outputs": [
    {
     "data": {
      "text/plain": [
       "(70059, 19)"
      ]
     },
     "execution_count": 5,
     "metadata": {},
     "output_type": "execute_result"
    }
   ],
   "source": [
    "nprop = proyecto.property_type.isin(['Departamento', 'Casa', 'PH'])\n",
    "nsup=(proyecto['surface_total']>=proyecto['surface_covered'])\n",
    "nprecio= proyecto['price']<=400000\n",
    "ncap= proyecto['l2']=='Capital Federal'\n",
    "nban= proyecto['bathrooms']<=5\n",
    "\n",
    "\n",
    "proyecto=proyecto[nprop & nsup & nprecio & ncap & nban]\n",
    "proyecto.shape\n",
    "\n"
   ]
  },
  {
   "cell_type": "code",
   "execution_count": 6,
   "id": "perfect-investigation",
   "metadata": {},
   "outputs": [
    {
     "data": {
      "text/plain": [
       "start_date            0\n",
       "end_date              0\n",
       "created_on            0\n",
       "lat                3057\n",
       "lon                3057\n",
       "l1                    0\n",
       "l2                    0\n",
       "l3                    0\n",
       "rooms                 0\n",
       "bedrooms              0\n",
       "bathrooms             0\n",
       "surface_total         0\n",
       "surface_covered       0\n",
       "price                 0\n",
       "currency              0\n",
       "title                 0\n",
       "description           0\n",
       "property_type         0\n",
       "operation_type        0\n",
       "dtype: int64"
      ]
     },
     "execution_count": 6,
     "metadata": {},
     "output_type": "execute_result"
    }
   ],
   "source": [
    "proyecto.isna().sum()"
   ]
  },
  {
   "cell_type": "markdown",
   "id": "median-mainland",
   "metadata": {},
   "source": [
    "En primer lugar, voy a sacar las columnas con las que no voy a trabajar.\n",
    "Voy a reemplazar datos faltantes de bathrooms por con el valor 1 ya que todas las casas tienen como minimo un baño. Adicionalmente, voy a reemplazar los datos faltantes de Superficie total y cubierta por la media"
   ]
  },
  {
   "cell_type": "code",
   "execution_count": 7,
   "id": "known-jaguar",
   "metadata": {},
   "outputs": [
    {
     "data": {
      "text/html": [
       "<div>\n",
       "<style scoped>\n",
       "    .dataframe tbody tr th:only-of-type {\n",
       "        vertical-align: middle;\n",
       "    }\n",
       "\n",
       "    .dataframe tbody tr th {\n",
       "        vertical-align: top;\n",
       "    }\n",
       "\n",
       "    .dataframe thead th {\n",
       "        text-align: right;\n",
       "    }\n",
       "</style>\n",
       "<table border=\"1\" class=\"dataframe\">\n",
       "  <thead>\n",
       "    <tr style=\"text-align: right;\">\n",
       "      <th></th>\n",
       "      <th>property_type_Casa</th>\n",
       "      <th>property_type_Departamento</th>\n",
       "      <th>property_type_PH</th>\n",
       "    </tr>\n",
       "  </thead>\n",
       "  <tbody>\n",
       "    <tr>\n",
       "      <th>0</th>\n",
       "      <td>0</td>\n",
       "      <td>1</td>\n",
       "      <td>0</td>\n",
       "    </tr>\n",
       "    <tr>\n",
       "      <th>1</th>\n",
       "      <td>0</td>\n",
       "      <td>0</td>\n",
       "      <td>1</td>\n",
       "    </tr>\n",
       "    <tr>\n",
       "      <th>2</th>\n",
       "      <td>0</td>\n",
       "      <td>0</td>\n",
       "      <td>1</td>\n",
       "    </tr>\n",
       "    <tr>\n",
       "      <th>3</th>\n",
       "      <td>0</td>\n",
       "      <td>0</td>\n",
       "      <td>1</td>\n",
       "    </tr>\n",
       "    <tr>\n",
       "      <th>5</th>\n",
       "      <td>0</td>\n",
       "      <td>0</td>\n",
       "      <td>1</td>\n",
       "    </tr>\n",
       "    <tr>\n",
       "      <th>...</th>\n",
       "      <td>...</td>\n",
       "      <td>...</td>\n",
       "      <td>...</td>\n",
       "    </tr>\n",
       "    <tr>\n",
       "      <th>146542</th>\n",
       "      <td>0</td>\n",
       "      <td>1</td>\n",
       "      <td>0</td>\n",
       "    </tr>\n",
       "    <tr>\n",
       "      <th>146543</th>\n",
       "      <td>0</td>\n",
       "      <td>1</td>\n",
       "      <td>0</td>\n",
       "    </tr>\n",
       "    <tr>\n",
       "      <th>146545</th>\n",
       "      <td>0</td>\n",
       "      <td>1</td>\n",
       "      <td>0</td>\n",
       "    </tr>\n",
       "    <tr>\n",
       "      <th>146549</th>\n",
       "      <td>0</td>\n",
       "      <td>0</td>\n",
       "      <td>1</td>\n",
       "    </tr>\n",
       "    <tr>\n",
       "      <th>146550</th>\n",
       "      <td>0</td>\n",
       "      <td>0</td>\n",
       "      <td>1</td>\n",
       "    </tr>\n",
       "  </tbody>\n",
       "</table>\n",
       "<p>70059 rows × 3 columns</p>\n",
       "</div>"
      ],
      "text/plain": [
       "        property_type_Casa  property_type_Departamento  property_type_PH\n",
       "0                        0                           1                 0\n",
       "1                        0                           0                 1\n",
       "2                        0                           0                 1\n",
       "3                        0                           0                 1\n",
       "5                        0                           0                 1\n",
       "...                    ...                         ...               ...\n",
       "146542                   0                           1                 0\n",
       "146543                   0                           1                 0\n",
       "146545                   0                           1                 0\n",
       "146549                   0                           0                 1\n",
       "146550                   0                           0                 1\n",
       "\n",
       "[70059 rows x 3 columns]"
      ]
     },
     "execution_count": 7,
     "metadata": {},
     "output_type": "execute_result"
    }
   ],
   "source": [
    "dummies= pd.get_dummies(proyecto['property_type'], prefix = 'property_type')\n",
    "dummies"
   ]
  },
  {
   "cell_type": "code",
   "execution_count": 8,
   "id": "decreased-basketball",
   "metadata": {},
   "outputs": [
    {
     "data": {
      "text/html": [
       "<div>\n",
       "<style scoped>\n",
       "    .dataframe tbody tr th:only-of-type {\n",
       "        vertical-align: middle;\n",
       "    }\n",
       "\n",
       "    .dataframe tbody tr th {\n",
       "        vertical-align: top;\n",
       "    }\n",
       "\n",
       "    .dataframe thead th {\n",
       "        text-align: right;\n",
       "    }\n",
       "</style>\n",
       "<table border=\"1\" class=\"dataframe\">\n",
       "  <thead>\n",
       "    <tr style=\"text-align: right;\">\n",
       "      <th></th>\n",
       "      <th>start_date</th>\n",
       "      <th>end_date</th>\n",
       "      <th>created_on</th>\n",
       "      <th>lat</th>\n",
       "      <th>lon</th>\n",
       "      <th>l1</th>\n",
       "      <th>l2</th>\n",
       "      <th>l3</th>\n",
       "      <th>rooms</th>\n",
       "      <th>bedrooms</th>\n",
       "      <th>...</th>\n",
       "      <th>surface_covered</th>\n",
       "      <th>price</th>\n",
       "      <th>currency</th>\n",
       "      <th>title</th>\n",
       "      <th>description</th>\n",
       "      <th>property_type</th>\n",
       "      <th>operation_type</th>\n",
       "      <th>property_type_Casa</th>\n",
       "      <th>property_type_Departamento</th>\n",
       "      <th>property_type_PH</th>\n",
       "    </tr>\n",
       "  </thead>\n",
       "  <tbody>\n",
       "    <tr>\n",
       "      <th>0</th>\n",
       "      <td>2019-10-17</td>\n",
       "      <td>2019-12-23</td>\n",
       "      <td>2019-10-17</td>\n",
       "      <td>-34.605880</td>\n",
       "      <td>-58.384949</td>\n",
       "      <td>Argentina</td>\n",
       "      <td>Capital Federal</td>\n",
       "      <td>San Cristobal</td>\n",
       "      <td>7.0</td>\n",
       "      <td>7.0</td>\n",
       "      <td>...</td>\n",
       "      <td>140.0</td>\n",
       "      <td>153000.0</td>\n",
       "      <td>USD</td>\n",
       "      <td>***Venta semipiso centro, ideal hostel*****</td>\n",
       "      <td>DESCRIPCION DE LA PROPIEDAD: Departamento de 1...</td>\n",
       "      <td>Departamento</td>\n",
       "      <td>Venta</td>\n",
       "      <td>0</td>\n",
       "      <td>1</td>\n",
       "      <td>0</td>\n",
       "    </tr>\n",
       "    <tr>\n",
       "      <th>1</th>\n",
       "      <td>2019-10-17</td>\n",
       "      <td>2019-11-21</td>\n",
       "      <td>2019-10-17</td>\n",
       "      <td>-34.624056</td>\n",
       "      <td>-58.412110</td>\n",
       "      <td>Argentina</td>\n",
       "      <td>Capital Federal</td>\n",
       "      <td>Boedo</td>\n",
       "      <td>2.0</td>\n",
       "      <td>1.0</td>\n",
       "      <td>...</td>\n",
       "      <td>58.0</td>\n",
       "      <td>159000.0</td>\n",
       "      <td>USD</td>\n",
       "      <td>Espectacular PH reciclado en Boedo sin expensas.</td>\n",
       "      <td>PH reciclado en Boedo a una cuadra de la plaz...</td>\n",
       "      <td>PH</td>\n",
       "      <td>Venta</td>\n",
       "      <td>0</td>\n",
       "      <td>0</td>\n",
       "      <td>1</td>\n",
       "    </tr>\n",
       "    <tr>\n",
       "      <th>2</th>\n",
       "      <td>2019-10-17</td>\n",
       "      <td>2019-11-01</td>\n",
       "      <td>2019-10-17</td>\n",
       "      <td>-34.593569</td>\n",
       "      <td>-58.427474</td>\n",
       "      <td>Argentina</td>\n",
       "      <td>Capital Federal</td>\n",
       "      <td>Palermo</td>\n",
       "      <td>2.0</td>\n",
       "      <td>1.0</td>\n",
       "      <td>...</td>\n",
       "      <td>45.0</td>\n",
       "      <td>125000.0</td>\n",
       "      <td>USD</td>\n",
       "      <td>Depto.tipo casa de 2 ambientes en Venta en Pal...</td>\n",
       "      <td>2 ambienets amplio , excelente estado , patio ...</td>\n",
       "      <td>PH</td>\n",
       "      <td>Venta</td>\n",
       "      <td>0</td>\n",
       "      <td>0</td>\n",
       "      <td>1</td>\n",
       "    </tr>\n",
       "    <tr>\n",
       "      <th>3</th>\n",
       "      <td>2019-10-17</td>\n",
       "      <td>2019-12-23</td>\n",
       "      <td>2019-10-17</td>\n",
       "      <td>-34.581294</td>\n",
       "      <td>-58.436754</td>\n",
       "      <td>Argentina</td>\n",
       "      <td>Capital Federal</td>\n",
       "      <td>Palermo</td>\n",
       "      <td>2.0</td>\n",
       "      <td>1.0</td>\n",
       "      <td>...</td>\n",
       "      <td>50.0</td>\n",
       "      <td>295000.0</td>\n",
       "      <td>USD</td>\n",
       "      <td>COSTA RICA 5800 / PALERMO HOLLYWOOD / VENTA PH...</td>\n",
       "      <td>HERMOSO PH EN PALERMO!!!2 AMBIENTES TOTALMENTE...</td>\n",
       "      <td>PH</td>\n",
       "      <td>Venta</td>\n",
       "      <td>0</td>\n",
       "      <td>0</td>\n",
       "      <td>1</td>\n",
       "    </tr>\n",
       "    <tr>\n",
       "      <th>5</th>\n",
       "      <td>2019-10-17</td>\n",
       "      <td>2019-11-01</td>\n",
       "      <td>2019-10-17</td>\n",
       "      <td>-34.593779</td>\n",
       "      <td>-58.441239</td>\n",
       "      <td>Argentina</td>\n",
       "      <td>Capital Federal</td>\n",
       "      <td>Villa Crespo</td>\n",
       "      <td>2.0</td>\n",
       "      <td>1.0</td>\n",
       "      <td>...</td>\n",
       "      <td>56.0</td>\n",
       "      <td>150000.0</td>\n",
       "      <td>USD</td>\n",
       "      <td>Depto.tipo casa de 2 ambientes en Venta en Vil...</td>\n",
       "      <td>Excelente ph solo 2 unidades, no paga expensas...</td>\n",
       "      <td>PH</td>\n",
       "      <td>Venta</td>\n",
       "      <td>0</td>\n",
       "      <td>0</td>\n",
       "      <td>1</td>\n",
       "    </tr>\n",
       "    <tr>\n",
       "      <th>...</th>\n",
       "      <td>...</td>\n",
       "      <td>...</td>\n",
       "      <td>...</td>\n",
       "      <td>...</td>\n",
       "      <td>...</td>\n",
       "      <td>...</td>\n",
       "      <td>...</td>\n",
       "      <td>...</td>\n",
       "      <td>...</td>\n",
       "      <td>...</td>\n",
       "      <td>...</td>\n",
       "      <td>...</td>\n",
       "      <td>...</td>\n",
       "      <td>...</td>\n",
       "      <td>...</td>\n",
       "      <td>...</td>\n",
       "      <td>...</td>\n",
       "      <td>...</td>\n",
       "      <td>...</td>\n",
       "      <td>...</td>\n",
       "      <td>...</td>\n",
       "    </tr>\n",
       "    <tr>\n",
       "      <th>146542</th>\n",
       "      <td>2019-07-31</td>\n",
       "      <td>2020-01-17</td>\n",
       "      <td>2019-07-31</td>\n",
       "      <td>-34.578688</td>\n",
       "      <td>-58.435533</td>\n",
       "      <td>Argentina</td>\n",
       "      <td>Capital Federal</td>\n",
       "      <td>Palermo</td>\n",
       "      <td>2.0</td>\n",
       "      <td>1.0</td>\n",
       "      <td>...</td>\n",
       "      <td>80.0</td>\n",
       "      <td>170000.0</td>\n",
       "      <td>USD</td>\n",
       "      <td>A extrenar departamento en venta  en Palermo</td>\n",
       "      <td>Simpático departamento a estrenar en Palermo H...</td>\n",
       "      <td>Departamento</td>\n",
       "      <td>Venta</td>\n",
       "      <td>0</td>\n",
       "      <td>1</td>\n",
       "      <td>0</td>\n",
       "    </tr>\n",
       "    <tr>\n",
       "      <th>146543</th>\n",
       "      <td>2019-07-31</td>\n",
       "      <td>2019-08-14</td>\n",
       "      <td>2019-07-31</td>\n",
       "      <td>-34.581699</td>\n",
       "      <td>-58.433547</td>\n",
       "      <td>Argentina</td>\n",
       "      <td>Capital Federal</td>\n",
       "      <td>Palermo</td>\n",
       "      <td>3.0</td>\n",
       "      <td>2.0</td>\n",
       "      <td>...</td>\n",
       "      <td>81.0</td>\n",
       "      <td>225000.0</td>\n",
       "      <td>USD</td>\n",
       "      <td>Duplex 2 dormitorios super luminoso y amplio !</td>\n",
       "      <td>Para visitarlo contactar a Marta Cell: 0116153...</td>\n",
       "      <td>Departamento</td>\n",
       "      <td>Venta</td>\n",
       "      <td>0</td>\n",
       "      <td>1</td>\n",
       "      <td>0</td>\n",
       "    </tr>\n",
       "    <tr>\n",
       "      <th>146545</th>\n",
       "      <td>2019-07-31</td>\n",
       "      <td>2019-09-04</td>\n",
       "      <td>2019-07-31</td>\n",
       "      <td>-34.581425</td>\n",
       "      <td>-58.442707</td>\n",
       "      <td>Argentina</td>\n",
       "      <td>Capital Federal</td>\n",
       "      <td>Palermo</td>\n",
       "      <td>3.0</td>\n",
       "      <td>2.0</td>\n",
       "      <td>...</td>\n",
       "      <td>82.0</td>\n",
       "      <td>399000.0</td>\n",
       "      <td>USD</td>\n",
       "      <td>Palermo Hollywood - 3 Amb c/ dependencia y coc...</td>\n",
       "      <td>Exclusivo 3 ambientes c/depend., balcón al con...</td>\n",
       "      <td>Departamento</td>\n",
       "      <td>Venta</td>\n",
       "      <td>0</td>\n",
       "      <td>1</td>\n",
       "      <td>0</td>\n",
       "    </tr>\n",
       "    <tr>\n",
       "      <th>146549</th>\n",
       "      <td>2019-07-31</td>\n",
       "      <td>2019-10-12</td>\n",
       "      <td>2019-07-31</td>\n",
       "      <td>-34.576573</td>\n",
       "      <td>-58.434394</td>\n",
       "      <td>Argentina</td>\n",
       "      <td>Capital Federal</td>\n",
       "      <td>Palermo</td>\n",
       "      <td>3.0</td>\n",
       "      <td>2.0</td>\n",
       "      <td>...</td>\n",
       "      <td>84.0</td>\n",
       "      <td>178000.0</td>\n",
       "      <td>USD</td>\n",
       "      <td>Hermoso PH de 3 ambientes al frente muy lumisoso</td>\n",
       "      <td>Hermoso PH ubicado en el primer piso.al frente...</td>\n",
       "      <td>PH</td>\n",
       "      <td>Venta</td>\n",
       "      <td>0</td>\n",
       "      <td>0</td>\n",
       "      <td>1</td>\n",
       "    </tr>\n",
       "    <tr>\n",
       "      <th>146550</th>\n",
       "      <td>2019-07-31</td>\n",
       "      <td>2019-09-21</td>\n",
       "      <td>2019-07-31</td>\n",
       "      <td>NaN</td>\n",
       "      <td>NaN</td>\n",
       "      <td>Argentina</td>\n",
       "      <td>Capital Federal</td>\n",
       "      <td>Palermo</td>\n",
       "      <td>5.0</td>\n",
       "      <td>2.0</td>\n",
       "      <td>...</td>\n",
       "      <td>95.0</td>\n",
       "      <td>298000.0</td>\n",
       "      <td>USD</td>\n",
       "      <td>PH de diseño - 5 ambientes con Terraza  sobre ...</td>\n",
       "      <td>PH de diseño de 2 dormitorios con escritorio a...</td>\n",
       "      <td>PH</td>\n",
       "      <td>Venta</td>\n",
       "      <td>0</td>\n",
       "      <td>0</td>\n",
       "      <td>1</td>\n",
       "    </tr>\n",
       "  </tbody>\n",
       "</table>\n",
       "<p>70059 rows × 22 columns</p>\n",
       "</div>"
      ],
      "text/plain": [
       "        start_date    end_date  created_on        lat        lon         l1  \\\n",
       "0       2019-10-17  2019-12-23  2019-10-17 -34.605880 -58.384949  Argentina   \n",
       "1       2019-10-17  2019-11-21  2019-10-17 -34.624056 -58.412110  Argentina   \n",
       "2       2019-10-17  2019-11-01  2019-10-17 -34.593569 -58.427474  Argentina   \n",
       "3       2019-10-17  2019-12-23  2019-10-17 -34.581294 -58.436754  Argentina   \n",
       "5       2019-10-17  2019-11-01  2019-10-17 -34.593779 -58.441239  Argentina   \n",
       "...            ...         ...         ...        ...        ...        ...   \n",
       "146542  2019-07-31  2020-01-17  2019-07-31 -34.578688 -58.435533  Argentina   \n",
       "146543  2019-07-31  2019-08-14  2019-07-31 -34.581699 -58.433547  Argentina   \n",
       "146545  2019-07-31  2019-09-04  2019-07-31 -34.581425 -58.442707  Argentina   \n",
       "146549  2019-07-31  2019-10-12  2019-07-31 -34.576573 -58.434394  Argentina   \n",
       "146550  2019-07-31  2019-09-21  2019-07-31        NaN        NaN  Argentina   \n",
       "\n",
       "                     l2             l3  rooms  bedrooms  ...  surface_covered  \\\n",
       "0       Capital Federal  San Cristobal    7.0       7.0  ...            140.0   \n",
       "1       Capital Federal          Boedo    2.0       1.0  ...             58.0   \n",
       "2       Capital Federal        Palermo    2.0       1.0  ...             45.0   \n",
       "3       Capital Federal        Palermo    2.0       1.0  ...             50.0   \n",
       "5       Capital Federal   Villa Crespo    2.0       1.0  ...             56.0   \n",
       "...                 ...            ...    ...       ...  ...              ...   \n",
       "146542  Capital Federal        Palermo    2.0       1.0  ...             80.0   \n",
       "146543  Capital Federal        Palermo    3.0       2.0  ...             81.0   \n",
       "146545  Capital Federal        Palermo    3.0       2.0  ...             82.0   \n",
       "146549  Capital Federal        Palermo    3.0       2.0  ...             84.0   \n",
       "146550  Capital Federal        Palermo    5.0       2.0  ...             95.0   \n",
       "\n",
       "           price  currency                                              title  \\\n",
       "0       153000.0       USD        ***Venta semipiso centro, ideal hostel*****   \n",
       "1       159000.0       USD   Espectacular PH reciclado en Boedo sin expensas.   \n",
       "2       125000.0       USD  Depto.tipo casa de 2 ambientes en Venta en Pal...   \n",
       "3       295000.0       USD  COSTA RICA 5800 / PALERMO HOLLYWOOD / VENTA PH...   \n",
       "5       150000.0       USD  Depto.tipo casa de 2 ambientes en Venta en Vil...   \n",
       "...          ...       ...                                                ...   \n",
       "146542  170000.0       USD      A extrenar departamento en venta  en Palermo    \n",
       "146543  225000.0       USD     Duplex 2 dormitorios super luminoso y amplio !   \n",
       "146545  399000.0       USD  Palermo Hollywood - 3 Amb c/ dependencia y coc...   \n",
       "146549  178000.0       USD   Hermoso PH de 3 ambientes al frente muy lumisoso   \n",
       "146550  298000.0       USD  PH de diseño - 5 ambientes con Terraza  sobre ...   \n",
       "\n",
       "                                              description property_type  \\\n",
       "0       DESCRIPCION DE LA PROPIEDAD: Departamento de 1...  Departamento   \n",
       "1        PH reciclado en Boedo a una cuadra de la plaz...            PH   \n",
       "2       2 ambienets amplio , excelente estado , patio ...            PH   \n",
       "3       HERMOSO PH EN PALERMO!!!2 AMBIENTES TOTALMENTE...            PH   \n",
       "5       Excelente ph solo 2 unidades, no paga expensas...            PH   \n",
       "...                                                   ...           ...   \n",
       "146542  Simpático departamento a estrenar en Palermo H...  Departamento   \n",
       "146543  Para visitarlo contactar a Marta Cell: 0116153...  Departamento   \n",
       "146545  Exclusivo 3 ambientes c/depend., balcón al con...  Departamento   \n",
       "146549  Hermoso PH ubicado en el primer piso.al frente...            PH   \n",
       "146550  PH de diseño de 2 dormitorios con escritorio a...            PH   \n",
       "\n",
       "       operation_type property_type_Casa property_type_Departamento  \\\n",
       "0               Venta                  0                          1   \n",
       "1               Venta                  0                          0   \n",
       "2               Venta                  0                          0   \n",
       "3               Venta                  0                          0   \n",
       "5               Venta                  0                          0   \n",
       "...               ...                ...                        ...   \n",
       "146542          Venta                  0                          1   \n",
       "146543          Venta                  0                          1   \n",
       "146545          Venta                  0                          1   \n",
       "146549          Venta                  0                          0   \n",
       "146550          Venta                  0                          0   \n",
       "\n",
       "        property_type_PH  \n",
       "0                      0  \n",
       "1                      1  \n",
       "2                      1  \n",
       "3                      1  \n",
       "5                      1  \n",
       "...                  ...  \n",
       "146542                 0  \n",
       "146543                 0  \n",
       "146545                 0  \n",
       "146549                 1  \n",
       "146550                 1  \n",
       "\n",
       "[70059 rows x 22 columns]"
      ]
     },
     "execution_count": 8,
     "metadata": {},
     "output_type": "execute_result"
    }
   ],
   "source": [
    "concatenado_uno =pd.concat([proyecto,dummies], axis=1)\n",
    "concatenado_uno"
   ]
  },
  {
   "cell_type": "code",
   "execution_count": 9,
   "id": "senior-bruce",
   "metadata": {},
   "outputs": [
    {
     "data": {
      "text/html": [
       "<div>\n",
       "<style scoped>\n",
       "    .dataframe tbody tr th:only-of-type {\n",
       "        vertical-align: middle;\n",
       "    }\n",
       "\n",
       "    .dataframe tbody tr th {\n",
       "        vertical-align: top;\n",
       "    }\n",
       "\n",
       "    .dataframe thead th {\n",
       "        text-align: right;\n",
       "    }\n",
       "</style>\n",
       "<table border=\"1\" class=\"dataframe\">\n",
       "  <thead>\n",
       "    <tr style=\"text-align: right;\">\n",
       "      <th></th>\n",
       "      <th>rooms</th>\n",
       "      <th>bedrooms</th>\n",
       "      <th>bathrooms</th>\n",
       "      <th>surface_total</th>\n",
       "      <th>surface_covered</th>\n",
       "      <th>price</th>\n",
       "      <th>property_type_Casa</th>\n",
       "      <th>property_type_Departamento</th>\n",
       "      <th>property_type_PH</th>\n",
       "    </tr>\n",
       "  </thead>\n",
       "  <tbody>\n",
       "    <tr>\n",
       "      <th>0</th>\n",
       "      <td>7.0</td>\n",
       "      <td>7.0</td>\n",
       "      <td>2.0</td>\n",
       "      <td>140.0</td>\n",
       "      <td>140.0</td>\n",
       "      <td>153000.0</td>\n",
       "      <td>0</td>\n",
       "      <td>1</td>\n",
       "      <td>0</td>\n",
       "    </tr>\n",
       "    <tr>\n",
       "      <th>1</th>\n",
       "      <td>2.0</td>\n",
       "      <td>1.0</td>\n",
       "      <td>2.0</td>\n",
       "      <td>70.0</td>\n",
       "      <td>58.0</td>\n",
       "      <td>159000.0</td>\n",
       "      <td>0</td>\n",
       "      <td>0</td>\n",
       "      <td>1</td>\n",
       "    </tr>\n",
       "    <tr>\n",
       "      <th>2</th>\n",
       "      <td>2.0</td>\n",
       "      <td>1.0</td>\n",
       "      <td>1.0</td>\n",
       "      <td>45.0</td>\n",
       "      <td>45.0</td>\n",
       "      <td>125000.0</td>\n",
       "      <td>0</td>\n",
       "      <td>0</td>\n",
       "      <td>1</td>\n",
       "    </tr>\n",
       "    <tr>\n",
       "      <th>3</th>\n",
       "      <td>2.0</td>\n",
       "      <td>1.0</td>\n",
       "      <td>1.0</td>\n",
       "      <td>85.0</td>\n",
       "      <td>50.0</td>\n",
       "      <td>295000.0</td>\n",
       "      <td>0</td>\n",
       "      <td>0</td>\n",
       "      <td>1</td>\n",
       "    </tr>\n",
       "    <tr>\n",
       "      <th>5</th>\n",
       "      <td>2.0</td>\n",
       "      <td>1.0</td>\n",
       "      <td>1.0</td>\n",
       "      <td>56.0</td>\n",
       "      <td>56.0</td>\n",
       "      <td>150000.0</td>\n",
       "      <td>0</td>\n",
       "      <td>0</td>\n",
       "      <td>1</td>\n",
       "    </tr>\n",
       "    <tr>\n",
       "      <th>...</th>\n",
       "      <td>...</td>\n",
       "      <td>...</td>\n",
       "      <td>...</td>\n",
       "      <td>...</td>\n",
       "      <td>...</td>\n",
       "      <td>...</td>\n",
       "      <td>...</td>\n",
       "      <td>...</td>\n",
       "      <td>...</td>\n",
       "    </tr>\n",
       "    <tr>\n",
       "      <th>146542</th>\n",
       "      <td>2.0</td>\n",
       "      <td>1.0</td>\n",
       "      <td>1.0</td>\n",
       "      <td>80.0</td>\n",
       "      <td>80.0</td>\n",
       "      <td>170000.0</td>\n",
       "      <td>0</td>\n",
       "      <td>1</td>\n",
       "      <td>0</td>\n",
       "    </tr>\n",
       "    <tr>\n",
       "      <th>146543</th>\n",
       "      <td>3.0</td>\n",
       "      <td>2.0</td>\n",
       "      <td>2.0</td>\n",
       "      <td>85.0</td>\n",
       "      <td>81.0</td>\n",
       "      <td>225000.0</td>\n",
       "      <td>0</td>\n",
       "      <td>1</td>\n",
       "      <td>0</td>\n",
       "    </tr>\n",
       "    <tr>\n",
       "      <th>146545</th>\n",
       "      <td>3.0</td>\n",
       "      <td>2.0</td>\n",
       "      <td>2.0</td>\n",
       "      <td>88.0</td>\n",
       "      <td>82.0</td>\n",
       "      <td>399000.0</td>\n",
       "      <td>0</td>\n",
       "      <td>1</td>\n",
       "      <td>0</td>\n",
       "    </tr>\n",
       "    <tr>\n",
       "      <th>146549</th>\n",
       "      <td>3.0</td>\n",
       "      <td>2.0</td>\n",
       "      <td>1.0</td>\n",
       "      <td>84.0</td>\n",
       "      <td>84.0</td>\n",
       "      <td>178000.0</td>\n",
       "      <td>0</td>\n",
       "      <td>0</td>\n",
       "      <td>1</td>\n",
       "    </tr>\n",
       "    <tr>\n",
       "      <th>146550</th>\n",
       "      <td>5.0</td>\n",
       "      <td>2.0</td>\n",
       "      <td>2.0</td>\n",
       "      <td>114.0</td>\n",
       "      <td>95.0</td>\n",
       "      <td>298000.0</td>\n",
       "      <td>0</td>\n",
       "      <td>0</td>\n",
       "      <td>1</td>\n",
       "    </tr>\n",
       "  </tbody>\n",
       "</table>\n",
       "<p>70059 rows × 9 columns</p>\n",
       "</div>"
      ],
      "text/plain": [
       "        rooms  bedrooms  bathrooms  surface_total  surface_covered     price  \\\n",
       "0         7.0       7.0        2.0          140.0            140.0  153000.0   \n",
       "1         2.0       1.0        2.0           70.0             58.0  159000.0   \n",
       "2         2.0       1.0        1.0           45.0             45.0  125000.0   \n",
       "3         2.0       1.0        1.0           85.0             50.0  295000.0   \n",
       "5         2.0       1.0        1.0           56.0             56.0  150000.0   \n",
       "...       ...       ...        ...            ...              ...       ...   \n",
       "146542    2.0       1.0        1.0           80.0             80.0  170000.0   \n",
       "146543    3.0       2.0        2.0           85.0             81.0  225000.0   \n",
       "146545    3.0       2.0        2.0           88.0             82.0  399000.0   \n",
       "146549    3.0       2.0        1.0           84.0             84.0  178000.0   \n",
       "146550    5.0       2.0        2.0          114.0             95.0  298000.0   \n",
       "\n",
       "        property_type_Casa  property_type_Departamento  property_type_PH  \n",
       "0                        0                           1                 0  \n",
       "1                        0                           0                 1  \n",
       "2                        0                           0                 1  \n",
       "3                        0                           0                 1  \n",
       "5                        0                           0                 1  \n",
       "...                    ...                         ...               ...  \n",
       "146542                   0                           1                 0  \n",
       "146543                   0                           1                 0  \n",
       "146545                   0                           1                 0  \n",
       "146549                   0                           0                 1  \n",
       "146550                   0                           0                 1  \n",
       "\n",
       "[70059 rows x 9 columns]"
      ]
     },
     "execution_count": 9,
     "metadata": {},
     "output_type": "execute_result"
    }
   ],
   "source": [
    "proyecto_uno = concatenado_uno.drop(columns = ['start_date', 'end_date', 'lat', 'lon', 'currency','title', 'description', 'operation_type', 'l1', 'created_on', 'property_type', 'l2','l3'])\n",
    "proyecto_uno"
   ]
  },
  {
   "cell_type": "markdown",
   "id": "lasting-accuracy",
   "metadata": {},
   "source": [
    "Una vez que rellene los datos con los que voy a trabajar, filtro de nuevo el dataset y selecciono los tipos de propiedades, superficies y valores con los que voy a trabajar"
   ]
  },
  {
   "cell_type": "markdown",
   "id": "accessory-devil",
   "metadata": {},
   "source": [
    "Realizamos una serie de graficos para ver y analizar los outliers"
   ]
  },
  {
   "cell_type": "code",
   "execution_count": 10,
   "id": "unauthorized-matthew",
   "metadata": {},
   "outputs": [
    {
     "data": {
      "text/plain": [
       "Text(0.5, 1.0, 'Distribución de la variable Price:')"
      ]
     },
     "execution_count": 10,
     "metadata": {},
     "output_type": "execute_result"
    },
    {
     "data": {
      "image/png": "[encoded data removed]",
      "text/plain": [
       "<Figure size 1440x720 with 5 Axes>"
      ]
     },
     "metadata": {
      "needs_background": "light"
     },
     "output_type": "display_data"
    }
   ],
   "source": [
    "plt.figure(figsize =(20,10))\n",
    "\n",
    "plt.subplot(9,1,1)\n",
    "\n",
    "sns.boxplot(data= proyecto_uno, x='bedrooms')\n",
    "plt.title('Distribución de la variable Bedrooms:')\n",
    "\n",
    "plt.subplot(9,1,3)\n",
    "\n",
    "sns.boxplot(data= proyecto_uno, x='bathrooms')\n",
    "plt.title('Distribución de la variable Bathrooms:')\n",
    "\n",
    "plt.subplot(9,1,5)\n",
    "\n",
    "sns.boxplot(data= proyecto_uno, x='surface_total')\n",
    "plt.title('Distribución de la variable  Surface_total:')\n",
    "\n",
    "plt.subplot(9,1,7)\n",
    "\n",
    "sns.boxplot(data= proyecto_uno, x='surface_covered')\n",
    "plt.title('Distribución de la variable  Surface_covered:')\n",
    "\n",
    "plt.subplot(9,1,9)\n",
    "\n",
    "sns.boxplot(data= proyecto_uno, x='price')\n",
    "plt.title('Distribución de la variable Price:')"
   ]
  },
  {
   "cell_type": "markdown",
   "id": "handy-suspect",
   "metadata": {},
   "source": [
    "Para quitar los outliers, voy a utilizar la regla de tres sigmas (en el proyecto anterior utilice rango intercuartilico)"
   ]
  },
  {
   "cell_type": "code",
   "execution_count": 11,
   "id": "friendly-notification",
   "metadata": {},
   "outputs": [],
   "source": [
    "from scipy.stats import zscore\n",
    "\n",
    "zscore_precio = zscore(proyecto_uno['price'])\n",
    "zscore_suptot = zscore(proyecto_uno['surface_total'])\n",
    "zscore_supcub = zscore(proyecto_uno['surface_covered'])\n",
    "filtro_zscore = (abs(zscore_precio)>3) |  (abs(zscore_suptot)>3) | (abs(zscore_supcub)>3)\n",
    "proyecto_dos= proyecto_uno[~filtro_zscore]"
   ]
  },
  {
   "cell_type": "code",
   "execution_count": 12,
   "id": "extra-entry",
   "metadata": {},
   "outputs": [
    {
     "data": {
      "text/plain": [
       "(69947, 9)"
      ]
     },
     "execution_count": 12,
     "metadata": {},
     "output_type": "execute_result"
    }
   ],
   "source": [
    "proyecto_dos.shape"
   ]
  },
  {
   "cell_type": "markdown",
   "id": "ready-booking",
   "metadata": {},
   "source": [
    "Volvemos a graficar para ver la nueva distribución"
   ]
  },
  {
   "cell_type": "code",
   "execution_count": 13,
   "id": "effective-italy",
   "metadata": {},
   "outputs": [
    {
     "data": {
      "text/plain": [
       "Text(0.5, 1.0, 'Distribución de la variable Price:')"
      ]
     },
     "execution_count": 13,
     "metadata": {},
     "output_type": "execute_result"
    },
    {
     "data": {
      "image/png": "[encoded data removed]",
      "text/plain": [
       "<Figure size 1440x720 with 5 Axes>"
      ]
     },
     "metadata": {
      "needs_background": "light"
     },
     "output_type": "display_data"
    }
   ],
   "source": [
    "plt.figure(figsize =(20,10))\n",
    "\n",
    "plt.subplot(9,1,1)\n",
    "\n",
    "sns.boxplot(data= proyecto_dos, x='bedrooms')\n",
    "plt.title('Distribución de la variable Bedrooms:')\n",
    "\n",
    "plt.subplot(9,1,3)\n",
    "\n",
    "sns.boxplot(data= proyecto_dos, x='bathrooms')\n",
    "plt.title('Distribución de la variable Bathrooms:')\n",
    "\n",
    "plt.subplot(9,1,5)\n",
    "\n",
    "sns.boxplot(data= proyecto_dos, x='surface_total')\n",
    "plt.title('Distribución de la variable  Surface_total:')\n",
    "\n",
    "plt.subplot(9,1,7)\n",
    "\n",
    "sns.boxplot(data= proyecto_dos, x='surface_covered')\n",
    "plt.title('Distribución de la variable  Surface_covered:')\n",
    "\n",
    "plt.subplot(9,1,9)\n",
    "\n",
    "sns.boxplot(data= proyecto_dos, x='price')\n",
    "plt.title('Distribución de la variable Price:')"
   ]
  },
  {
   "cell_type": "markdown",
   "id": "hairy-president",
   "metadata": {},
   "source": [
    "Definimos X e y y estandarizamos los datos"
   ]
  },
  {
   "cell_type": "code",
   "execution_count": 14,
   "id": "helpful-insurance",
   "metadata": {},
   "outputs": [],
   "source": [
    "X = proyecto_dos[['rooms', 'bedrooms', 'bathrooms', 'surface_total', 'surface_covered']] \n",
    "y = proyecto_dos['price']"
   ]
  },
  {
   "cell_type": "code",
   "execution_count": 15,
   "id": "wooden-opposition",
   "metadata": {},
   "outputs": [],
   "source": [
    "from sklearn.model_selection import train_test_split\n",
    "\n",
    "X_train, X_test, y_train, y_test = train_test_split(X, y, test_size=0.2, random_state=1)"
   ]
  },
  {
   "cell_type": "code",
   "execution_count": 16,
   "id": "activated-adult",
   "metadata": {},
   "outputs": [
    {
     "data": {
      "text/plain": [
       "array([[-0.70896597, -0.89343343, -0.5948332 , -0.58720037, -0.64283709],\n",
       "       [-0.70896597, -0.89343343, -0.5948332 , -0.46365492, -0.46335207],\n",
       "       [ 0.18619195,  0.16753417,  1.04337339, -0.05771987,  0.12638445],\n",
       "       ...,\n",
       "       [ 1.9765078 ,  2.28946938, -0.5948332 ,  0.91299437,  1.6135461 ],\n",
       "       [-0.70896597, -0.89343343, -0.5948332 , -0.53425232, -0.61719638],\n",
       "       [ 0.18619195,  0.16753417, -0.5948332 , -0.14596662, -0.15566345]])"
      ]
     },
     "execution_count": 16,
     "metadata": {},
     "output_type": "execute_result"
    }
   ],
   "source": [
    "from sklearn.preprocessing import StandardScaler \n",
    "\n",
    "scl = StandardScaler()\n",
    "X_train_scaler = scl.fit_transform(X_train)\n",
    "X_train_scaler"
   ]
  },
  {
   "cell_type": "code",
   "execution_count": null,
   "id": "exceptional-extension",
   "metadata": {},
   "outputs": [],
   "source": []
  },
  {
   "cell_type": "code",
   "execution_count": 17,
   "id": "outer-applicant",
   "metadata": {},
   "outputs": [
    {
     "data": {
      "text/plain": [
       "(1.0640935228246045e-17, 1.0)"
      ]
     },
     "execution_count": 17,
     "metadata": {},
     "output_type": "execute_result"
    }
   ],
   "source": [
    "np.mean(X_train_scaler),np.std(X_train_scaler) #media y desviacion estandar"
   ]
  },
  {
   "cell_type": "code",
   "execution_count": 18,
   "id": "closing-phrase",
   "metadata": {},
   "outputs": [
    {
     "data": {
      "text/plain": [
       "(55957, 5)"
      ]
     },
     "execution_count": 18,
     "metadata": {},
     "output_type": "execute_result"
    }
   ],
   "source": [
    "X_train_scaler.shape"
   ]
  },
  {
   "cell_type": "markdown",
   "id": "boxed-bargain",
   "metadata": {},
   "source": [
    "# Entrenando Arboles"
   ]
  },
  {
   "cell_type": "markdown",
   "id": "solved-phenomenon",
   "metadata": {},
   "source": [
    "Entrenamos nuevamente el Arbol de decision con los datos sin escalar y lo vamos a comparar el entrenamiento sobre los datos escalados\n"
   ]
  },
  {
   "cell_type": "markdown",
   "id": "bridal-surname",
   "metadata": {},
   "source": [
    "voy a usar el mejor modelo del proyecto "
   ]
  },
  {
   "cell_type": "code",
   "execution_count": 19,
   "id": "dried-monster",
   "metadata": {},
   "outputs": [],
   "source": [
    "from sklearn.tree import DecisionTreeRegressor\n",
    "from sklearn.linear_model import LinearRegression\n",
    "from sklearn.metrics import mean_squared_error"
   ]
  },
  {
   "cell_type": "markdown",
   "id": "spare-contamination",
   "metadata": {},
   "source": [
    "Árbol de decision con datos escalados"
   ]
  },
  {
   "cell_type": "code",
   "execution_count": 20,
   "id": "opening-validity",
   "metadata": {},
   "outputs": [
    {
     "name": "stdout",
     "output_type": "stream",
     "text": [
      "La raíz de error medio cuadrático en Train es:52026.96705940015 \n",
      "La raíz de error medio cuadrático en Test es:51768.422937243384 \n"
     ]
    }
   ],
   "source": [
    "X_train_dt = X_train\n",
    "X_test_dt = X_test\n",
    "y_train_dt =y_train\n",
    "y_test_dt =y_test\n",
    "\n",
    "tree = DecisionTreeRegressor(max_depth =3) #La profundidad del árbol es 3\n",
    "tree.fit (X_train_dt,y_train_dt)\n",
    "\n",
    "y_train_dt_pred = tree.predict(X_train_dt)\n",
    "y_test_dt_pred =tree.predict(X_test_dt)\n",
    "\n",
    "rmse_train_dt =np.sqrt(mean_squared_error(y_train_dt, y_train_dt_pred))\n",
    "rmse_test_dt =np.sqrt(mean_squared_error(y_test_dt, y_test_dt_pred))\n",
    "print(f'La raíz de error medio cuadrático en Train es:{rmse_train_dt} ')\n",
    "print(f'La raíz de error medio cuadrático en Test es:{rmse_test_dt} ')"
   ]
  },
  {
   "cell_type": "markdown",
   "id": "still-disorder",
   "metadata": {},
   "source": [
    "comparando el resultado del modelo con los datos escalados al del proyecto , podemos ver que con las nuevas decisiones tomadas el mismo funciona mejor, no tiende tanto al overfitting. \n",
    "Aunque el numero de arboles optimo sigue siendo el 11, el modelo funciona mucho mejor. "
   ]
  },
  {
   "cell_type": "code",
   "execution_count": null,
   "id": "ahead-courtesy",
   "metadata": {},
   "outputs": [],
   "source": []
  },
  {
   "cell_type": "markdown",
   "id": "extended-diabetes",
   "metadata": {},
   "source": [
    "**PARTE B - Modelos Avanzados**\n",
    "\n",
    "6- Elige dos de los modelos avanzados vistos (en el caso de regresión, considera una regresión lineal con atributos polinómicos y regularización). Entrénalos y evalúalos con sus argumentos por defecto. No te olvides de hacer un train/test split y usar Validación Cruzada.\n",
    "\n",
    "7- Optimiza sus hiperparámetros mediante Validación Cruzada y Grid Search o Random Search.\n",
    "\n",
    "8- Compara el desempeño de los nuevos modelos entre sí y con el modelo de la Parte A. ¿Cuál elegirías? Justifica."
   ]
  },
  {
   "cell_type": "markdown",
   "id": "modular-situation",
   "metadata": {},
   "source": [
    "Vamos a utilizar validacion cruzada\n",
    "\n",
    "Redefinimos nuevamente las variables\n"
   ]
  },
  {
   "cell_type": "code",
   "execution_count": 21,
   "id": "separated-purchase",
   "metadata": {},
   "outputs": [],
   "source": [
    "X = proyecto_dos[['rooms', 'bedrooms', 'bathrooms', 'surface_total', 'surface_covered']] \n",
    "y = proyecto_dos['price']"
   ]
  },
  {
   "cell_type": "code",
   "execution_count": 22,
   "id": "photographic-primary",
   "metadata": {},
   "outputs": [],
   "source": [
    "from sklearn.ensemble import RandomForestRegressor\n",
    "from sklearn.model_selection import ShuffleSplit\n",
    "from sklearn.model_selection import cross_val_score\n",
    "from sklearn.model_selection import GridSearchCV\n",
    "from sklearn.metrics import classification_report\n",
    "from sklearn.svm import SVC"
   ]
  },
  {
   "cell_type": "code",
   "execution_count": 23,
   "id": "willing-tournament",
   "metadata": {},
   "outputs": [],
   "source": [
    "\n",
    "def entrena_modelo(X_train, X_test, y_train, y_test, modelo):\n",
    "    \n",
    "    #Entrenamos el modelo y predecimos y_train e y_test:\n",
    "    modelo.fit(X_train, y_train)\n",
    "    y_train_pred = modelo.predict(X_train)\n",
    "    y_test_pred = modelo.predict(X_test)\n",
    "    \n",
    "    #Imprimimos las metricas consideradas para evaluar el modelo:\n",
    "    rmse_train = np.sqrt(mean_squared_error(y_train, y_train_pred))\n",
    "    rmse_test = np.sqrt(mean_squared_error(y_test, y_test_pred))\n",
    "    r2 = modelo.score(X_test, y_test)\n",
    "    print(f'Score de modelo: {r2}')\n",
    "    print(f'Raiz del error cuadrático medio en Train: {rmse_train}')\n",
    "    print(f'Raiz del error cuadrático medio en Test: {rmse_test}')\n",
    "    \n",
    "    #Graficamos la distribucion de errores:\n",
    "    plt.figure(figsize = (15,6))\n",
    "    plt.subplot(1,2,1)\n",
    "    sns.distplot(y_train - y_train_pred, bins = 20, label = 'train')\n",
    "    sns.distplot(y_test - y_test_pred, bins = 20, label = 'test')\n",
    "    plt.xlabel('errores')\n",
    "    plt.legend()\n",
    "\n",
    "    ax = plt.subplot(1,2,2)\n",
    "    plt.scatter(y_test,y_test_pred, s =2)    \n",
    "    lims = [\n",
    "    np.min([ax.get_xlim(), ax.get_ylim()]),  # min of both axes\n",
    "    np.max([ax.get_xlim(), ax.get_ylim()]),  # max of both axes]\n",
    "    ]    \n",
    "    ax.plot(lims, lims, 'k-', alpha=0.75, zorder=0)\n",
    "    plt.xlabel('y (test)')\n",
    "    plt.ylabel('y_pred (test)')\n",
    "    \n",
    "    plt.tight_layout()\n",
    "    plt.show()\n",
    "    \n",
    "\n",
    "    return rmse_train,rmse_test,r2"
   ]
  },
  {
   "cell_type": "markdown",
   "id": "frozen-traveler",
   "metadata": {},
   "source": [
    "Entrenamos el modelo Random Forest con sus hiperparámetros por default, utilizando train_test_split para ver la performance."
   ]
  },
  {
   "cell_type": "code",
   "execution_count": 24,
   "id": "variable-edmonton",
   "metadata": {},
   "outputs": [],
   "source": [
    "X_train4, X_test4, y_train4, y_test4 = train_test_split(X, y, test_size=0.2, random_state=42)"
   ]
  },
  {
   "cell_type": "code",
   "execution_count": 25,
   "id": "stopped-syria",
   "metadata": {},
   "outputs": [],
   "source": [
    "modelo4 = RandomForestRegressor()"
   ]
  },
  {
   "cell_type": "code",
   "execution_count": 26,
   "id": "valuable-tuning",
   "metadata": {},
   "outputs": [
    {
     "name": "stdout",
     "output_type": "stream",
     "text": [
      "Score de modelo: 0.7454183994933147\n",
      "Raiz del error cuadrático medio en Train: 32813.352291756484\n",
      "Raiz del error cuadrático medio en Test: 41624.20343338495\n"
     ]
    },
    {
     "name": "stderr",
     "output_type": "stream",
     "text": [
      "C:\\Users\\Juli\\miniconda3\\lib\\site-packages\\seaborn\\distributions.py:2557: FutureWarning: `distplot` is a deprecated function and will be removed in a future version. Please adapt your code to use either `displot` (a figure-level function with similar flexibility) or `histplot` (an axes-level function for histograms).\n",
      "  warnings.warn(msg, FutureWarning)\n",
      "C:\\Users\\Juli\\miniconda3\\lib\\site-packages\\seaborn\\distributions.py:2557: FutureWarning: `distplot` is a deprecated function and will be removed in a future version. Please adapt your code to use either `displot` (a figure-level function with similar flexibility) or `histplot` (an axes-level function for histograms).\n",
      "  warnings.warn(msg, FutureWarning)\n"
     ]
    },
    {
     "data": {
      "image/png": "[encoded data removed]",
      "text/plain": [
       "<Figure size 1080x432 with 2 Axes>"
      ]
     },
     "metadata": {
      "needs_background": "light"
     },
     "output_type": "display_data"
    }
   ],
   "source": [
    "rmse_train_4,rmse_test_4,score4 = entrena_modelo(X_train4, X_test4, y_train4, y_test4, modelo4)"
   ]
  },
  {
   "cell_type": "code",
   "execution_count": 62,
   "id": "innovative-variable",
   "metadata": {},
   "outputs": [
    {
     "data": {
      "text/plain": [
       "RandomForestRegressor()"
      ]
     },
     "execution_count": 62,
     "metadata": {},
     "output_type": "execute_result"
    }
   ],
   "source": [
    "modelo4"
   ]
  },
  {
   "cell_type": "markdown",
   "id": "announced-safety",
   "metadata": {},
   "source": [
    "Trataremos de buscar los mejores hiperparámetros para entrenar el modelo, agregando también validación cruzada con 5 pliegues y evaluaremos su performance:"
   ]
  },
  {
   "cell_type": "code",
   "execution_count": 63,
   "id": "worst-glenn",
   "metadata": {},
   "outputs": [],
   "source": [
    "X_train5, X_test5, y_train5, y_test5 = train_test_split(X, y, test_size=0.2, random_state=42)"
   ]
  },
  {
   "cell_type": "code",
   "execution_count": 110,
   "id": "allied-resident",
   "metadata": {},
   "outputs": [],
   "source": [
    "from sklearn.model_selection import RandomizedSearchCV\n",
    "from pprint import pprint\n",
    "\n",
    "n_estimators = [100,]\n",
    "max_depth = [50,]\n",
    "\n",
    "\n",
    "random_grid = {'n_estimators': n_estimators,\n",
    "               'max_depth': max_depth}"
   ]
  },
  {
   "cell_type": "code",
   "execution_count": 111,
   "id": "unlikely-mathematics",
   "metadata": {},
   "outputs": [],
   "source": [
    "modelo5 = GridSearchCV(RandomForestRegressor(),param_grid = random_grid)"
   ]
  },
  {
   "cell_type": "code",
   "execution_count": 112,
   "id": "religious-footage",
   "metadata": {},
   "outputs": [
    {
     "name": "stdout",
     "output_type": "stream",
     "text": [
      "Score de modelo: 0.7445438029125993\n",
      "Raiz del error cuadrático medio en Train: 32815.408595436464\n",
      "Raiz del error cuadrático medio en Test: 41695.64059412502\n"
     ]
    },
    {
     "name": "stderr",
     "output_type": "stream",
     "text": [
      "C:\\Users\\Juli\\miniconda3\\lib\\site-packages\\seaborn\\distributions.py:2557: FutureWarning: `distplot` is a deprecated function and will be removed in a future version. Please adapt your code to use either `displot` (a figure-level function with similar flexibility) or `histplot` (an axes-level function for histograms).\n",
      "  warnings.warn(msg, FutureWarning)\n",
      "C:\\Users\\Juli\\miniconda3\\lib\\site-packages\\seaborn\\distributions.py:2557: FutureWarning: `distplot` is a deprecated function and will be removed in a future version. Please adapt your code to use either `displot` (a figure-level function with similar flexibility) or `histplot` (an axes-level function for histograms).\n",
      "  warnings.warn(msg, FutureWarning)\n"
     ]
    },
    {
     "data": {
      "image/png": "[encoded data removed]",
      "text/plain": [
       "<Figure size 1080x432 with 2 Axes>"
      ]
     },
     "metadata": {
      "needs_background": "light"
     },
     "output_type": "display_data"
    }
   ],
   "source": [
    "rmse_train_5,rmse_test_5,score5 = entrena_modelo(X_train5, X_test5, y_train5, y_test5, modelo5)"
   ]
  },
  {
   "cell_type": "code",
   "execution_count": 113,
   "id": "arctic-walnut",
   "metadata": {},
   "outputs": [
    {
     "name": "stdout",
     "output_type": "stream",
     "text": [
      "Los mejores parametros son: {'max_depth': 50, 'n_estimators': 100}\n"
     ]
    }
   ],
   "source": [
    "best_params =  modelo5.best_params_\n",
    "print (f'Los mejores parametros son: {best_params}')"
   ]
  },
  {
   "cell_type": "markdown",
   "id": "moral-place",
   "metadata": {},
   "source": [
    "lasso"
   ]
  },
  {
   "cell_type": "code",
   "execution_count": 114,
   "id": "satisfactory-senator",
   "metadata": {},
   "outputs": [],
   "source": [
    "from sklearn.preprocessing import PolynomialFeatures"
   ]
  },
  {
   "cell_type": "code",
   "execution_count": null,
   "id": "ruled-heaven",
   "metadata": {},
   "outputs": [],
   "source": []
  },
  {
   "cell_type": "code",
   "execution_count": 126,
   "id": "wireless-cricket",
   "metadata": {
    "colab": {},
    "colab_type": "code",
    "id": "Bu-B1r7zeBaT"
   },
   "outputs": [],
   "source": [
    "def evaluar_regresion(model,X,y, X_train, X_test, y_train, y_test):\n",
    "    \n",
    "    y_train_pred = model.predict(X_train)\n",
    "    y_test_pred = model.predict(X_test)\n",
    "    \n",
    "    ### CALCULAMOS EL ERROR\n",
    "    rmse_train = np.sqrt(mean_squared_error(y_train, y_train_pred))\n",
    "    rmse_test = np.sqrt(mean_squared_error(y_test, y_test_pred))\n",
    "\n",
    "    print(f'Raíz del error cuadrático medio en Train: {rmse_train}')\n",
    "    print(f'Raíz del error cuadrático medio en Test: {rmse_test}')\n"
   ]
  },
  {
   "cell_type": "code",
   "execution_count": 127,
   "id": "intense-summit",
   "metadata": {},
   "outputs": [
    {
     "name": "stdout",
     "output_type": "stream",
     "text": [
      "Raíz del error cuadrático medio en Train: 85494.16992292456\n",
      "Raíz del error cuadrático medio en Test: 49114934730.39845\n"
     ]
    }
   ],
   "source": [
    "poly = PolynomialFeatures(degree = 7, include_bias=False) ### ACA TENDRAS QUE MODIFICAR MAS ADELANTE\n",
    "X_train_new = poly.fit_transform(X_train)\n",
    "X_test_new = poly.fit_transform(X_test)\n",
    "\n",
    "reg_2 = LinearRegression()\n",
    "reg_2.fit(X_train_new, y_train)\n",
    "\n",
    "evaluar_regresion(reg_2, X,y, X_train_new, X_test_new, y_train, y_test)"
   ]
  },
  {
   "cell_type": "code",
   "execution_count": 128,
   "id": "cognitive-ability",
   "metadata": {},
   "outputs": [],
   "source": [
    "from sklearn.linear_model import Ridge, Lasso"
   ]
  },
  {
   "cell_type": "code",
   "execution_count": 129,
   "id": "affiliated-third",
   "metadata": {},
   "outputs": [
    {
     "name": "stdout",
     "output_type": "stream",
     "text": [
      "[ 2.05448003e+04  1.91190737e+04  3.13587375e+04  1.45874255e+03\n",
      "  1.75484807e+03 -4.67414322e+03 -3.24137334e+03 -9.96313221e+03\n",
      " -6.77916243e+01  8.45091519e+01 -2.88327425e+03 -4.99299380e+03\n",
      " -2.15411153e+02  1.31833159e+02  1.35450565e+04 -1.03143970e+02\n",
      "  1.80287748e+01 -2.16056383e+00 -2.33405975e+00  2.91498905e-01\n",
      "  7.41340987e+02  4.31021348e+02  3.13679092e+02  3.43946778e+00\n",
      " -9.82543003e+00 -1.32790058e+02  4.98373063e+02  2.47148598e+00\n",
      " -9.05696172e+00  2.01522944e+03  2.19489847e+01 -3.16588394e+01\n",
      " -3.13400499e-02 -6.48127249e-01 -1.08157350e-01  1.00087386e+02\n",
      " -4.89645368e+02  1.94430097e+01 -5.71610358e+00  6.49135231e+02\n",
      "  4.77709357e+01 -2.90729439e+01  3.71619750e-01 -3.78289446e-01\n",
      "  4.72578429e-02 -9.32620470e+02  3.41278795e+01 -4.13879353e+01\n",
      "  3.48386720e-01 -2.72040619e-01  1.71949036e-01  6.32159097e-04\n",
      "  8.05411956e-04  4.05796777e-05 -9.87584646e-06 -4.27481774e+01\n",
      " -8.03802832e+00 -2.15940114e+01  4.70719073e-01  2.62667261e-02\n",
      "  5.85869929e+00 -1.47169093e+01  1.23701304e-01  4.20706960e-01\n",
      " -1.46617980e+01  5.64086784e-01  5.69994982e-01 -1.85763327e-02\n",
      "  1.38499806e-02 -6.33648991e-03  1.00533467e+01 -5.98950161e+01\n",
      "  1.15077428e-01  1.04160746e+00 -5.08930616e+01  1.12940075e+00\n",
      "  1.50034582e+00 -2.25236618e-02  1.25971002e-02 -9.65011052e-03\n",
      "  3.43928919e+01  1.82469104e+00  1.87882800e+00 -8.45413408e-02\n",
      "  4.29065438e-02 -4.41051909e-02  1.89220652e-06  3.66553605e-04\n",
      " -1.53645461e-05 -5.87785409e-05  1.42530025e+01 -2.07195536e+02\n",
      "  7.84799834e-03  1.72363584e+00 -1.65250584e+02  2.46104780e+00\n",
      "  1.58859182e+00 -3.54984682e-03 -3.61762259e-03 -1.64483885e-02\n",
      " -6.97375879e+01  4.63695241e+00  2.35995672e+00 -4.58484766e-02\n",
      "  1.09179297e-02 -5.69428467e-02 -2.18908260e-05  1.65969907e-04\n",
      " -4.32246844e-05 -5.99132566e-05 -1.18532026e+02  6.20185714e+00\n",
      " -4.98984412e+00 -8.38025082e-02 -1.00499298e-01 -1.89893980e-01\n",
      "  1.87086890e-05  1.07987478e-04 -7.54389811e-05 -6.49051099e-05\n",
      " -3.94942588e-08 -1.23282318e-08 -4.12527425e-09 -2.22705030e-09\n",
      " -2.56811813e-09  8.09471196e-01  3.71864747e-01 -8.87947726e-01\n",
      "  3.51216268e-02 -1.01947616e-02  9.93304487e-01  2.53506382e+00\n",
      "  1.26880285e-02 -3.16352958e-03 -3.08399378e+00  1.62854114e-01\n",
      " -9.53804939e-02  2.54618718e-03 -1.32657660e-03 -5.68614929e-04\n",
      " -1.25899301e+00  3.48220771e+00 -4.02006793e-02  3.67303042e-02\n",
      "  8.35437613e+00  1.11540671e-01 -3.49878215e-02  2.54313372e-03\n",
      " -1.95425885e-03 -6.96198927e-04 -1.46559715e+01  4.68329826e-01\n",
      "  9.25283904e-02  4.95758184e-03 -2.62096672e-03 -2.58589818e-03\n",
      "  4.80300656e-05  5.02027379e-05  4.90472215e-06 -1.30191013e-05\n",
      " -6.33290292e+00 -3.93374018e+00 -2.40160268e-01  1.67772146e-01\n",
      "  1.41171748e+01 -3.00899608e-01  2.79496620e-01 -2.80762827e-03\n",
      " -4.49024091e-04  9.47675959e-05  2.28647660e+01 -3.16098009e-02\n",
      "  8.15690849e-01 -3.99629056e-03  1.46514557e-03 -8.00075235e-04\n",
      "  1.28181482e-05  6.62377048e-05 -8.66439172e-07 -2.15213525e-05\n",
      " -9.43887896e+01 -3.47339650e-01  1.55112698e+00 -1.74841812e-02\n",
      "  1.11725900e-02  2.66721506e-03 -1.37801270e-05  1.31846514e-04\n",
      "  2.85417797e-05 -4.73963894e-05 -3.06893277e-08 -5.15887095e-08\n",
      "  2.06708093e-09 -4.38526932e-09 -9.17996392e-09  3.34830499e+00\n",
      " -6.49252124e+00 -2.49679071e-01  2.39661502e-01 -1.22965144e+00\n",
      " -2.66940273e-01  3.40467692e-01 -1.41593395e-03 -1.72681250e-03\n",
      "  3.90712850e-04  9.83386263e+00  1.06115145e-01  6.88961795e-01\n",
      "  3.53550384e-03 -5.22369772e-03 -2.57626684e-03  5.97185660e-05\n",
      "  2.99008833e-05 -9.76967408e-06 -3.06129087e-05 -1.17528807e+02\n",
      " -4.89019779e-01  2.00704372e+00 -1.52718358e-02  9.95552488e-03\n",
      "  5.50629338e-03  2.15738499e-05  1.15628890e-04  4.02068722e-05\n",
      " -4.71720605e-05 -3.43097144e-08 -4.33066662e-08  2.81109178e-09\n",
      " -4.66208112e-09 -8.85810852e-09 -2.86315340e+01 -5.83288533e-01\n",
      "  6.74839654e-01 -1.64454277e-02 -1.38367254e-03 -9.22801964e-03\n",
      "  5.90983645e-05  6.60151957e-05  5.22845571e-05 -5.66084722e-05\n",
      " -1.14160171e-08 -2.20327687e-08  3.22946898e-09 -1.90804371e-09\n",
      " -5.26590019e-09 -9.55109655e-13 -8.16272852e-12  2.13096122e-14\n",
      " -7.21596964e-14 -2.74794813e-13 -3.89182283e-13 -2.74505759e-02\n",
      " -2.86668062e-01  1.16841069e-01 -7.99229949e-04 -3.27729032e-04\n",
      "  5.61540172e-02  1.59548852e-01 -1.44622682e-03 -2.71874761e-05\n",
      " -3.08601971e-01 -1.12482892e-03 -2.65009436e-03  2.75301014e-05\n",
      " -6.48721281e-06  3.99006965e-07  1.51566606e-01  3.22811164e-01\n",
      " -3.27790054e-03  1.18060796e-03  3.96085501e-01 -5.18366230e-03\n",
      " -1.73842295e-03 -2.76615059e-05 -6.84187437e-07  1.09333096e-05\n",
      " -2.33772639e+00 -9.36913583e-03  1.23414598e-02 -2.20600422e-04\n",
      "  1.20481047e-04  1.12694734e-05  2.07704092e-07  1.51646557e-06\n",
      "  9.45018514e-07 -1.75184458e-08  1.21782699e-01  3.91914191e-01\n",
      " -6.95196503e-03  4.36791690e-03  1.06754981e+00 -1.05225018e-02\n",
      "  1.15140821e-03 -1.59725234e-04  6.98446269e-06  3.28956071e-05\n",
      "  1.39495299e+00 -1.72628383e-02  2.27788508e-02 -4.97507504e-04\n",
      "  8.64883125e-05  1.02356546e-05 -9.32864096e-07  2.23358544e-06\n",
      "  1.26939504e-06 -7.00915296e-08 -7.63913143e+00 -4.28584609e-02\n",
      "  1.25930250e-01 -2.02417176e-03  1.22657011e-03  4.06952984e-04\n",
      " -3.49100656e-06  7.18431381e-06  9.53682685e-06  1.55052032e-07\n",
      "  3.87774202e-10 -2.12029605e-08  2.24211786e-08  1.72747926e-09\n",
      " -8.79276588e-09  1.11313336e-01  2.66138170e-01 -6.83286547e-03\n",
      "  8.53211548e-03  6.84877570e-01 -2.97696493e-03  8.05688447e-04\n",
      " -1.79368907e-04 -6.63085024e-05  4.60819615e-05  2.73682661e+00\n",
      "  8.02486000e-03  3.17013649e-03 -6.75345205e-05 -5.42642597e-04\n",
      " -2.17845374e-04  2.09362838e-06 -4.42668270e-07 -1.40273656e-07\n",
      " -8.88082562e-07 -2.33692332e+00  5.88541460e-03  9.69928790e-02\n",
      " -1.02209052e-03  1.18271365e-04  7.02073155e-05  2.07875375e-06\n",
      "  5.97140771e-06  9.04593572e-06 -1.68063528e-06 -5.03455992e-09\n",
      " -2.44920762e-08  1.50259886e-08 -3.30282375e-09 -1.20698820e-08\n",
      " -1.24641451e+01  1.88791271e-03  1.70806275e-01 -1.49483619e-03\n",
      "  1.48255114e-03  1.21569582e-03  1.65529786e-06  2.32055849e-06\n",
      "  4.26595985e-05  6.14863069e-06  4.61398268e-09 -1.77921039e-08\n",
      "  3.52740212e-08  8.96589582e-09 -9.23724871e-09  1.42968410e-12\n",
      " -1.20374307e-11  2.21157200e-12  2.68158861e-13 -8.26036442e-13\n",
      " -1.46396191e-12 -8.46198641e-02 -1.34996973e-01 -8.39934810e-03\n",
      "  1.29075955e-02 -3.60313155e-01 -5.13792033e-03  9.21927546e-03\n",
      " -2.22623414e-04 -8.72320786e-06  1.73053646e-04  4.39633892e-01\n",
      " -1.29589973e-03  3.38361436e-03  9.81877554e-05 -9.06415552e-04\n",
      " -2.64095480e-04  3.63038875e-06 -7.36281981e-07 -1.25945093e-06\n",
      " -1.39262341e-06 -1.68546107e-01 -1.43992138e-02  7.01996722e-02\n",
      " -5.86889752e-04 -7.19231188e-04 -2.49444737e-04  5.18256191e-06\n",
      "  1.07185636e-05  8.45188521e-06 -4.36953599e-06 -1.79645641e-08\n",
      " -6.12512878e-09  9.71397001e-09 -7.25443745e-09 -1.43547653e-08\n",
      " -1.35321050e+01 -5.21496633e-02  1.63995173e-01 -1.11623178e-03\n",
      "  3.68915248e-04  5.94986374e-04  5.60781299e-06  1.01673941e-05\n",
      "  5.03258289e-05  6.72519499e-07  1.30019212e-09  1.51443933e-09\n",
      "  2.72875066e-08  3.51477336e-09 -9.68657226e-09  1.35049737e-12\n",
      " -9.15460046e-12  1.67179639e-12 -3.32797850e-14 -8.98089520e-13\n",
      " -1.38982856e-12  7.79914846e+00 -2.37857055e-01  5.80651459e-02\n",
      " -1.89776472e-03  1.81893379e-03 -1.32048402e-03  1.22664858e-06\n",
      " -5.83917130e-06  3.05353454e-05 -5.37059493e-05  7.86827764e-09\n",
      "  8.09572860e-09  1.68780876e-08  1.13285236e-09 -9.89766189e-09\n",
      " -7.56372880e-13 -2.22115481e-12  1.08530579e-12  1.81026589e-13\n",
      " -3.59656377e-13 -6.75434316e-13 -1.64639616e-16 -7.48743834e-16\n",
      "  1.67648928e-17  5.73756928e-18 -2.86204234e-17 -4.65580809e-17\n",
      " -5.99657299e-17  1.90919007e-03 -1.20163824e-02  7.60784721e-03\n",
      "  3.26331391e-05 -3.48446312e-05 -9.08654838e-03  1.46053180e-02\n",
      "  1.16334451e-04 -6.15383955e-05 -3.34047646e-02  2.88909547e-04\n",
      " -3.79745668e-04  2.12192958e-06 -6.48363977e-07 -2.34501180e-07\n",
      " -1.39142116e-02  3.03554130e-02  1.75679408e-04 -9.14956498e-05\n",
      "  9.77569447e-03  3.63564999e-04 -6.67055675e-04  1.50516210e-06\n",
      " -1.02847071e-06 -2.36995554e-07 -1.08310861e-01  1.32026393e-04\n",
      " -1.85535742e-03 -7.89942521e-07 -1.84183512e-06 -2.66639605e-06\n",
      " -2.40828281e-08  7.00989076e-08  4.01548768e-08  1.34619703e-08\n",
      " -1.37325304e-02  4.28070117e-02  2.11935229e-04 -7.71133350e-05\n",
      "  5.05921346e-02  5.56768960e-04 -9.77345094e-04 -1.33976021e-06\n",
      " -1.47122169e-06  5.55685048e-08  1.19087052e-01  1.58310880e-04\n",
      " -2.58110074e-03 -1.40642786e-05 -6.01737860e-06 -4.86962115e-06\n",
      " -1.34756039e-07  1.43190573e-07  8.20264800e-08  3.62737977e-08\n",
      " -1.94434238e-01 -5.72837578e-03 -8.08680042e-04 -1.63342845e-04\n",
      "  5.80345384e-05  6.38548712e-06 -1.08455220e-06  8.64225568e-07\n",
      "  5.48978906e-07  1.68660028e-07 -4.02954104e-09  2.99530656e-10\n",
      "  4.12007701e-09  1.56114260e-09  3.30960231e-11 -1.75062958e-03\n",
      "  4.56219275e-02  4.83030419e-04  4.33126377e-07  3.26790494e-02\n",
      "  1.65388841e-03 -1.39987497e-03  6.83298386e-07 -5.20993586e-06\n",
      " -1.75330138e-07  1.78429178e-01  2.90303003e-03 -4.54857795e-03\n",
      "  4.53263537e-06 -4.18594060e-05 -1.94219211e-05 -5.84873726e-08\n",
      "  2.89303196e-08  6.73612481e-08  4.73304780e-08  5.09006907e-01\n",
      "  9.15741285e-04 -6.57631169e-03 -7.97891768e-05 -7.10272093e-05\n",
      " -4.46110590e-05 -3.91732799e-07  7.83858270e-08  4.16914119e-07\n",
      "  1.52009726e-07 -2.74312461e-09 -4.07147490e-09  3.89006561e-09\n",
      "  1.42091943e-09 -3.33090027e-10  6.50991529e-01  8.98962184e-03\n",
      " -6.45470935e-03 -2.82866893e-05 -8.93537147e-05 -5.31806407e-05\n",
      " -2.19846621e-07 -1.50173192e-06  2.21366238e-06  8.18366716e-07\n",
      "  2.87347084e-09 -2.11070328e-08  1.59658253e-08  1.20710304e-08\n",
      "  3.43408790e-10  3.55792227e-12 -2.50880774e-11  5.70494900e-12\n",
      "  1.94371820e-12 -1.41254535e-12 -3.49396351e-12 -1.86139876e-02\n",
      "  2.79707526e-02  1.09225768e-03  2.33187094e-04 -9.15075726e-02\n",
      "  3.63172472e-03 -1.44922318e-03  2.27050302e-05 -9.40294827e-06\n",
      "  1.90016416e-06 -2.39142462e-01  6.72993744e-03 -5.81233245e-03\n",
      "  7.18817861e-05 -1.00711208e-04 -3.90802086e-05  3.43170880e-07\n",
      " -3.09857217e-07 -1.30571373e-08  7.25164748e-08  3.91105719e-01\n",
      "  8.19031859e-03 -1.16044060e-02  1.01997215e-04 -2.71378873e-04\n",
      " -1.17139847e-04  1.16991282e-06 -1.44498593e-06 -1.47634686e-07\n",
      "  5.01122955e-08 -2.86152340e-09 -3.46971692e-09  1.96548092e-09\n",
      "  4.05519970e-10 -1.06947208e-09  1.29797348e+00  1.42953920e-02\n",
      " -1.21315951e-02  2.47208631e-04 -3.92239274e-04 -1.40941340e-04\n",
      "  1.34418183e-06 -3.10811743e-06  1.51190755e-06  8.02380324e-07\n",
      "  1.25040637e-09 -9.36546321e-09  1.64902067e-08  1.16344859e-08\n",
      " -1.50119726e-09  2.67561207e-13 -7.24005952e-12  4.06745896e-12\n",
      "  3.75053782e-13 -2.21792734e-12 -3.88443662e-12 -1.05183098e+00\n",
      "  7.57006981e-03 -3.77103427e-03  4.01681246e-04 -8.62847235e-05\n",
      "  2.51449791e-05  2.38799931e-07 -5.43209426e-06  3.88479399e-06\n",
      "  2.87550763e-07  2.92184765e-09 -1.79652251e-08  1.70778961e-08\n",
      "  2.39714968e-08 -5.99891156e-09  9.31453975e-13  6.22773418e-12\n",
      "  3.50813239e-12  1.71038551e-12 -3.02483646e-13 -1.85604697e-12\n",
      " -2.95309470e-16  6.55275999e-16  2.12867393e-16  2.91940838e-17\n",
      " -9.61613119e-17 -1.78050710e-16 -2.44448981e-16 -6.08152841e-03\n",
      " -2.16078093e-02  7.30481599e-04  4.72608783e-04 -1.15201480e-01\n",
      "  3.54931787e-03 -6.49350319e-04  2.63364661e-05  3.88277795e-06\n",
      "  1.62530099e-05 -5.62511688e-01  6.63064772e-03 -4.16182978e-03\n",
      "  7.40147676e-05 -9.97202628e-05 -2.51189881e-05  1.92424148e-07\n",
      " -2.48465141e-07  1.09325639e-07  2.83838639e-07  4.30359290e-02\n",
      "  7.00138768e-03 -9.29927092e-03  8.19713518e-05 -2.90810270e-04\n",
      " -1.06415110e-04  1.16499771e-06 -2.08819206e-06 -4.76179621e-07\n",
      "  2.11352168e-07 -6.21142364e-09 -4.33700919e-09 -1.44259378e-10\n",
      " -9.27702425e-10 -1.84520537e-09  2.20136982e+00  1.75560431e-02\n",
      " -1.54486979e-02  4.51377678e-04 -5.40184445e-04 -1.88521885e-04\n",
      "  2.46251451e-06 -3.77136664e-06  7.96527254e-07  6.40727221e-07\n",
      "  1.29851709e-10 -4.37991429e-09  1.41535524e-08  6.99829337e-09\n",
      " -4.63679605e-09 -2.76719214e-12 -4.84847663e-12  2.62791353e-12\n",
      " -4.20828613e-13 -2.26015810e-12 -3.44447520e-12 -2.18662032e+00\n",
      " -1.65502019e-03  1.58600863e-03  5.70486123e-04 -1.06226245e-04\n",
      " -1.98414823e-05  8.25076852e-07 -5.02616483e-06  3.89909412e-06\n",
      " -1.84810814e-06  2.59851328e-09 -1.18216808e-08  2.16505361e-08\n",
      "  1.43209341e-08 -1.06904146e-08  1.34373403e-12  3.11139415e-12\n",
      "  3.17839596e-12  9.30556480e-13 -6.08482771e-13 -1.65543371e-12\n",
      " -2.38689403e-16  3.10546489e-16  1.94173830e-16  1.05695282e-17\n",
      " -9.33761032e-17 -1.54702963e-16 -2.04187340e-16  5.58822855e+00\n",
      " -2.94413089e-02 -1.44822089e-03  9.82596104e-04  1.11202264e-03\n",
      " -7.67797002e-05 -1.27242385e-06 -2.70421543e-06  6.32943511e-06\n",
      " -2.04353514e-05  1.75360621e-10 -2.02769392e-08 -9.57630828e-10\n",
      " -3.57870442e-09 -2.64969657e-08  3.93811297e-12  1.39200514e-11\n",
      "  1.71130191e-12  5.21750073e-13 -5.79035750e-13 -1.41840865e-12\n",
      " -1.06050444e-15  1.47455603e-15  1.14005723e-16  3.48724025e-17\n",
      " -2.51770468e-17 -6.11625352e-17 -8.83410253e-17 -1.15473093e-19\n",
      "  3.24607488e-20 -4.21150164e-21  1.33201862e-21 -2.71696599e-21\n",
      " -4.85180740e-21 -6.38828725e-21 -7.85480293e-21] -58269.28625799835\n"
     ]
    },
    {
     "name": "stderr",
     "output_type": "stream",
     "text": [
      "C:\\Users\\Juli\\miniconda3\\lib\\site-packages\\sklearn\\linear_model\\_coordinate_descent.py:530: ConvergenceWarning: Objective did not converge. You might want to increase the number of iterations. Duality gap: 70279622641490.47, tolerance: 37840784659.710075\n",
      "  model = cd_fast.enet_coordinate_descent(\n"
     ]
    }
   ],
   "source": [
    "reg_lasso = Lasso(alpha = 0.001)\n",
    "reg_lasso.fit(X_train_new,y_train)\n",
    "print(reg_lasso.coef_, reg_lasso.intercept_)"
   ]
  },
  {
   "cell_type": "code",
   "execution_count": 130,
   "id": "cloudy-supervisor",
   "metadata": {},
   "outputs": [
    {
     "name": "stdout",
     "output_type": "stream",
     "text": [
      "Raíz del error cuadrático medio en Train: 50119.009078162475\n",
      "Raíz del error cuadrático medio en Test: 802595.0340359234\n"
     ]
    }
   ],
   "source": [
    "evaluar_regresion(reg_lasso, X,y, X_train_new, X_test_new, y_train, y_test)"
   ]
  },
  {
   "cell_type": "code",
   "execution_count": null,
   "id": "surrounded-wings",
   "metadata": {},
   "outputs": [],
   "source": []
  }
 ],
 "metadata": {
  "kernelspec": {
   "display_name": "Python 3",
   "language": "python",
   "name": "python3"
  },
  "language_info": {
   "codemirror_mode": {
    "name": "ipython",
    "version": 3
   },
   "file_extension": ".py",
   "mimetype": "text/x-python",
   "name": "python",
   "nbconvert_exporter": "python",
   "pygments_lexer": "ipython3",
   "version": "3.8.5"
  }
 },
 "nbformat": 4,
 "nbformat_minor": 5
}
