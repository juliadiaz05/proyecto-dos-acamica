{
 "cells": [
  {
   "cell_type": "markdown",
   "id": "processed-graphics",
   "metadata": {},
   "source": [
    "# Proyecto 2: Ingeniería de features, Modelos avanzados e Interpretación de modelos."
   ]
  },
  {
   "cell_type": "markdown",
   "id": "latter-dispute",
   "metadata": {},
   "source": [
    "**PARTE A - Transformación de Datos**\n",
    "\n",
    "Elige cuáles de las siguientes tareas son apropiadas para su dataset. Justifica e implementa al menostres de las transformaciones de datos propuestas:\n",
    "\n",
    "1- Detección y eliminación de Outliers\n",
    "\n",
    "2- Encoding\n",
    "\n",
    "3- Imputación de valores faltantes\n",
    "\n",
    "4- Escalado de datos\n",
    "\n",
    "5- Generación de nuevas variables predictoras/reducción de dimensionalidad (SVD/PCA).\n",
    "\n",
    "Vuelve a entrenar el modelo implementado en la Entrega 01 - en particular, el árbol de decisión - y evalúa su desempeño a partir del dataset obtenido luego de transformar los datos. ¿Hay una mejora en su desempeño? Sea cual sea la respuesta, intenta explicar a qué se debe"
   ]
  },
  {
   "cell_type": "code",
   "execution_count": 1,
   "id": "roman-viking",
   "metadata": {},
   "outputs": [],
   "source": [
    "#imporamos las librerias con las que vamos a trabajar en la parte A\n",
    "import numpy as np  \n",
    "import pandas as pd\n",
    "import matplotlib.pyplot as plt\n",
    "import seaborn as sns"
   ]
  },
  {
   "cell_type": "code",
   "execution_count": 2,
   "id": "posted-madness",
   "metadata": {},
   "outputs": [
    {
     "data": {
      "text/html": [
       "<div>\n",
       "<style scoped>\n",
       "    .dataframe tbody tr th:only-of-type {\n",
       "        vertical-align: middle;\n",
       "    }\n",
       "\n",
       "    .dataframe tbody tr th {\n",
       "        vertical-align: top;\n",
       "    }\n",
       "\n",
       "    .dataframe thead th {\n",
       "        text-align: right;\n",
       "    }\n",
       "</style>\n",
       "<table border=\"1\" class=\"dataframe\">\n",
       "  <thead>\n",
       "    <tr style=\"text-align: right;\">\n",
       "      <th></th>\n",
       "      <th>start_date</th>\n",
       "      <th>end_date</th>\n",
       "      <th>created_on</th>\n",
       "      <th>lat</th>\n",
       "      <th>lon</th>\n",
       "      <th>l1</th>\n",
       "      <th>l2</th>\n",
       "      <th>l3</th>\n",
       "      <th>rooms</th>\n",
       "      <th>bedrooms</th>\n",
       "      <th>bathrooms</th>\n",
       "      <th>surface_total</th>\n",
       "      <th>surface_covered</th>\n",
       "      <th>price</th>\n",
       "      <th>currency</th>\n",
       "      <th>title</th>\n",
       "      <th>description</th>\n",
       "      <th>property_type</th>\n",
       "      <th>operation_type</th>\n",
       "    </tr>\n",
       "  </thead>\n",
       "  <tbody>\n",
       "    <tr>\n",
       "      <th>0</th>\n",
       "      <td>2019-10-17</td>\n",
       "      <td>2019-12-23</td>\n",
       "      <td>2019-10-17</td>\n",
       "      <td>-34.605880</td>\n",
       "      <td>-58.384949</td>\n",
       "      <td>Argentina</td>\n",
       "      <td>Capital Federal</td>\n",
       "      <td>San Cristobal</td>\n",
       "      <td>7.0</td>\n",
       "      <td>7.0</td>\n",
       "      <td>2.0</td>\n",
       "      <td>140.0</td>\n",
       "      <td>140.0</td>\n",
       "      <td>153000.0</td>\n",
       "      <td>USD</td>\n",
       "      <td>***Venta semipiso centro, ideal hostel*****</td>\n",
       "      <td>DESCRIPCION DE LA PROPIEDAD: Departamento de 1...</td>\n",
       "      <td>Departamento</td>\n",
       "      <td>Venta</td>\n",
       "    </tr>\n",
       "    <tr>\n",
       "      <th>1</th>\n",
       "      <td>2019-10-17</td>\n",
       "      <td>2019-11-21</td>\n",
       "      <td>2019-10-17</td>\n",
       "      <td>-34.624056</td>\n",
       "      <td>-58.412110</td>\n",
       "      <td>Argentina</td>\n",
       "      <td>Capital Federal</td>\n",
       "      <td>Boedo</td>\n",
       "      <td>2.0</td>\n",
       "      <td>1.0</td>\n",
       "      <td>2.0</td>\n",
       "      <td>70.0</td>\n",
       "      <td>58.0</td>\n",
       "      <td>159000.0</td>\n",
       "      <td>USD</td>\n",
       "      <td>Espectacular PH reciclado en Boedo sin expensas.</td>\n",
       "      <td>PH reciclado en Boedo a una cuadra de la plaz...</td>\n",
       "      <td>PH</td>\n",
       "      <td>Venta</td>\n",
       "    </tr>\n",
       "    <tr>\n",
       "      <th>2</th>\n",
       "      <td>2019-10-17</td>\n",
       "      <td>2019-11-01</td>\n",
       "      <td>2019-10-17</td>\n",
       "      <td>-34.593569</td>\n",
       "      <td>-58.427474</td>\n",
       "      <td>Argentina</td>\n",
       "      <td>Capital Federal</td>\n",
       "      <td>Palermo</td>\n",
       "      <td>2.0</td>\n",
       "      <td>1.0</td>\n",
       "      <td>1.0</td>\n",
       "      <td>45.0</td>\n",
       "      <td>45.0</td>\n",
       "      <td>125000.0</td>\n",
       "      <td>USD</td>\n",
       "      <td>Depto.tipo casa de 2 ambientes en Venta en Pal...</td>\n",
       "      <td>2 ambienets amplio , excelente estado , patio ...</td>\n",
       "      <td>PH</td>\n",
       "      <td>Venta</td>\n",
       "    </tr>\n",
       "    <tr>\n",
       "      <th>3</th>\n",
       "      <td>2019-10-17</td>\n",
       "      <td>2019-12-23</td>\n",
       "      <td>2019-10-17</td>\n",
       "      <td>-34.581294</td>\n",
       "      <td>-58.436754</td>\n",
       "      <td>Argentina</td>\n",
       "      <td>Capital Federal</td>\n",
       "      <td>Palermo</td>\n",
       "      <td>2.0</td>\n",
       "      <td>1.0</td>\n",
       "      <td>1.0</td>\n",
       "      <td>85.0</td>\n",
       "      <td>50.0</td>\n",
       "      <td>295000.0</td>\n",
       "      <td>USD</td>\n",
       "      <td>COSTA RICA 5800 / PALERMO HOLLYWOOD / VENTA PH...</td>\n",
       "      <td>HERMOSO PH EN PALERMO!!!2 AMBIENTES TOTALMENTE...</td>\n",
       "      <td>PH</td>\n",
       "      <td>Venta</td>\n",
       "    </tr>\n",
       "    <tr>\n",
       "      <th>4</th>\n",
       "      <td>2019-10-17</td>\n",
       "      <td>2020-03-11</td>\n",
       "      <td>2019-10-17</td>\n",
       "      <td>-34.914194</td>\n",
       "      <td>-57.938219</td>\n",
       "      <td>Argentina</td>\n",
       "      <td>Bs.As. G.B.A. Zona Sur</td>\n",
       "      <td>La Plata</td>\n",
       "      <td>2.0</td>\n",
       "      <td>1.0</td>\n",
       "      <td>1.0</td>\n",
       "      <td>50.0</td>\n",
       "      <td>35.0</td>\n",
       "      <td>40000.0</td>\n",
       "      <td>USD</td>\n",
       "      <td>58 entre 1 y 2  Venta de departamento en ph.1 ...</td>\n",
       "      <td>58 entre 1 y 2  Venta de departamento en PH. P...</td>\n",
       "      <td>PH</td>\n",
       "      <td>Venta</td>\n",
       "    </tr>\n",
       "  </tbody>\n",
       "</table>\n",
       "</div>"
      ],
      "text/plain": [
       "   start_date    end_date  created_on        lat        lon         l1  \\\n",
       "0  2019-10-17  2019-12-23  2019-10-17 -34.605880 -58.384949  Argentina   \n",
       "1  2019-10-17  2019-11-21  2019-10-17 -34.624056 -58.412110  Argentina   \n",
       "2  2019-10-17  2019-11-01  2019-10-17 -34.593569 -58.427474  Argentina   \n",
       "3  2019-10-17  2019-12-23  2019-10-17 -34.581294 -58.436754  Argentina   \n",
       "4  2019-10-17  2020-03-11  2019-10-17 -34.914194 -57.938219  Argentina   \n",
       "\n",
       "                       l2             l3  rooms  bedrooms  bathrooms  \\\n",
       "0         Capital Federal  San Cristobal    7.0       7.0        2.0   \n",
       "1         Capital Federal          Boedo    2.0       1.0        2.0   \n",
       "2         Capital Federal        Palermo    2.0       1.0        1.0   \n",
       "3         Capital Federal        Palermo    2.0       1.0        1.0   \n",
       "4  Bs.As. G.B.A. Zona Sur       La Plata    2.0       1.0        1.0   \n",
       "\n",
       "   surface_total  surface_covered     price currency  \\\n",
       "0          140.0            140.0  153000.0      USD   \n",
       "1           70.0             58.0  159000.0      USD   \n",
       "2           45.0             45.0  125000.0      USD   \n",
       "3           85.0             50.0  295000.0      USD   \n",
       "4           50.0             35.0   40000.0      USD   \n",
       "\n",
       "                                               title  \\\n",
       "0        ***Venta semipiso centro, ideal hostel*****   \n",
       "1   Espectacular PH reciclado en Boedo sin expensas.   \n",
       "2  Depto.tipo casa de 2 ambientes en Venta en Pal...   \n",
       "3  COSTA RICA 5800 / PALERMO HOLLYWOOD / VENTA PH...   \n",
       "4  58 entre 1 y 2  Venta de departamento en ph.1 ...   \n",
       "\n",
       "                                         description property_type  \\\n",
       "0  DESCRIPCION DE LA PROPIEDAD: Departamento de 1...  Departamento   \n",
       "1   PH reciclado en Boedo a una cuadra de la plaz...            PH   \n",
       "2  2 ambienets amplio , excelente estado , patio ...            PH   \n",
       "3  HERMOSO PH EN PALERMO!!!2 AMBIENTES TOTALMENTE...            PH   \n",
       "4  58 entre 1 y 2  Venta de departamento en PH. P...            PH   \n",
       "\n",
       "  operation_type  \n",
       "0          Venta  \n",
       "1          Venta  \n",
       "2          Venta  \n",
       "3          Venta  \n",
       "4          Venta  "
      ]
     },
     "execution_count": 2,
     "metadata": {},
     "output_type": "execute_result"
    }
   ],
   "source": [
    "proyecto = pd.read_csv('DS_Proyecto_01_Datos_Properati.csv') #importamos el dataset \n",
    "proyecto.head()"
   ]
  },
  {
   "cell_type": "code",
   "execution_count": 3,
   "id": "automated-organization",
   "metadata": {},
   "outputs": [
    {
     "data": {
      "text/plain": [
       "start_date             0\n",
       "end_date               0\n",
       "created_on             0\n",
       "lat                 9925\n",
       "lon                 9959\n",
       "l1                     0\n",
       "l2                     0\n",
       "l3                     0\n",
       "rooms                  0\n",
       "bedrooms               0\n",
       "bathrooms           5957\n",
       "surface_total      20527\n",
       "surface_covered    21614\n",
       "price                  0\n",
       "currency               0\n",
       "title                  0\n",
       "description            0\n",
       "property_type          0\n",
       "operation_type         0\n",
       "dtype: int64"
      ]
     },
     "execution_count": 3,
     "metadata": {},
     "output_type": "execute_result"
    }
   ],
   "source": [
    "proyecto.isna().sum()"
   ]
  },
  {
   "cell_type": "code",
   "execution_count": 4,
   "id": "sacred-profile",
   "metadata": {},
   "outputs": [
    {
     "name": "stdout",
     "output_type": "stream",
     "text": [
      "<class 'pandas.core.frame.DataFrame'>\n",
      "RangeIndex: 146660 entries, 0 to 146659\n",
      "Data columns (total 19 columns):\n",
      " #   Column           Non-Null Count   Dtype  \n",
      "---  ------           --------------   -----  \n",
      " 0   start_date       146660 non-null  object \n",
      " 1   end_date         146660 non-null  object \n",
      " 2   created_on       146660 non-null  object \n",
      " 3   lat              136735 non-null  float64\n",
      " 4   lon              136701 non-null  float64\n",
      " 5   l1               146660 non-null  object \n",
      " 6   l2               146660 non-null  object \n",
      " 7   l3               146660 non-null  object \n",
      " 8   rooms            146660 non-null  float64\n",
      " 9   bedrooms         146660 non-null  float64\n",
      " 10  bathrooms        140703 non-null  float64\n",
      " 11  surface_total    126133 non-null  float64\n",
      " 12  surface_covered  125046 non-null  float64\n",
      " 13  price            146660 non-null  float64\n",
      " 14  currency         146660 non-null  object \n",
      " 15  title            146660 non-null  object \n",
      " 16  description      146660 non-null  object \n",
      " 17  property_type    146660 non-null  object \n",
      " 18  operation_type   146660 non-null  object \n",
      "dtypes: float64(8), object(11)\n",
      "memory usage: 21.3+ MB\n"
     ]
    }
   ],
   "source": [
    "proyecto.info()"
   ]
  },
  {
   "cell_type": "code",
   "execution_count": null,
   "id": "prime-bubble",
   "metadata": {},
   "outputs": [],
   "source": [
    "\n",
    "#nprop = proyecto.property_type.isin(['Departamento', 'Casa', 'PH'])\n",
    "#nsup=(proyecto['surface_total']>=proyecto['surface_covered'])\n",
    "#nprecio= proyecto['price']<=400000\n",
    "#ncap= proyecto['l2']=='Capital Federal'\n",
    "#nban= proyecto['bathrooms']<=5\n",
    "\n",
    "        \n",
    "#proyecto=proyecto[nprop & nsup & nprecio & ncap & nban]\n",
    "#proyecto.shape\n",
    "\n"
   ]
  },
  {
   "cell_type": "code",
   "execution_count": null,
   "id": "absent-venice",
   "metadata": {},
   "outputs": [],
   "source": []
  },
  {
   "cell_type": "markdown",
   "id": "postal-realtor",
   "metadata": {},
   "source": [
    "En primer lugar, voy a sacar las columnas con las que no voy a trabajar.\n",
    "Voy a reemplazar datos faltantes de bathrooms por con el valor 1 ya que todas las casas tienen como minimo un baño. Adicionalmente, voy a reemplazar los datos faltantes de Superficie total y cubierta por la media"
   ]
  },
  {
   "cell_type": "code",
   "execution_count": 5,
   "id": "cultural-burner",
   "metadata": {},
   "outputs": [],
   "source": [
    "proyecto ['bathrooms'] = proyecto['bathrooms'].fillna(1)"
   ]
  },
  {
   "cell_type": "code",
   "execution_count": 6,
   "id": "mental-elizabeth",
   "metadata": {},
   "outputs": [],
   "source": [
    "proyecto [ 'surface_covered'] = proyecto ['surface_covered'].fillna(proyecto['surface_covered'].mean())"
   ]
  },
  {
   "cell_type": "code",
   "execution_count": 7,
   "id": "included-choir",
   "metadata": {},
   "outputs": [],
   "source": [
    "proyecto [ 'surface_total'] = proyecto ['surface_total'].fillna(proyecto['surface_total'].mean())"
   ]
  },
  {
   "cell_type": "code",
   "execution_count": 8,
   "id": "facial-spouse",
   "metadata": {},
   "outputs": [
    {
     "data": {
      "text/plain": [
       "start_date            0\n",
       "end_date              0\n",
       "created_on            0\n",
       "lat                9925\n",
       "lon                9959\n",
       "l1                    0\n",
       "l2                    0\n",
       "l3                    0\n",
       "rooms                 0\n",
       "bedrooms              0\n",
       "bathrooms             0\n",
       "surface_total         0\n",
       "surface_covered       0\n",
       "price                 0\n",
       "currency              0\n",
       "title                 0\n",
       "description           0\n",
       "property_type         0\n",
       "operation_type        0\n",
       "dtype: int64"
      ]
     },
     "execution_count": 8,
     "metadata": {},
     "output_type": "execute_result"
    }
   ],
   "source": [
    "proyecto.isna().sum()"
   ]
  },
  {
   "cell_type": "code",
   "execution_count": 9,
   "id": "extra-description",
   "metadata": {},
   "outputs": [
    {
     "data": {
      "text/html": [
       "<div>\n",
       "<style scoped>\n",
       "    .dataframe tbody tr th:only-of-type {\n",
       "        vertical-align: middle;\n",
       "    }\n",
       "\n",
       "    .dataframe tbody tr th {\n",
       "        vertical-align: top;\n",
       "    }\n",
       "\n",
       "    .dataframe thead th {\n",
       "        text-align: right;\n",
       "    }\n",
       "</style>\n",
       "<table border=\"1\" class=\"dataframe\">\n",
       "  <thead>\n",
       "    <tr style=\"text-align: right;\">\n",
       "      <th></th>\n",
       "      <th>lat</th>\n",
       "      <th>lon</th>\n",
       "      <th>rooms</th>\n",
       "      <th>bedrooms</th>\n",
       "      <th>bathrooms</th>\n",
       "      <th>surface_total</th>\n",
       "      <th>surface_covered</th>\n",
       "      <th>price</th>\n",
       "    </tr>\n",
       "  </thead>\n",
       "  <tbody>\n",
       "    <tr>\n",
       "      <th>count</th>\n",
       "      <td>136735.000000</td>\n",
       "      <td>136701.000000</td>\n",
       "      <td>146660.000000</td>\n",
       "      <td>146660.000000</td>\n",
       "      <td>146660.000000</td>\n",
       "      <td>146660.000000</td>\n",
       "      <td>146660.000000</td>\n",
       "      <td>1.466600e+05</td>\n",
       "    </tr>\n",
       "    <tr>\n",
       "      <th>mean</th>\n",
       "      <td>-34.604896</td>\n",
       "      <td>-58.465304</td>\n",
       "      <td>3.079817</td>\n",
       "      <td>1.983240</td>\n",
       "      <td>1.575624</td>\n",
       "      <td>216.872888</td>\n",
       "      <td>112.818011</td>\n",
       "      <td>2.412211e+05</td>\n",
       "    </tr>\n",
       "    <tr>\n",
       "      <th>std</th>\n",
       "      <td>0.468428</td>\n",
       "      <td>0.486190</td>\n",
       "      <td>1.416352</td>\n",
       "      <td>1.151304</td>\n",
       "      <td>0.879091</td>\n",
       "      <td>1889.638072</td>\n",
       "      <td>846.604724</td>\n",
       "      <td>3.185195e+05</td>\n",
       "    </tr>\n",
       "    <tr>\n",
       "      <th>min</th>\n",
       "      <td>-35.318457</td>\n",
       "      <td>-180.000000</td>\n",
       "      <td>1.000000</td>\n",
       "      <td>0.000000</td>\n",
       "      <td>1.000000</td>\n",
       "      <td>10.000000</td>\n",
       "      <td>1.000000</td>\n",
       "      <td>5.500000e+03</td>\n",
       "    </tr>\n",
       "    <tr>\n",
       "      <th>25%</th>\n",
       "      <td>-34.627667</td>\n",
       "      <td>-58.504012</td>\n",
       "      <td>2.000000</td>\n",
       "      <td>1.000000</td>\n",
       "      <td>1.000000</td>\n",
       "      <td>56.000000</td>\n",
       "      <td>50.000000</td>\n",
       "      <td>1.110000e+05</td>\n",
       "    </tr>\n",
       "    <tr>\n",
       "      <th>50%</th>\n",
       "      <td>-34.600943</td>\n",
       "      <td>-58.443262</td>\n",
       "      <td>3.000000</td>\n",
       "      <td>2.000000</td>\n",
       "      <td>1.000000</td>\n",
       "      <td>91.000000</td>\n",
       "      <td>77.000000</td>\n",
       "      <td>1.660000e+05</td>\n",
       "    </tr>\n",
       "    <tr>\n",
       "      <th>75%</th>\n",
       "      <td>-34.574600</td>\n",
       "      <td>-58.407586</td>\n",
       "      <td>4.000000</td>\n",
       "      <td>3.000000</td>\n",
       "      <td>2.000000</td>\n",
       "      <td>216.872888</td>\n",
       "      <td>112.818011</td>\n",
       "      <td>2.650000e+05</td>\n",
       "    </tr>\n",
       "    <tr>\n",
       "      <th>max</th>\n",
       "      <td>85.051129</td>\n",
       "      <td>-57.805832</td>\n",
       "      <td>35.000000</td>\n",
       "      <td>15.000000</td>\n",
       "      <td>14.000000</td>\n",
       "      <td>193549.000000</td>\n",
       "      <td>126062.000000</td>\n",
       "      <td>3.243423e+07</td>\n",
       "    </tr>\n",
       "  </tbody>\n",
       "</table>\n",
       "</div>"
      ],
      "text/plain": [
       "                 lat            lon          rooms       bedrooms  \\\n",
       "count  136735.000000  136701.000000  146660.000000  146660.000000   \n",
       "mean      -34.604896     -58.465304       3.079817       1.983240   \n",
       "std         0.468428       0.486190       1.416352       1.151304   \n",
       "min       -35.318457    -180.000000       1.000000       0.000000   \n",
       "25%       -34.627667     -58.504012       2.000000       1.000000   \n",
       "50%       -34.600943     -58.443262       3.000000       2.000000   \n",
       "75%       -34.574600     -58.407586       4.000000       3.000000   \n",
       "max        85.051129     -57.805832      35.000000      15.000000   \n",
       "\n",
       "           bathrooms  surface_total  surface_covered         price  \n",
       "count  146660.000000  146660.000000    146660.000000  1.466600e+05  \n",
       "mean        1.575624     216.872888       112.818011  2.412211e+05  \n",
       "std         0.879091    1889.638072       846.604724  3.185195e+05  \n",
       "min         1.000000      10.000000         1.000000  5.500000e+03  \n",
       "25%         1.000000      56.000000        50.000000  1.110000e+05  \n",
       "50%         1.000000      91.000000        77.000000  1.660000e+05  \n",
       "75%         2.000000     216.872888       112.818011  2.650000e+05  \n",
       "max        14.000000  193549.000000    126062.000000  3.243423e+07  "
      ]
     },
     "execution_count": 9,
     "metadata": {},
     "output_type": "execute_result"
    }
   ],
   "source": [
    "proyecto.describe()"
   ]
  },
  {
   "cell_type": "markdown",
   "id": "facial-comedy",
   "metadata": {},
   "source": [
    "Una vez que rellene los datos con los que voy a trabajar, filtro de nuevo el dataset y selecciono los tipos de propiedades, superficies y valores con los que voy a trabajar"
   ]
  },
  {
   "cell_type": "code",
   "execution_count": 10,
   "id": "blind-double",
   "metadata": {},
   "outputs": [
    {
     "data": {
      "text/plain": [
       "(79015, 19)"
      ]
     },
     "execution_count": 10,
     "metadata": {},
     "output_type": "execute_result"
    }
   ],
   "source": [
    "nprop= (proyecto ['property_type']== 'Departamento')|(proyecto ['property_type']== 'Casa')|(proyecto ['property_type']== 'PH')\n",
    "nsup=(proyecto['surface_total']>=proyecto['surface_covered'])\n",
    "nprecio= proyecto['price']<=400000\n",
    "ncap= proyecto['l2']=='Capital Federal'\n",
    "nban= proyecto['bathrooms']<=5\n",
    "\n",
    "        \n",
    "proyecto=proyecto[nprop & nsup & nprecio & ncap & nban]\n",
    "proyecto.shape\n",
    "\n"
   ]
  },
  {
   "cell_type": "code",
   "execution_count": 11,
   "id": "extra-concentration",
   "metadata": {},
   "outputs": [],
   "source": [
    "proyecto_uno = proyecto.drop(columns = ['start_date', 'end_date', 'lat', 'lon', 'currency','title', 'description', 'operation_type', 'l1', 'created_on'])"
   ]
  },
  {
   "cell_type": "code",
   "execution_count": 12,
   "id": "periodic-surprise",
   "metadata": {},
   "outputs": [
    {
     "data": {
      "text/html": [
       "<div>\n",
       "<style scoped>\n",
       "    .dataframe tbody tr th:only-of-type {\n",
       "        vertical-align: middle;\n",
       "    }\n",
       "\n",
       "    .dataframe tbody tr th {\n",
       "        vertical-align: top;\n",
       "    }\n",
       "\n",
       "    .dataframe thead th {\n",
       "        text-align: right;\n",
       "    }\n",
       "</style>\n",
       "<table border=\"1\" class=\"dataframe\">\n",
       "  <thead>\n",
       "    <tr style=\"text-align: right;\">\n",
       "      <th></th>\n",
       "      <th>l2</th>\n",
       "      <th>l3</th>\n",
       "      <th>rooms</th>\n",
       "      <th>bedrooms</th>\n",
       "      <th>bathrooms</th>\n",
       "      <th>surface_total</th>\n",
       "      <th>surface_covered</th>\n",
       "      <th>price</th>\n",
       "      <th>property_type</th>\n",
       "    </tr>\n",
       "  </thead>\n",
       "  <tbody>\n",
       "    <tr>\n",
       "      <th>0</th>\n",
       "      <td>Capital Federal</td>\n",
       "      <td>San Cristobal</td>\n",
       "      <td>7.0</td>\n",
       "      <td>7.0</td>\n",
       "      <td>2.0</td>\n",
       "      <td>140.0</td>\n",
       "      <td>140.0</td>\n",
       "      <td>153000.0</td>\n",
       "      <td>Departamento</td>\n",
       "    </tr>\n",
       "    <tr>\n",
       "      <th>1</th>\n",
       "      <td>Capital Federal</td>\n",
       "      <td>Boedo</td>\n",
       "      <td>2.0</td>\n",
       "      <td>1.0</td>\n",
       "      <td>2.0</td>\n",
       "      <td>70.0</td>\n",
       "      <td>58.0</td>\n",
       "      <td>159000.0</td>\n",
       "      <td>PH</td>\n",
       "    </tr>\n",
       "    <tr>\n",
       "      <th>2</th>\n",
       "      <td>Capital Federal</td>\n",
       "      <td>Palermo</td>\n",
       "      <td>2.0</td>\n",
       "      <td>1.0</td>\n",
       "      <td>1.0</td>\n",
       "      <td>45.0</td>\n",
       "      <td>45.0</td>\n",
       "      <td>125000.0</td>\n",
       "      <td>PH</td>\n",
       "    </tr>\n",
       "    <tr>\n",
       "      <th>3</th>\n",
       "      <td>Capital Federal</td>\n",
       "      <td>Palermo</td>\n",
       "      <td>2.0</td>\n",
       "      <td>1.0</td>\n",
       "      <td>1.0</td>\n",
       "      <td>85.0</td>\n",
       "      <td>50.0</td>\n",
       "      <td>295000.0</td>\n",
       "      <td>PH</td>\n",
       "    </tr>\n",
       "    <tr>\n",
       "      <th>5</th>\n",
       "      <td>Capital Federal</td>\n",
       "      <td>Villa Crespo</td>\n",
       "      <td>2.0</td>\n",
       "      <td>1.0</td>\n",
       "      <td>1.0</td>\n",
       "      <td>56.0</td>\n",
       "      <td>56.0</td>\n",
       "      <td>150000.0</td>\n",
       "      <td>PH</td>\n",
       "    </tr>\n",
       "    <tr>\n",
       "      <th>...</th>\n",
       "      <td>...</td>\n",
       "      <td>...</td>\n",
       "      <td>...</td>\n",
       "      <td>...</td>\n",
       "      <td>...</td>\n",
       "      <td>...</td>\n",
       "      <td>...</td>\n",
       "      <td>...</td>\n",
       "      <td>...</td>\n",
       "    </tr>\n",
       "    <tr>\n",
       "      <th>146542</th>\n",
       "      <td>Capital Federal</td>\n",
       "      <td>Palermo</td>\n",
       "      <td>2.0</td>\n",
       "      <td>1.0</td>\n",
       "      <td>1.0</td>\n",
       "      <td>80.0</td>\n",
       "      <td>80.0</td>\n",
       "      <td>170000.0</td>\n",
       "      <td>Departamento</td>\n",
       "    </tr>\n",
       "    <tr>\n",
       "      <th>146543</th>\n",
       "      <td>Capital Federal</td>\n",
       "      <td>Palermo</td>\n",
       "      <td>3.0</td>\n",
       "      <td>2.0</td>\n",
       "      <td>2.0</td>\n",
       "      <td>85.0</td>\n",
       "      <td>81.0</td>\n",
       "      <td>225000.0</td>\n",
       "      <td>Departamento</td>\n",
       "    </tr>\n",
       "    <tr>\n",
       "      <th>146545</th>\n",
       "      <td>Capital Federal</td>\n",
       "      <td>Palermo</td>\n",
       "      <td>3.0</td>\n",
       "      <td>2.0</td>\n",
       "      <td>2.0</td>\n",
       "      <td>88.0</td>\n",
       "      <td>82.0</td>\n",
       "      <td>399000.0</td>\n",
       "      <td>Departamento</td>\n",
       "    </tr>\n",
       "    <tr>\n",
       "      <th>146549</th>\n",
       "      <td>Capital Federal</td>\n",
       "      <td>Palermo</td>\n",
       "      <td>3.0</td>\n",
       "      <td>2.0</td>\n",
       "      <td>1.0</td>\n",
       "      <td>84.0</td>\n",
       "      <td>84.0</td>\n",
       "      <td>178000.0</td>\n",
       "      <td>PH</td>\n",
       "    </tr>\n",
       "    <tr>\n",
       "      <th>146550</th>\n",
       "      <td>Capital Federal</td>\n",
       "      <td>Palermo</td>\n",
       "      <td>5.0</td>\n",
       "      <td>2.0</td>\n",
       "      <td>2.0</td>\n",
       "      <td>114.0</td>\n",
       "      <td>95.0</td>\n",
       "      <td>298000.0</td>\n",
       "      <td>PH</td>\n",
       "    </tr>\n",
       "  </tbody>\n",
       "</table>\n",
       "<p>79015 rows × 9 columns</p>\n",
       "</div>"
      ],
      "text/plain": [
       "                     l2             l3  rooms  bedrooms  bathrooms  \\\n",
       "0       Capital Federal  San Cristobal    7.0       7.0        2.0   \n",
       "1       Capital Federal          Boedo    2.0       1.0        2.0   \n",
       "2       Capital Federal        Palermo    2.0       1.0        1.0   \n",
       "3       Capital Federal        Palermo    2.0       1.0        1.0   \n",
       "5       Capital Federal   Villa Crespo    2.0       1.0        1.0   \n",
       "...                 ...            ...    ...       ...        ...   \n",
       "146542  Capital Federal        Palermo    2.0       1.0        1.0   \n",
       "146543  Capital Federal        Palermo    3.0       2.0        2.0   \n",
       "146545  Capital Federal        Palermo    3.0       2.0        2.0   \n",
       "146549  Capital Federal        Palermo    3.0       2.0        1.0   \n",
       "146550  Capital Federal        Palermo    5.0       2.0        2.0   \n",
       "\n",
       "        surface_total  surface_covered     price property_type  \n",
       "0               140.0            140.0  153000.0  Departamento  \n",
       "1                70.0             58.0  159000.0            PH  \n",
       "2                45.0             45.0  125000.0            PH  \n",
       "3                85.0             50.0  295000.0            PH  \n",
       "5                56.0             56.0  150000.0            PH  \n",
       "...               ...              ...       ...           ...  \n",
       "146542           80.0             80.0  170000.0  Departamento  \n",
       "146543           85.0             81.0  225000.0  Departamento  \n",
       "146545           88.0             82.0  399000.0  Departamento  \n",
       "146549           84.0             84.0  178000.0            PH  \n",
       "146550          114.0             95.0  298000.0            PH  \n",
       "\n",
       "[79015 rows x 9 columns]"
      ]
     },
     "execution_count": 12,
     "metadata": {},
     "output_type": "execute_result"
    }
   ],
   "source": [
    "proyecto_uno"
   ]
  },
  {
   "cell_type": "code",
   "execution_count": 13,
   "id": "graduate-collect",
   "metadata": {},
   "outputs": [
    {
     "data": {
      "text/plain": [
       "<bound method DataFrame.info of                      l2             l3  rooms  bedrooms  bathrooms  \\\n",
       "0       Capital Federal  San Cristobal    7.0       7.0        2.0   \n",
       "1       Capital Federal          Boedo    2.0       1.0        2.0   \n",
       "2       Capital Federal        Palermo    2.0       1.0        1.0   \n",
       "3       Capital Federal        Palermo    2.0       1.0        1.0   \n",
       "5       Capital Federal   Villa Crespo    2.0       1.0        1.0   \n",
       "...                 ...            ...    ...       ...        ...   \n",
       "146542  Capital Federal        Palermo    2.0       1.0        1.0   \n",
       "146543  Capital Federal        Palermo    3.0       2.0        2.0   \n",
       "146545  Capital Federal        Palermo    3.0       2.0        2.0   \n",
       "146549  Capital Federal        Palermo    3.0       2.0        1.0   \n",
       "146550  Capital Federal        Palermo    5.0       2.0        2.0   \n",
       "\n",
       "        surface_total  surface_covered     price property_type  \n",
       "0               140.0            140.0  153000.0  Departamento  \n",
       "1                70.0             58.0  159000.0            PH  \n",
       "2                45.0             45.0  125000.0            PH  \n",
       "3                85.0             50.0  295000.0            PH  \n",
       "5                56.0             56.0  150000.0            PH  \n",
       "...               ...              ...       ...           ...  \n",
       "146542           80.0             80.0  170000.0  Departamento  \n",
       "146543           85.0             81.0  225000.0  Departamento  \n",
       "146545           88.0             82.0  399000.0  Departamento  \n",
       "146549           84.0             84.0  178000.0            PH  \n",
       "146550          114.0             95.0  298000.0            PH  \n",
       "\n",
       "[79015 rows x 9 columns]>"
      ]
     },
     "execution_count": 13,
     "metadata": {},
     "output_type": "execute_result"
    }
   ],
   "source": [
    "proyecto_uno.info"
   ]
  },
  {
   "cell_type": "markdown",
   "id": "technical-potter",
   "metadata": {},
   "source": [
    "Realizamos una serie de graficos para ver y analizar los outliers"
   ]
  },
  {
   "cell_type": "code",
   "execution_count": 14,
   "id": "killing-credit",
   "metadata": {},
   "outputs": [
    {
     "data": {
      "text/plain": [
       "Text(0.5, 1.0, 'Distribución de la variable Price:')"
      ]
     },
     "execution_count": 14,
     "metadata": {},
     "output_type": "execute_result"
    },
    {
     "data": {
      "image/png": "[encoded data removed]",
      "text/plain": [
       "<Figure size 1440x720 with 5 Axes>"
      ]
     },
     "metadata": {
      "needs_background": "light"
     },
     "output_type": "display_data"
    }
   ],
   "source": [
    "plt.figure(figsize =(20,10))\n",
    "\n",
    "plt.subplot(9,1,1)\n",
    "\n",
    "sns.boxplot(data= proyecto_uno, x='bedrooms')\n",
    "plt.title('Distribución de la variable Bedrooms:')\n",
    "\n",
    "plt.subplot(9,1,3)\n",
    "\n",
    "sns.boxplot(data= proyecto_uno, x='bathrooms')\n",
    "plt.title('Distribución de la variable Bathrooms:')\n",
    "\n",
    "plt.subplot(9,1,5)\n",
    "\n",
    "sns.boxplot(data= proyecto_uno, x='surface_total')\n",
    "plt.title('Distribución de la variable  Surface_total:')\n",
    "\n",
    "plt.subplot(9,1,7)\n",
    "\n",
    "sns.boxplot(data= proyecto_uno, x='surface_covered')\n",
    "plt.title('Distribución de la variable  Surface_covered:')\n",
    "\n",
    "plt.subplot(9,1,9)\n",
    "\n",
    "sns.boxplot(data= proyecto_uno, x='price')\n",
    "plt.title('Distribución de la variable Price:')"
   ]
  },
  {
   "cell_type": "markdown",
   "id": "prostate-carroll",
   "metadata": {},
   "source": [
    "Para quitar los outliers, voy a utilizar la regla de tres sigmas (en el proyecto anterior utilice rango intercuartilico)"
   ]
  },
  {
   "cell_type": "code",
   "execution_count": 20,
   "id": "sunset-summit",
   "metadata": {},
   "outputs": [],
   "source": [
    "from scipy.stats import zscore\n",
    "\n",
    "zscore_precio = zscore(proyecto_uno['price'])\n",
    "zscore_suptot = zscore(proyecto_uno['surface_total'])\n",
    "zscore_supcub = zscore(proyecto_uno['surface_covered'])\n",
    "filtro_zscore = (abs(zscore_precio)>3) |  (abs(zscore_suptot)>3) | (abs(zscore_supcub)>3)\n",
    "proyecto_dos= proyecto_uno[~filtro_zscore]"
   ]
  },
  {
   "cell_type": "code",
   "execution_count": 21,
   "id": "mexican-billy",
   "metadata": {},
   "outputs": [
    {
     "data": {
      "text/plain": [
       "(78899, 9)"
      ]
     },
     "execution_count": 21,
     "metadata": {},
     "output_type": "execute_result"
    }
   ],
   "source": [
    "proyecto_dos.shape"
   ]
  },
  {
   "cell_type": "markdown",
   "id": "military-billy",
   "metadata": {},
   "source": [
    "Volvemos a graficar para ver la nueva distribución"
   ]
  },
  {
   "cell_type": "code",
   "execution_count": 24,
   "id": "common-russian",
   "metadata": {},
   "outputs": [
    {
     "data": {
      "text/plain": [
       "Text(0.5, 1.0, 'Distribución de la variable Price:')"
      ]
     },
     "execution_count": 24,
     "metadata": {},
     "output_type": "execute_result"
    },
    {
     "data": {
      "image/png": "[encoded data removed]",
      "text/plain": [
       "<Figure size 1440x720 with 5 Axes>"
      ]
     },
     "metadata": {
      "needs_background": "light"
     },
     "output_type": "display_data"
    }
   ],
   "source": [
    "plt.figure(figsize =(20,10))\n",
    "\n",
    "plt.subplot(9,1,1)\n",
    "\n",
    "sns.boxplot(data= proyecto_dos, x='bedrooms')\n",
    "plt.title('Distribución de la variable Bedrooms:')\n",
    "\n",
    "plt.subplot(9,1,3)\n",
    "\n",
    "sns.boxplot(data= proyecto_dos, x='bathrooms')\n",
    "plt.title('Distribución de la variable Bathrooms:')\n",
    "\n",
    "plt.subplot(9,1,5)\n",
    "\n",
    "sns.boxplot(data= proyecto_dos, x='surface_total')\n",
    "plt.title('Distribución de la variable  Surface_total:')\n",
    "\n",
    "plt.subplot(9,1,7)\n",
    "\n",
    "sns.boxplot(data= proyecto_dos, x='surface_covered')\n",
    "plt.title('Distribución de la variable  Surface_covered:')\n",
    "\n",
    "plt.subplot(9,1,9)\n",
    "\n",
    "sns.boxplot(data= proyecto_dos, x='price')\n",
    "plt.title('Distribución de la variable Price:')"
   ]
  },
  {
   "cell_type": "code",
   "execution_count": 25,
   "id": "alleged-panel",
   "metadata": {},
   "outputs": [
    {
     "data": {
      "text/html": [
       "<div>\n",
       "<style scoped>\n",
       "    .dataframe tbody tr th:only-of-type {\n",
       "        vertical-align: middle;\n",
       "    }\n",
       "\n",
       "    .dataframe tbody tr th {\n",
       "        vertical-align: top;\n",
       "    }\n",
       "\n",
       "    .dataframe thead th {\n",
       "        text-align: right;\n",
       "    }\n",
       "</style>\n",
       "<table border=\"1\" class=\"dataframe\">\n",
       "  <thead>\n",
       "    <tr style=\"text-align: right;\">\n",
       "      <th></th>\n",
       "      <th>l2</th>\n",
       "      <th>l3</th>\n",
       "      <th>rooms</th>\n",
       "      <th>bedrooms</th>\n",
       "      <th>bathrooms</th>\n",
       "      <th>surface_total</th>\n",
       "      <th>surface_covered</th>\n",
       "      <th>price</th>\n",
       "      <th>property_type</th>\n",
       "    </tr>\n",
       "  </thead>\n",
       "  <tbody>\n",
       "    <tr>\n",
       "      <th>0</th>\n",
       "      <td>Capital Federal</td>\n",
       "      <td>San Cristobal</td>\n",
       "      <td>7.0</td>\n",
       "      <td>7.0</td>\n",
       "      <td>2.0</td>\n",
       "      <td>140.0</td>\n",
       "      <td>140.0</td>\n",
       "      <td>153000.0</td>\n",
       "      <td>Departamento</td>\n",
       "    </tr>\n",
       "    <tr>\n",
       "      <th>1</th>\n",
       "      <td>Capital Federal</td>\n",
       "      <td>Boedo</td>\n",
       "      <td>2.0</td>\n",
       "      <td>1.0</td>\n",
       "      <td>2.0</td>\n",
       "      <td>70.0</td>\n",
       "      <td>58.0</td>\n",
       "      <td>159000.0</td>\n",
       "      <td>PH</td>\n",
       "    </tr>\n",
       "    <tr>\n",
       "      <th>2</th>\n",
       "      <td>Capital Federal</td>\n",
       "      <td>Palermo</td>\n",
       "      <td>2.0</td>\n",
       "      <td>1.0</td>\n",
       "      <td>1.0</td>\n",
       "      <td>45.0</td>\n",
       "      <td>45.0</td>\n",
       "      <td>125000.0</td>\n",
       "      <td>PH</td>\n",
       "    </tr>\n",
       "    <tr>\n",
       "      <th>3</th>\n",
       "      <td>Capital Federal</td>\n",
       "      <td>Palermo</td>\n",
       "      <td>2.0</td>\n",
       "      <td>1.0</td>\n",
       "      <td>1.0</td>\n",
       "      <td>85.0</td>\n",
       "      <td>50.0</td>\n",
       "      <td>295000.0</td>\n",
       "      <td>PH</td>\n",
       "    </tr>\n",
       "    <tr>\n",
       "      <th>5</th>\n",
       "      <td>Capital Federal</td>\n",
       "      <td>Villa Crespo</td>\n",
       "      <td>2.0</td>\n",
       "      <td>1.0</td>\n",
       "      <td>1.0</td>\n",
       "      <td>56.0</td>\n",
       "      <td>56.0</td>\n",
       "      <td>150000.0</td>\n",
       "      <td>PH</td>\n",
       "    </tr>\n",
       "    <tr>\n",
       "      <th>...</th>\n",
       "      <td>...</td>\n",
       "      <td>...</td>\n",
       "      <td>...</td>\n",
       "      <td>...</td>\n",
       "      <td>...</td>\n",
       "      <td>...</td>\n",
       "      <td>...</td>\n",
       "      <td>...</td>\n",
       "      <td>...</td>\n",
       "    </tr>\n",
       "    <tr>\n",
       "      <th>146542</th>\n",
       "      <td>Capital Federal</td>\n",
       "      <td>Palermo</td>\n",
       "      <td>2.0</td>\n",
       "      <td>1.0</td>\n",
       "      <td>1.0</td>\n",
       "      <td>80.0</td>\n",
       "      <td>80.0</td>\n",
       "      <td>170000.0</td>\n",
       "      <td>Departamento</td>\n",
       "    </tr>\n",
       "    <tr>\n",
       "      <th>146543</th>\n",
       "      <td>Capital Federal</td>\n",
       "      <td>Palermo</td>\n",
       "      <td>3.0</td>\n",
       "      <td>2.0</td>\n",
       "      <td>2.0</td>\n",
       "      <td>85.0</td>\n",
       "      <td>81.0</td>\n",
       "      <td>225000.0</td>\n",
       "      <td>Departamento</td>\n",
       "    </tr>\n",
       "    <tr>\n",
       "      <th>146545</th>\n",
       "      <td>Capital Federal</td>\n",
       "      <td>Palermo</td>\n",
       "      <td>3.0</td>\n",
       "      <td>2.0</td>\n",
       "      <td>2.0</td>\n",
       "      <td>88.0</td>\n",
       "      <td>82.0</td>\n",
       "      <td>399000.0</td>\n",
       "      <td>Departamento</td>\n",
       "    </tr>\n",
       "    <tr>\n",
       "      <th>146549</th>\n",
       "      <td>Capital Federal</td>\n",
       "      <td>Palermo</td>\n",
       "      <td>3.0</td>\n",
       "      <td>2.0</td>\n",
       "      <td>1.0</td>\n",
       "      <td>84.0</td>\n",
       "      <td>84.0</td>\n",
       "      <td>178000.0</td>\n",
       "      <td>PH</td>\n",
       "    </tr>\n",
       "    <tr>\n",
       "      <th>146550</th>\n",
       "      <td>Capital Federal</td>\n",
       "      <td>Palermo</td>\n",
       "      <td>5.0</td>\n",
       "      <td>2.0</td>\n",
       "      <td>2.0</td>\n",
       "      <td>114.0</td>\n",
       "      <td>95.0</td>\n",
       "      <td>298000.0</td>\n",
       "      <td>PH</td>\n",
       "    </tr>\n",
       "  </tbody>\n",
       "</table>\n",
       "<p>78899 rows × 9 columns</p>\n",
       "</div>"
      ],
      "text/plain": [
       "                     l2             l3  rooms  bedrooms  bathrooms  \\\n",
       "0       Capital Federal  San Cristobal    7.0       7.0        2.0   \n",
       "1       Capital Federal          Boedo    2.0       1.0        2.0   \n",
       "2       Capital Federal        Palermo    2.0       1.0        1.0   \n",
       "3       Capital Federal        Palermo    2.0       1.0        1.0   \n",
       "5       Capital Federal   Villa Crespo    2.0       1.0        1.0   \n",
       "...                 ...            ...    ...       ...        ...   \n",
       "146542  Capital Federal        Palermo    2.0       1.0        1.0   \n",
       "146543  Capital Federal        Palermo    3.0       2.0        2.0   \n",
       "146545  Capital Federal        Palermo    3.0       2.0        2.0   \n",
       "146549  Capital Federal        Palermo    3.0       2.0        1.0   \n",
       "146550  Capital Federal        Palermo    5.0       2.0        2.0   \n",
       "\n",
       "        surface_total  surface_covered     price property_type  \n",
       "0               140.0            140.0  153000.0  Departamento  \n",
       "1                70.0             58.0  159000.0            PH  \n",
       "2                45.0             45.0  125000.0            PH  \n",
       "3                85.0             50.0  295000.0            PH  \n",
       "5                56.0             56.0  150000.0            PH  \n",
       "...               ...              ...       ...           ...  \n",
       "146542           80.0             80.0  170000.0  Departamento  \n",
       "146543           85.0             81.0  225000.0  Departamento  \n",
       "146545           88.0             82.0  399000.0  Departamento  \n",
       "146549           84.0             84.0  178000.0            PH  \n",
       "146550          114.0             95.0  298000.0            PH  \n",
       "\n",
       "[78899 rows x 9 columns]"
      ]
     },
     "execution_count": 25,
     "metadata": {},
     "output_type": "execute_result"
    }
   ],
   "source": [
    "proyecto_dos"
   ]
  },
  {
   "cell_type": "markdown",
   "id": "portuguese-bronze",
   "metadata": {},
   "source": [
    "Definimos X e y y estandarizamos los datos"
   ]
  },
  {
   "cell_type": "code",
   "execution_count": 26,
   "id": "alert-punch",
   "metadata": {},
   "outputs": [],
   "source": [
    "X = proyecto_dos[['rooms', 'bedrooms', 'bathrooms', 'surface_total', 'surface_covered']] \n",
    "y = proyecto_dos['price']"
   ]
  },
  {
   "cell_type": "code",
   "execution_count": 27,
   "id": "public-melbourne",
   "metadata": {},
   "outputs": [],
   "source": [
    "#from sklearn.model_selection import train_test_split\n",
    "\n",
    "#X_train, X_test, y_train, y_test = train_test_split(X, y, test_size=0.2, random_state=1)"
   ]
  },
  {
   "cell_type": "code",
   "execution_count": 28,
   "id": "flush-memphis",
   "metadata": {},
   "outputs": [
    {
     "data": {
      "text/plain": [
       "array([[ 3.76030969,  5.37581759,  1.04094357,  0.70600256,  1.78985476],\n",
       "       [-0.66292121, -0.8244616 ,  1.04094357, -0.33414235, -0.35480058],\n",
       "       [-0.66292121, -0.8244616 , -0.58948159, -0.70562268, -0.69480691],\n",
       "       ...,\n",
       "       [ 0.22172497,  0.20891827,  1.04094357, -0.06667652,  0.27290342],\n",
       "       [ 0.22172497,  0.20891827, -0.58948159, -0.12611337,  0.32521209],\n",
       "       [ 1.99101733,  0.20891827,  1.04094357,  0.31966302,  0.61290976]])"
      ]
     },
     "execution_count": 28,
     "metadata": {},
     "output_type": "execute_result"
    }
   ],
   "source": [
    "from sklearn.preprocessing import StandardScaler #escale solo sobre X porque si primero hacia train/test estaba particionando los datos e iba a trabajar solo con la muestra\n",
    "\n",
    "scl = StandardScaler()\n",
    "X_train_scaler = scl.fit_transform(X)\n",
    "X_train_scaler"
   ]
  },
  {
   "cell_type": "code",
   "execution_count": 29,
   "id": "recognized-awareness",
   "metadata": {},
   "outputs": [
    {
     "data": {
      "text/plain": [
       "(-1.2910608068361824e-16, 0.9999999999999998)"
      ]
     },
     "execution_count": 29,
     "metadata": {},
     "output_type": "execute_result"
    }
   ],
   "source": [
    "np.mean(X_train_scaler),np.std(X_train_scaler) #media y desviacion estandar"
   ]
  },
  {
   "cell_type": "code",
   "execution_count": 30,
   "id": "refined-effect",
   "metadata": {},
   "outputs": [
    {
     "data": {
      "text/plain": [
       "(78899, 5)"
      ]
     },
     "execution_count": 30,
     "metadata": {},
     "output_type": "execute_result"
    }
   ],
   "source": [
    "X_train_scaler.shape"
   ]
  },
  {
   "cell_type": "code",
   "execution_count": 31,
   "id": "restricted-registrar",
   "metadata": {},
   "outputs": [
    {
     "data": {
      "text/html": [
       "<div>\n",
       "<style scoped>\n",
       "    .dataframe tbody tr th:only-of-type {\n",
       "        vertical-align: middle;\n",
       "    }\n",
       "\n",
       "    .dataframe tbody tr th {\n",
       "        vertical-align: top;\n",
       "    }\n",
       "\n",
       "    .dataframe thead th {\n",
       "        text-align: right;\n",
       "    }\n",
       "</style>\n",
       "<table border=\"1\" class=\"dataframe\">\n",
       "  <thead>\n",
       "    <tr style=\"text-align: right;\">\n",
       "      <th></th>\n",
       "      <th>l2</th>\n",
       "      <th>l3</th>\n",
       "      <th>rooms</th>\n",
       "      <th>bedrooms</th>\n",
       "      <th>bathrooms</th>\n",
       "      <th>surface_total</th>\n",
       "      <th>surface_covered</th>\n",
       "      <th>price</th>\n",
       "      <th>property_type</th>\n",
       "      <th>rooms1</th>\n",
       "      <th>bedrooms1</th>\n",
       "      <th>bathrooms1</th>\n",
       "      <th>surface_total1</th>\n",
       "      <th>surface_covered1</th>\n",
       "    </tr>\n",
       "  </thead>\n",
       "  <tbody>\n",
       "    <tr>\n",
       "      <th>0</th>\n",
       "      <td>Capital Federal</td>\n",
       "      <td>San Cristobal</td>\n",
       "      <td>7.0</td>\n",
       "      <td>7.0</td>\n",
       "      <td>2.0</td>\n",
       "      <td>140.0</td>\n",
       "      <td>140.0</td>\n",
       "      <td>153000.0</td>\n",
       "      <td>Departamento</td>\n",
       "      <td>3.760310</td>\n",
       "      <td>5.375818</td>\n",
       "      <td>1.040944</td>\n",
       "      <td>0.706003</td>\n",
       "      <td>1.789855</td>\n",
       "    </tr>\n",
       "    <tr>\n",
       "      <th>1</th>\n",
       "      <td>Capital Federal</td>\n",
       "      <td>Boedo</td>\n",
       "      <td>2.0</td>\n",
       "      <td>1.0</td>\n",
       "      <td>2.0</td>\n",
       "      <td>70.0</td>\n",
       "      <td>58.0</td>\n",
       "      <td>159000.0</td>\n",
       "      <td>PH</td>\n",
       "      <td>-0.662921</td>\n",
       "      <td>-0.824462</td>\n",
       "      <td>1.040944</td>\n",
       "      <td>-0.334142</td>\n",
       "      <td>-0.354801</td>\n",
       "    </tr>\n",
       "    <tr>\n",
       "      <th>2</th>\n",
       "      <td>Capital Federal</td>\n",
       "      <td>Palermo</td>\n",
       "      <td>2.0</td>\n",
       "      <td>1.0</td>\n",
       "      <td>1.0</td>\n",
       "      <td>45.0</td>\n",
       "      <td>45.0</td>\n",
       "      <td>125000.0</td>\n",
       "      <td>PH</td>\n",
       "      <td>-0.662921</td>\n",
       "      <td>-0.824462</td>\n",
       "      <td>-0.589482</td>\n",
       "      <td>-0.705623</td>\n",
       "      <td>-0.694807</td>\n",
       "    </tr>\n",
       "    <tr>\n",
       "      <th>3</th>\n",
       "      <td>Capital Federal</td>\n",
       "      <td>Palermo</td>\n",
       "      <td>2.0</td>\n",
       "      <td>1.0</td>\n",
       "      <td>1.0</td>\n",
       "      <td>85.0</td>\n",
       "      <td>50.0</td>\n",
       "      <td>295000.0</td>\n",
       "      <td>PH</td>\n",
       "      <td>-0.662921</td>\n",
       "      <td>-0.824462</td>\n",
       "      <td>-0.589482</td>\n",
       "      <td>-0.111254</td>\n",
       "      <td>-0.564035</td>\n",
       "    </tr>\n",
       "    <tr>\n",
       "      <th>4</th>\n",
       "      <td>NaN</td>\n",
       "      <td>NaN</td>\n",
       "      <td>NaN</td>\n",
       "      <td>NaN</td>\n",
       "      <td>NaN</td>\n",
       "      <td>NaN</td>\n",
       "      <td>NaN</td>\n",
       "      <td>NaN</td>\n",
       "      <td>NaN</td>\n",
       "      <td>-0.662921</td>\n",
       "      <td>-0.824462</td>\n",
       "      <td>-0.589482</td>\n",
       "      <td>-0.542171</td>\n",
       "      <td>-0.407109</td>\n",
       "    </tr>\n",
       "    <tr>\n",
       "      <th>...</th>\n",
       "      <td>...</td>\n",
       "      <td>...</td>\n",
       "      <td>...</td>\n",
       "      <td>...</td>\n",
       "      <td>...</td>\n",
       "      <td>...</td>\n",
       "      <td>...</td>\n",
       "      <td>...</td>\n",
       "      <td>...</td>\n",
       "      <td>...</td>\n",
       "      <td>...</td>\n",
       "      <td>...</td>\n",
       "      <td>...</td>\n",
       "      <td>...</td>\n",
       "    </tr>\n",
       "    <tr>\n",
       "      <th>146542</th>\n",
       "      <td>Capital Federal</td>\n",
       "      <td>Palermo</td>\n",
       "      <td>2.0</td>\n",
       "      <td>1.0</td>\n",
       "      <td>1.0</td>\n",
       "      <td>80.0</td>\n",
       "      <td>80.0</td>\n",
       "      <td>170000.0</td>\n",
       "      <td>Departamento</td>\n",
       "      <td>NaN</td>\n",
       "      <td>NaN</td>\n",
       "      <td>NaN</td>\n",
       "      <td>NaN</td>\n",
       "      <td>NaN</td>\n",
       "    </tr>\n",
       "    <tr>\n",
       "      <th>146543</th>\n",
       "      <td>Capital Federal</td>\n",
       "      <td>Palermo</td>\n",
       "      <td>3.0</td>\n",
       "      <td>2.0</td>\n",
       "      <td>2.0</td>\n",
       "      <td>85.0</td>\n",
       "      <td>81.0</td>\n",
       "      <td>225000.0</td>\n",
       "      <td>Departamento</td>\n",
       "      <td>NaN</td>\n",
       "      <td>NaN</td>\n",
       "      <td>NaN</td>\n",
       "      <td>NaN</td>\n",
       "      <td>NaN</td>\n",
       "    </tr>\n",
       "    <tr>\n",
       "      <th>146545</th>\n",
       "      <td>Capital Federal</td>\n",
       "      <td>Palermo</td>\n",
       "      <td>3.0</td>\n",
       "      <td>2.0</td>\n",
       "      <td>2.0</td>\n",
       "      <td>88.0</td>\n",
       "      <td>82.0</td>\n",
       "      <td>399000.0</td>\n",
       "      <td>Departamento</td>\n",
       "      <td>NaN</td>\n",
       "      <td>NaN</td>\n",
       "      <td>NaN</td>\n",
       "      <td>NaN</td>\n",
       "      <td>NaN</td>\n",
       "    </tr>\n",
       "    <tr>\n",
       "      <th>146549</th>\n",
       "      <td>Capital Federal</td>\n",
       "      <td>Palermo</td>\n",
       "      <td>3.0</td>\n",
       "      <td>2.0</td>\n",
       "      <td>1.0</td>\n",
       "      <td>84.0</td>\n",
       "      <td>84.0</td>\n",
       "      <td>178000.0</td>\n",
       "      <td>PH</td>\n",
       "      <td>NaN</td>\n",
       "      <td>NaN</td>\n",
       "      <td>NaN</td>\n",
       "      <td>NaN</td>\n",
       "      <td>NaN</td>\n",
       "    </tr>\n",
       "    <tr>\n",
       "      <th>146550</th>\n",
       "      <td>Capital Federal</td>\n",
       "      <td>Palermo</td>\n",
       "      <td>5.0</td>\n",
       "      <td>2.0</td>\n",
       "      <td>2.0</td>\n",
       "      <td>114.0</td>\n",
       "      <td>95.0</td>\n",
       "      <td>298000.0</td>\n",
       "      <td>PH</td>\n",
       "      <td>NaN</td>\n",
       "      <td>NaN</td>\n",
       "      <td>NaN</td>\n",
       "      <td>NaN</td>\n",
       "      <td>NaN</td>\n",
       "    </tr>\n",
       "  </tbody>\n",
       "</table>\n",
       "<p>113691 rows × 14 columns</p>\n",
       "</div>"
      ],
      "text/plain": [
       "                     l2             l3  rooms  bedrooms  bathrooms  \\\n",
       "0       Capital Federal  San Cristobal    7.0       7.0        2.0   \n",
       "1       Capital Federal          Boedo    2.0       1.0        2.0   \n",
       "2       Capital Federal        Palermo    2.0       1.0        1.0   \n",
       "3       Capital Federal        Palermo    2.0       1.0        1.0   \n",
       "4                   NaN            NaN    NaN       NaN        NaN   \n",
       "...                 ...            ...    ...       ...        ...   \n",
       "146542  Capital Federal        Palermo    2.0       1.0        1.0   \n",
       "146543  Capital Federal        Palermo    3.0       2.0        2.0   \n",
       "146545  Capital Federal        Palermo    3.0       2.0        2.0   \n",
       "146549  Capital Federal        Palermo    3.0       2.0        1.0   \n",
       "146550  Capital Federal        Palermo    5.0       2.0        2.0   \n",
       "\n",
       "        surface_total  surface_covered     price property_type    rooms1  \\\n",
       "0               140.0            140.0  153000.0  Departamento  3.760310   \n",
       "1                70.0             58.0  159000.0            PH -0.662921   \n",
       "2                45.0             45.0  125000.0            PH -0.662921   \n",
       "3                85.0             50.0  295000.0            PH -0.662921   \n",
       "4                 NaN              NaN       NaN           NaN -0.662921   \n",
       "...               ...              ...       ...           ...       ...   \n",
       "146542           80.0             80.0  170000.0  Departamento       NaN   \n",
       "146543           85.0             81.0  225000.0  Departamento       NaN   \n",
       "146545           88.0             82.0  399000.0  Departamento       NaN   \n",
       "146549           84.0             84.0  178000.0            PH       NaN   \n",
       "146550          114.0             95.0  298000.0            PH       NaN   \n",
       "\n",
       "        bedrooms1  bathrooms1  surface_total1  surface_covered1  \n",
       "0        5.375818    1.040944        0.706003          1.789855  \n",
       "1       -0.824462    1.040944       -0.334142         -0.354801  \n",
       "2       -0.824462   -0.589482       -0.705623         -0.694807  \n",
       "3       -0.824462   -0.589482       -0.111254         -0.564035  \n",
       "4       -0.824462   -0.589482       -0.542171         -0.407109  \n",
       "...           ...         ...             ...               ...  \n",
       "146542        NaN         NaN             NaN               NaN  \n",
       "146543        NaN         NaN             NaN               NaN  \n",
       "146545        NaN         NaN             NaN               NaN  \n",
       "146549        NaN         NaN             NaN               NaN  \n",
       "146550        NaN         NaN             NaN               NaN  \n",
       "\n",
       "[113691 rows x 14 columns]"
      ]
     },
     "execution_count": 31,
     "metadata": {},
     "output_type": "execute_result"
    }
   ],
   "source": [
    "conca= pd.DataFrame(X_train_scaler, columns = ['rooms1', 'bedrooms1', 'bathrooms1', 'surface_total1', 'surface_covered1'])\n",
    "concatenado =pd.concat([proyecto_dos,conca], axis=1)\n",
    "concatenado\n"
   ]
  },
  {
   "cell_type": "code",
   "execution_count": 32,
   "id": "finite-calculator",
   "metadata": {},
   "outputs": [
    {
     "data": {
      "text/plain": [
       "l2                  34792\n",
       "l3                  34792\n",
       "rooms               34792\n",
       "bedrooms            34792\n",
       "bathrooms           34792\n",
       "surface_total       34792\n",
       "surface_covered     34792\n",
       "price               34792\n",
       "property_type       34792\n",
       "rooms1              34792\n",
       "bedrooms1           34792\n",
       "bathrooms1          34792\n",
       "surface_total1      34792\n",
       "surface_covered1    34792\n",
       "dtype: int64"
      ]
     },
     "execution_count": 32,
     "metadata": {},
     "output_type": "execute_result"
    }
   ],
   "source": [
    "concatenado.isna().sum()"
   ]
  },
  {
   "cell_type": "code",
   "execution_count": 42,
   "id": "middle-hydrogen",
   "metadata": {},
   "outputs": [
    {
     "data": {
      "text/html": [
       "<div>\n",
       "<style scoped>\n",
       "    .dataframe tbody tr th:only-of-type {\n",
       "        vertical-align: middle;\n",
       "    }\n",
       "\n",
       "    .dataframe tbody tr th {\n",
       "        vertical-align: top;\n",
       "    }\n",
       "\n",
       "    .dataframe thead th {\n",
       "        text-align: right;\n",
       "    }\n",
       "</style>\n",
       "<table border=\"1\" class=\"dataframe\">\n",
       "  <thead>\n",
       "    <tr style=\"text-align: right;\">\n",
       "      <th></th>\n",
       "      <th>rooms</th>\n",
       "      <th>bedrooms</th>\n",
       "      <th>bathrooms</th>\n",
       "      <th>surface_total</th>\n",
       "      <th>surface_covered</th>\n",
       "      <th>price</th>\n",
       "      <th>rooms1</th>\n",
       "      <th>bedrooms1</th>\n",
       "      <th>bathrooms1</th>\n",
       "      <th>surface_total1</th>\n",
       "      <th>surface_covered1</th>\n",
       "    </tr>\n",
       "  </thead>\n",
       "  <tbody>\n",
       "    <tr>\n",
       "      <th>count</th>\n",
       "      <td>44107.000000</td>\n",
       "      <td>44107.000000</td>\n",
       "      <td>44107.000000</td>\n",
       "      <td>44107.000000</td>\n",
       "      <td>44107.000000</td>\n",
       "      <td>44107.000000</td>\n",
       "      <td>44107.000000</td>\n",
       "      <td>44107.000000</td>\n",
       "      <td>44107.000000</td>\n",
       "      <td>44107.000000</td>\n",
       "      <td>44107.000000</td>\n",
       "    </tr>\n",
       "    <tr>\n",
       "      <th>mean</th>\n",
       "      <td>2.753781</td>\n",
       "      <td>1.805428</td>\n",
       "      <td>1.349264</td>\n",
       "      <td>87.902498</td>\n",
       "      <td>70.122099</td>\n",
       "      <td>179704.871925</td>\n",
       "      <td>-0.002029</td>\n",
       "      <td>-0.005972</td>\n",
       "      <td>-0.003139</td>\n",
       "      <td>0.000526</td>\n",
       "      <td>-0.005791</td>\n",
       "    </tr>\n",
       "    <tr>\n",
       "      <th>std</th>\n",
       "      <td>1.119772</td>\n",
       "      <td>0.961629</td>\n",
       "      <td>0.603399</td>\n",
       "      <td>64.843512</td>\n",
       "      <td>38.119393</td>\n",
       "      <td>82258.558971</td>\n",
       "      <td>0.987375</td>\n",
       "      <td>0.982857</td>\n",
       "      <td>0.999148</td>\n",
       "      <td>1.001010</td>\n",
       "      <td>1.001258</td>\n",
       "    </tr>\n",
       "    <tr>\n",
       "      <th>min</th>\n",
       "      <td>1.000000</td>\n",
       "      <td>0.000000</td>\n",
       "      <td>1.000000</td>\n",
       "      <td>13.000000</td>\n",
       "      <td>1.000000</td>\n",
       "      <td>6000.000000</td>\n",
       "      <td>-1.547567</td>\n",
       "      <td>-1.857841</td>\n",
       "      <td>-0.589482</td>\n",
       "      <td>-1.195977</td>\n",
       "      <td>-1.845598</td>\n",
       "    </tr>\n",
       "    <tr>\n",
       "      <th>25%</th>\n",
       "      <td>2.000000</td>\n",
       "      <td>1.000000</td>\n",
       "      <td>1.000000</td>\n",
       "      <td>48.000000</td>\n",
       "      <td>43.000000</td>\n",
       "      <td>115000.000000</td>\n",
       "      <td>-0.662921</td>\n",
       "      <td>-0.824462</td>\n",
       "      <td>-0.589482</td>\n",
       "      <td>-0.646186</td>\n",
       "      <td>-0.720961</td>\n",
       "    </tr>\n",
       "    <tr>\n",
       "      <th>50%</th>\n",
       "      <td>3.000000</td>\n",
       "      <td>2.000000</td>\n",
       "      <td>1.000000</td>\n",
       "      <td>68.000000</td>\n",
       "      <td>60.000000</td>\n",
       "      <td>160000.000000</td>\n",
       "      <td>0.221725</td>\n",
       "      <td>0.208918</td>\n",
       "      <td>-0.589482</td>\n",
       "      <td>-0.334142</td>\n",
       "      <td>-0.276338</td>\n",
       "    </tr>\n",
       "    <tr>\n",
       "      <th>75%</th>\n",
       "      <td>3.000000</td>\n",
       "      <td>2.000000</td>\n",
       "      <td>2.000000</td>\n",
       "      <td>102.000000</td>\n",
       "      <td>89.000000</td>\n",
       "      <td>230000.000000</td>\n",
       "      <td>0.221725</td>\n",
       "      <td>0.208918</td>\n",
       "      <td>1.040944</td>\n",
       "      <td>0.245367</td>\n",
       "      <td>0.560601</td>\n",
       "    </tr>\n",
       "    <tr>\n",
       "      <th>max</th>\n",
       "      <td>21.000000</td>\n",
       "      <td>15.000000</td>\n",
       "      <td>5.000000</td>\n",
       "      <td>3070.000000</td>\n",
       "      <td>1077.000000</td>\n",
       "      <td>400000.000000</td>\n",
       "      <td>16.145356</td>\n",
       "      <td>12.609477</td>\n",
       "      <td>5.932219</td>\n",
       "      <td>44.243497</td>\n",
       "      <td>30.402695</td>\n",
       "    </tr>\n",
       "  </tbody>\n",
       "</table>\n",
       "</div>"
      ],
      "text/plain": [
       "              rooms      bedrooms     bathrooms  surface_total  \\\n",
       "count  44107.000000  44107.000000  44107.000000   44107.000000   \n",
       "mean       2.753781      1.805428      1.349264      87.902498   \n",
       "std        1.119772      0.961629      0.603399      64.843512   \n",
       "min        1.000000      0.000000      1.000000      13.000000   \n",
       "25%        2.000000      1.000000      1.000000      48.000000   \n",
       "50%        3.000000      2.000000      1.000000      68.000000   \n",
       "75%        3.000000      2.000000      2.000000     102.000000   \n",
       "max       21.000000     15.000000      5.000000    3070.000000   \n",
       "\n",
       "       surface_covered          price        rooms1     bedrooms1  \\\n",
       "count     44107.000000   44107.000000  44107.000000  44107.000000   \n",
       "mean         70.122099  179704.871925     -0.002029     -0.005972   \n",
       "std          38.119393   82258.558971      0.987375      0.982857   \n",
       "min           1.000000    6000.000000     -1.547567     -1.857841   \n",
       "25%          43.000000  115000.000000     -0.662921     -0.824462   \n",
       "50%          60.000000  160000.000000      0.221725      0.208918   \n",
       "75%          89.000000  230000.000000      0.221725      0.208918   \n",
       "max        1077.000000  400000.000000     16.145356     12.609477   \n",
       "\n",
       "         bathrooms1  surface_total1  surface_covered1  \n",
       "count  44107.000000    44107.000000      44107.000000  \n",
       "mean      -0.003139        0.000526         -0.005791  \n",
       "std        0.999148        1.001010          1.001258  \n",
       "min       -0.589482       -1.195977         -1.845598  \n",
       "25%       -0.589482       -0.646186         -0.720961  \n",
       "50%       -0.589482       -0.334142         -0.276338  \n",
       "75%        1.040944        0.245367          0.560601  \n",
       "max        5.932219       44.243497         30.402695  "
      ]
     },
     "execution_count": 42,
     "metadata": {},
     "output_type": "execute_result"
    }
   ],
   "source": [
    "concatenado = concatenado.dropna()\n",
    "concatenado.describe()"
   ]
  },
  {
   "cell_type": "markdown",
   "id": "serious-nothing",
   "metadata": {},
   "source": [
    "# Entrenando Arboles"
   ]
  },
  {
   "cell_type": "markdown",
   "id": "every-business",
   "metadata": {},
   "source": [
    "Entrenamos nuevamente el Arbol de decision con los datos sin escalar y lo vamos a comparar el entrenamiento sobre los datos escalados\n"
   ]
  },
  {
   "cell_type": "markdown",
   "id": "romance-speed",
   "metadata": {},
   "source": [
    "voy a usar el mejor modelo del proyecto "
   ]
  },
  {
   "cell_type": "code",
   "execution_count": 34,
   "id": "decreased-particular",
   "metadata": {},
   "outputs": [],
   "source": [
    "from sklearn.tree import DecisionTreeRegressor\n",
    "from sklearn.linear_model import LinearRegression\n",
    "from sklearn.metrics import mean_squared_error"
   ]
  },
  {
   "cell_type": "code",
   "execution_count": 35,
   "id": "coupled-persian",
   "metadata": {},
   "outputs": [],
   "source": [
    "X = concatenado[['rooms1', 'bedrooms1', 'bathrooms1', 'surface_total1', 'surface_covered1']]\n",
    "y = concatenado['price']"
   ]
  },
  {
   "cell_type": "code",
   "execution_count": 36,
   "id": "saved-religion",
   "metadata": {},
   "outputs": [],
   "source": [
    "from sklearn.model_selection import train_test_split\n",
    "\n",
    "X_train, X_test, y_train, y_test = train_test_split(X, y, test_size=0.2, random_state=1)"
   ]
  },
  {
   "cell_type": "markdown",
   "id": "major-regular",
   "metadata": {},
   "source": [
    "Árbol de decision con datos escalados"
   ]
  },
  {
   "cell_type": "code",
   "execution_count": 37,
   "id": "coordinate-messenger",
   "metadata": {},
   "outputs": [
    {
     "name": "stdout",
     "output_type": "stream",
     "text": [
      "La raíz de error medio cuadrático en Train es:82226.3776744599 \n",
      "La raíz de error medio cuadrático en Test es:81377.59014239408 \n"
     ]
    }
   ],
   "source": [
    "X_train_dt = X_train\n",
    "X_test_dt = X_test\n",
    "y_train_dt =y_train\n",
    "y_test_dt =y_test\n",
    "\n",
    "tree = DecisionTreeRegressor(max_depth =3) #La profundidad del árbol es 3\n",
    "tree.fit (X_train_dt,y_train_dt)\n",
    "\n",
    "y_train_dt_pred = tree.predict(X_train_dt)\n",
    "y_test_dt_pred =tree.predict(X_test_dt)\n",
    "\n",
    "rmse_train_dt =np.sqrt(mean_squared_error(y_train_dt, y_train_dt_pred))\n",
    "rmse_test_dt =np.sqrt(mean_squared_error(y_test_dt, y_test_dt_pred))\n",
    "print(f'La raíz de error medio cuadrático en Train es:{rmse_train_dt} ')\n",
    "print(f'La raíz de error medio cuadrático en Test es:{rmse_test_dt} ')"
   ]
  },
  {
   "cell_type": "markdown",
   "id": "floral-chile",
   "metadata": {},
   "source": [
    "Arbol sin datos escalados"
   ]
  },
  {
   "cell_type": "code",
   "execution_count": 61,
   "id": "cheap-infrastructure",
   "metadata": {},
   "outputs": [],
   "source": [
    "X_ns = concatenado[['rooms', 'bedrooms', 'bathrooms', 'surface_total', 'surface_covered']] \n",
    "y_ns = concatenado['price']"
   ]
  },
  {
   "cell_type": "code",
   "execution_count": 62,
   "id": "chronic-glasgow",
   "metadata": {},
   "outputs": [],
   "source": [
    "from sklearn.model_selection import train_test_split\n",
    "\n",
    "X_train, X_test, y_train, y_test = train_test_split(X_ns, y_ns, test_size=0.2, random_state=1)"
   ]
  },
  {
   "cell_type": "code",
   "execution_count": 63,
   "id": "offensive-creek",
   "metadata": {},
   "outputs": [
    {
     "name": "stdout",
     "output_type": "stream",
     "text": [
      "La raíz de error medio cuadrático en Train es:53716.44068949476 \n",
      "La raíz de error medio cuadrático en Test es:53115.19523879674 \n"
     ]
    }
   ],
   "source": [
    "X_train_ns = X_train\n",
    "X_test_ns = X_test\n",
    "y_train_ns =y_train\n",
    "y_test_ns =y_test\n",
    "\n",
    "tree = DecisionTreeRegressor(max_depth =3) #La profundidad del árbol es 3\n",
    "tree.fit (X_train_ns,y_train_ns)\n",
    "\n",
    "y_train_ns_pred = tree.predict(X_train_ns)\n",
    "y_test_ns_pred =tree.predict(X_test_ns)\n",
    "\n",
    "rmse_train_ns =np.sqrt(mean_squared_error(y_train_ns, y_train_ns_pred))\n",
    "rmse_test_ns =np.sqrt(mean_squared_error(y_test_ns, y_test_ns_pred))\n",
    "print(f'La raíz de error medio cuadrático en Train es:{rmse_train_ns} ')\n",
    "print(f'La raíz de error medio cuadrático en Test es:{rmse_test_ns} ')"
   ]
  },
  {
   "cell_type": "markdown",
   "id": "comparative-cornell",
   "metadata": {},
   "source": [
    "hacer el sin escalado con los mejores parametros del  y decir cual corre mejor. "
   ]
  },
  {
   "cell_type": "code",
   "execution_count": 64,
   "id": "annoying-suite",
   "metadata": {},
   "outputs": [],
   "source": [
    "#from sklearn.model_selection import train_test_split\n",
    "\n",
    "#X_train, X_test, y_train, y_test = train_test_split(X, y, test_size=0.2, random_state=1)"
   ]
  },
  {
   "cell_type": "code",
   "execution_count": null,
   "id": "liberal-opportunity",
   "metadata": {},
   "outputs": [],
   "source": []
  },
  {
   "cell_type": "code",
   "execution_count": 65,
   "id": "involved-headline",
   "metadata": {},
   "outputs": [],
   "source": [
    "#from sklearn.linear_model import LinearRegression  \n",
    "\n"
   ]
  },
  {
   "cell_type": "code",
   "execution_count": 66,
   "id": "greatest-recorder",
   "metadata": {},
   "outputs": [],
   "source": [
    "#X_train_rl = X_train\n",
    "#X_test_rl = X_test\n",
    "#y_train_rl =y_train\n",
    "#y_test_rl =y_test\n",
    "\n",
    "#regressor=LinearRegression()  \n",
    "#regressor.fit(X_train_rl,y_train_rl)  \n",
    "\n",
    "#y_train_rl_pred = tree.predict(X_train_rl)\n",
    "#y_test_rl_pred =tree.predict(X_test_rl)\n",
    "\n",
    "#rmse_train_rl =np.sqrt(mean_squared_error(y_train_rl, y_train_rl_pred))\n",
    "#rmse_test_rl =np.sqrt(mean_squared_error(y_test_rl, y_test_rl_pred))\n",
    "#print(f'La raíz de error medio cuadrático en Train es:{rmse_train_rl} ')\n",
    "#print(f'La raíz de error medio cuadrático en Test es:{rmse_test_rl} ')"
   ]
  },
  {
   "cell_type": "code",
   "execution_count": 67,
   "id": "included-matter",
   "metadata": {},
   "outputs": [],
   "source": [
    "#X_train_rl.shape"
   ]
  },
  {
   "cell_type": "code",
   "execution_count": 68,
   "id": "pharmaceutical-encyclopedia",
   "metadata": {},
   "outputs": [],
   "source": [
    "#from sklearn import metrics\n",
    "#print('Mean Absolute Error:', metrics.mean_absolute_error(y_test, y_pred))\n",
    "#print('Mean Squared Error:', metrics.mean_squared_error(y_test, y_pred))\n"
   ]
  },
  {
   "cell_type": "code",
   "execution_count": 69,
   "id": "stopped-reconstruction",
   "metadata": {},
   "outputs": [],
   "source": [
    "#from sklearn.preprocessing import StandardScaler\n",
    "\n",
    "#scl = StandardScaler()\n",
    "#X_train_scaler = scl.fit_transform(X_train)\n",
    "#X_train_scaler"
   ]
  },
  {
   "cell_type": "code",
   "execution_count": 70,
   "id": "natural-motorcycle",
   "metadata": {},
   "outputs": [],
   "source": [
    "#np.mean(X_train_scaler),np.std(X_train_scaler) #media y desviacion estandar"
   ]
  },
  {
   "cell_type": "code",
   "execution_count": 71,
   "id": "brilliant-portugal",
   "metadata": {},
   "outputs": [],
   "source": [
    "#X_train_scaler.shape"
   ]
  },
  {
   "cell_type": "code",
   "execution_count": 72,
   "id": "demographic-batman",
   "metadata": {},
   "outputs": [],
   "source": [
    "#X_test_scaler =scl.transform(X_test)\n",
    "#X_test_scaler"
   ]
  },
  {
   "cell_type": "code",
   "execution_count": 73,
   "id": "thermal-charter",
   "metadata": {},
   "outputs": [],
   "source": [
    "#X_test_scaler.shape"
   ]
  },
  {
   "cell_type": "code",
   "execution_count": 74,
   "id": "fewer-geneva",
   "metadata": {},
   "outputs": [],
   "source": [
    "#X_train_dt = X_train_scaler\n",
    "#X_test_dt = X_test_scaler\n",
    "#y_train_dt =y_train\n",
    "#y_test_dt =y_test\n",
    "\n",
    "#tree = DecisionTreeRegressor(max_depth =3) #La profundidad del árbol es 3\n",
    "#tree.fit (X_train_dt,y_train_dt)\n",
    "\n",
    "#y_train_dt_pred = tree.predict(X_train_dt)\n",
    "#y_test_dt_pred =tree.predict(X_test_dt)\n",
    "\n",
    "#rmse_train_dt =np.sqrt(mean_squared_error(y_train_dt, y_train_dt_pred))\n",
    "#rmse_test_dt =np.sqrt(mean_squared_error(y_test_dt, y_test_dt_pred))\n",
    "#print(f'La raíz de error medio cuadrático en Train es:{rmse_train_dt} ')\n",
    "#print(f'La raíz de error medio cuadrático en Test es:{rmse_test_dt} ')"
   ]
  },
  {
   "cell_type": "code",
   "execution_count": 75,
   "id": "joined-stocks",
   "metadata": {},
   "outputs": [],
   "source": [
    "#plt.figure(figsize = (15,6))\n",
    "#plt.subplot(1,2,1)\n",
    "#sns.distplot(y_train_dt - y_train_dt_pred, bins = 20, label = 'train')\n",
    "#sns.distplot(y_test_dt - y_test_dt_pred, bins = 20, label = 'test')\n",
    "#plt.xlabel('errores')\n",
    "#plt.legend()\n",
    "\n",
    "\n",
    "\n",
    "#ax = plt.subplot(1,2,2)\n",
    "#plt.scatter(y_test_dt,y_test_dt_pred, s =2)    \n",
    "#lims = [\n",
    "#np.min([ax.get_xlim(), ax.get_ylim()]),  # min of both axes\n",
    "#np.max([ax.get_xlim(), ax.get_ylim()]),  # max of both axes]\n",
    "#    ]    \n",
    "#ax.plot(lims, lims, 'k-', alpha=0.75, zorder=0)\n",
    "#plt.xlabel('y (test)')\n",
    "#plt.ylabel('y_pred (test)')\n",
    "    \n",
    "#plt.tight_layout()\n",
    "#plt.show()"
   ]
  },
  {
   "cell_type": "code",
   "execution_count": 76,
   "id": "contained-catholic",
   "metadata": {},
   "outputs": [],
   "source": [
    "#X_train_dt.shape"
   ]
  },
  {
   "cell_type": "code",
   "execution_count": 77,
   "id": "expected-taiwan",
   "metadata": {},
   "outputs": [],
   "source": [
    "#X_train_ns.shape"
   ]
  },
  {
   "cell_type": "markdown",
   "id": "bizarre-assumption",
   "metadata": {},
   "source": [
    "comparando el resultado del modelo con los datos escalados al del proyecto , podemos ver que con las nuevas decisiones tomadas el mismo funciona mejor, no tiende tanto al overfitting. \n",
    "Aunque el numero de arboles optimo sigue siendo el 11, el modelo funciona mucho mejor. "
   ]
  },
  {
   "cell_type": "code",
   "execution_count": null,
   "id": "worldwide-parallel",
   "metadata": {},
   "outputs": [],
   "source": []
  },
  {
   "cell_type": "markdown",
   "id": "piano-cancellation",
   "metadata": {},
   "source": [
    "**PARTE B - Modelos Avanzados**\n",
    "\n",
    "6- Elige dos de los modelos avanzados vistos (en el caso de regresión, considera una regresión lineal con atributos polinómicos y regularización). Entrénalos y evalúalos con sus argumentos por defecto. No te olvides de hacer un train/test split y usar Validación Cruzada.\n",
    "\n",
    "7- Optimiza sus hiperparámetros mediante Validación Cruzada y Grid Search o Random Search.\n",
    "\n",
    "8- Compara el desempeño de los nuevos modelos entre sí y con el modelo de la Parte A. ¿Cuál elegirías? Justifica."
   ]
  },
  {
   "cell_type": "markdown",
   "id": "written-elizabeth",
   "metadata": {},
   "source": [
    "Vamos a utilizar validacion cruzada\n",
    "\n",
    "Redefinimos nuevamente las variables\n"
   ]
  },
  {
   "cell_type": "code",
   "execution_count": 78,
   "id": "otherwise-fellow",
   "metadata": {},
   "outputs": [],
   "source": [
    "X = concatenado[['rooms', 'bedrooms', 'bathrooms', 'surface_total', 'surface_covered']] \n",
    "y = concatenado['price']"
   ]
  },
  {
   "cell_type": "code",
   "execution_count": 87,
   "id": "raising-closing",
   "metadata": {},
   "outputs": [],
   "source": [
    "from sklearn.neighbors import KNeighborsRegressor\n",
    "from sklearn.ensemble import RandomForestRegressor\n",
    "from sklearn.model_selection import ShuffleSplit\n",
    "from sklearn.model_selection import cross_val_score\n",
    "from sklearn.model_selection import cross_validate\n",
    "from sklearn.metrics import accuracy_score"
   ]
  },
  {
   "cell_type": "code",
   "execution_count": 88,
   "id": "considerable-beach",
   "metadata": {},
   "outputs": [],
   "source": [
    "tree = DecisionTreeRegressor()\n",
    "tree_scores = cross_val_score(tree, X, y, cv=5)\n",
    "\n",
    "knn = KNeighborsRegressor(n_neighbors=1)\n",
    "knn_scores = cross_val_score(knn, X, y, cv=5)"
   ]
  },
  {
   "cell_type": "code",
   "execution_count": 89,
   "id": "eastern-distinction",
   "metadata": {},
   "outputs": [
    {
     "name": "stdout",
     "output_type": "stream",
     "text": [
      "[0.62745851 0.656275   0.63846223 0.63127719 0.6256073 ] [0.46845804 0.51346253 0.51703958 0.44407105 0.49519228]\n",
      "Accuracy para Tree: 0.64 (+/- 0.02)\n",
      "Accuracy para KNN: 0.49 (+/- 0.06)\n"
     ]
    }
   ],
   "source": [
    "print(tree_scores, knn_scores)\n",
    "# print(tree_scores.mean(), knn_scores.mean())\n",
    "print(\"Accuracy para Tree: %0.2f (+/- %0.2f)\" % (tree_scores.mean(), tree_scores.std() * 2))\n",
    "print(\"Accuracy para KNN: %0.2f (+/- %0.2f)\" % (knn_scores.mean(), knn_scores.std() * 2))"
   ]
  },
  {
   "cell_type": "code",
   "execution_count": 90,
   "id": "isolated-notebook",
   "metadata": {},
   "outputs": [],
   "source": [
    "tree_scores = cross_validate(tree, X, y, cv=5)\n",
    "knn_scores = cross_validate(knn, X, y, cv=5)"
   ]
  },
  {
   "cell_type": "code",
   "execution_count": 91,
   "id": "metric-firmware",
   "metadata": {},
   "outputs": [
    {
     "name": "stdout",
     "output_type": "stream",
     "text": [
      "{'fit_time': array([0.08927035, 0.05983973, 0.07633042, 0.04587746, 0.04986429]), 'score_time': array([0.00498748, 0.00498605, 0.00299168, 0.00398993, 0.0039897 ]), 'test_score': array([0.62596017, 0.65227483, 0.63619465, 0.63056187, 0.62894366])}\n",
      "{'fit_time': array([0.07679558, 0.07014847, 0.06640196, 0.06775784, 0.0847249 ]), 'score_time': array([0.05585146, 0.05086422, 0.04492545, 0.05885196, 0.05385613]), 'test_score': array([0.46845804, 0.51346253, 0.51703958, 0.44407105, 0.49519228])}\n"
     ]
    }
   ],
   "source": [
    "print(tree_scores)\n",
    "print(knn_scores)"
   ]
  },
  {
   "cell_type": "code",
   "execution_count": 92,
   "id": "prostate-development",
   "metadata": {},
   "outputs": [
    {
     "data": {
      "text/plain": [
       "['accuracy',\n",
       " 'adjusted_mutual_info_score',\n",
       " 'adjusted_rand_score',\n",
       " 'average_precision',\n",
       " 'balanced_accuracy',\n",
       " 'completeness_score',\n",
       " 'explained_variance',\n",
       " 'f1',\n",
       " 'f1_macro',\n",
       " 'f1_micro',\n",
       " 'f1_samples',\n",
       " 'f1_weighted',\n",
       " 'fowlkes_mallows_score',\n",
       " 'homogeneity_score',\n",
       " 'jaccard',\n",
       " 'jaccard_macro',\n",
       " 'jaccard_micro',\n",
       " 'jaccard_samples',\n",
       " 'jaccard_weighted',\n",
       " 'max_error',\n",
       " 'mutual_info_score',\n",
       " 'neg_brier_score',\n",
       " 'neg_log_loss',\n",
       " 'neg_mean_absolute_error',\n",
       " 'neg_mean_absolute_percentage_error',\n",
       " 'neg_mean_gamma_deviance',\n",
       " 'neg_mean_poisson_deviance',\n",
       " 'neg_mean_squared_error',\n",
       " 'neg_mean_squared_log_error',\n",
       " 'neg_median_absolute_error',\n",
       " 'neg_root_mean_squared_error',\n",
       " 'normalized_mutual_info_score',\n",
       " 'precision',\n",
       " 'precision_macro',\n",
       " 'precision_micro',\n",
       " 'precision_samples',\n",
       " 'precision_weighted',\n",
       " 'r2',\n",
       " 'rand_score',\n",
       " 'recall',\n",
       " 'recall_macro',\n",
       " 'recall_micro',\n",
       " 'recall_samples',\n",
       " 'recall_weighted',\n",
       " 'roc_auc',\n",
       " 'roc_auc_ovo',\n",
       " 'roc_auc_ovo_weighted',\n",
       " 'roc_auc_ovr',\n",
       " 'roc_auc_ovr_weighted',\n",
       " 'top_k_accuracy',\n",
       " 'v_measure_score']"
      ]
     },
     "execution_count": 92,
     "metadata": {},
     "output_type": "execute_result"
    }
   ],
   "source": [
    "#La siguiente celda muestra las metricas que podemos usar para evaluar en cross validate\n",
    "\n",
    "\n",
    "import sklearn\n",
    "sorted(sklearn.metrics.SCORERS.keys())"
   ]
  },
  {
   "cell_type": "markdown",
   "id": "brazilian-wagner",
   "metadata": {},
   "source": [
    "## Curvas de validación"
   ]
  },
  {
   "cell_type": "code",
   "execution_count": null,
   "id": "thorough-sentence",
   "metadata": {},
   "outputs": [],
   "source": []
  },
  {
   "cell_type": "code",
   "execution_count": null,
   "id": "cathedral-reservoir",
   "metadata": {},
   "outputs": [],
   "source": []
  },
  {
   "cell_type": "code",
   "execution_count": 94,
   "id": "severe-truck",
   "metadata": {},
   "outputs": [],
   "source": [
    "#def entrena_modelo(X_train, X_test, y_train, y_test, modelo):\n",
    " #   \n",
    "    #Entrenamos el modelo y predecimos y_train e y_test:\n",
    "   #modelo.fit(X_train, y_train)\n",
    "    #y_train_pred = modelo.predict(X_train)\n",
    "    #y_test_pred = modelo.predict(X_test)\n",
    "    \n",
    "    #Imprimimos las metricas consideradas para evaluar el modelo:\n",
    "    #rmse_train = np.sqrt(mean_squared_error(y_train, y_train_pred))\n",
    "    #rmse_test = np.sqrt(mean_squared_error(y_test, y_test_pred))\n",
    "    #r2 = modelo.score(X_test, y_test)\n",
    "    #print(f'Score de modelo: {r2}')\n",
    "    #print(f'Raiz del error cuadrático medio en Train: {rmse_train}')\n",
    "    #print(f'Raiz del error cuadrático medio en Test: {rmse_test}')\n",
    "    \n",
    "    #Graficamos la distribucion de errores:\n",
    "    #plt.figure(figsize = (15,6))\n",
    "    #plt.subplot(1,2,1)\n",
    "    #sns.distplot(y_train - y_train_pred, bins = 20, label = 'train')\n",
    "    #sns.distplot(y_test - y_test_pred, bins = 20, label = 'test')\n",
    "    #plt.xlabel('errores')\n",
    "    #plt.legend()\n",
    "    \n",
    "    #ax = plt.subplot(1,2,2)\n",
    "    #plt.scatter(y_test,y_test_pred, s =2)    \n",
    "    #lims = [\n",
    "    #np.min([ax.get_xlim(), ax.get_ylim()]),  # min of both axes\n",
    "    #np.max([ax.get_xlim(), ax.get_ylim()]),  # max of both axes]\n",
    "    #]    \n",
    "    #ax.plot(lims, lims, 'k-', alpha=0.75, zorder=0)\n",
    "    #plt.xlabel('y (test)')\n",
    "    #plt.ylabel('y_pred (test)')\n",
    "    \n",
    "    #plt.tight_layout()\n",
    "    #plt.show()\n",
    "    \n",
    "\n",
    "    #return rmse_train,rmse_test,r2\n",
    "\n"
   ]
  },
  {
   "cell_type": "code",
   "execution_count": 95,
   "id": "external-network",
   "metadata": {},
   "outputs": [],
   "source": [
    "#X_train4, X_test4, y_train4, y_test4 = train_test_split(X, y, test_size=0.2, random_state=42)"
   ]
  },
  {
   "cell_type": "code",
   "execution_count": 51,
   "id": "animated-andrews",
   "metadata": {},
   "outputs": [],
   "source": [
    "#modelo4 = RandomForestRegressor()"
   ]
  },
  {
   "cell_type": "code",
   "execution_count": 43,
   "id": "divine-citizen",
   "metadata": {},
   "outputs": [],
   "source": [
    "#rmse_train_4,rmse_test_4,score4 = entrena_modelo(X_train4, X_test4, y_train4, y_test4, modelo4)"
   ]
  },
  {
   "cell_type": "code",
   "execution_count": 44,
   "id": "pleased-trigger",
   "metadata": {},
   "outputs": [],
   "source": [
    "#modelo4"
   ]
  }
 ],
 "metadata": {
  "kernelspec": {
   "display_name": "Python 3",
   "language": "python",
   "name": "python3"
  },
  "language_info": {
   "codemirror_mode": {
    "name": "ipython",
    "version": 3
   },
   "file_extension": ".py",
   "mimetype": "text/x-python",
   "name": "python",
   "nbconvert_exporter": "python",
   "pygments_lexer": "ipython3",
   "version": "3.8.5"
  }
 },
 "nbformat": 4,
 "nbformat_minor": 5
}
