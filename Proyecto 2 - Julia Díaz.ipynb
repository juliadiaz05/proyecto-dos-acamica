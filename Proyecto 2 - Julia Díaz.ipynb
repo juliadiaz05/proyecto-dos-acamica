{
 "cells": [
  {
   "cell_type": "markdown",
   "id": "exempt-attack",
   "metadata": {},
   "source": [
    "# Proyecto 2: Ingeniería de features, Modelos avanzados e Interpretación de modelos."
   ]
  },
  {
   "cell_type": "markdown",
   "id": "preceding-peace",
   "metadata": {},
   "source": [
    "**PARTE A - Transformación de Datos**\n",
    "\n",
    "Elige cuáles de las siguientes tareas son apropiadas para su dataset. Justifica e implementa al menostres de las transformaciones de datos propuestas:\n",
    "\n",
    "1- Detección y eliminación de Outliers\n",
    "\n",
    "2- Encoding\n",
    "\n",
    "3- Imputación de valores faltantes\n",
    "\n",
    "4- Escalado de datos\n",
    "\n",
    "5- Generación de nuevas variables predictoras/reducción de dimensionalidad (SVD/PCA).\n",
    "\n",
    "Vuelve a entrenar el modelo implementado en la Entrega 01 - en particular, el árbol de decisión - y evalúa su desempeño a partir del dataset obtenido luego de transformar los datos. ¿Hay una mejora en su desempeño? Sea cual sea la respuesta, intenta explicar a qué se debe"
   ]
  },
  {
   "cell_type": "code",
   "execution_count": 1,
   "id": "protected-soccer",
   "metadata": {},
   "outputs": [],
   "source": [
    "#imporamos las librerias con las que vamos a trabajar en la parte A\n",
    "import numpy as np  \n",
    "import pandas as pd\n",
    "import matplotlib.pyplot as plt\n",
    "import seaborn as sns\n",
    "from sklearn.preprocessing import StandardScaler \n",
    "from sklearn.ensemble import RandomForestRegressor\n",
    "from sklearn.model_selection import GridSearchCV\n",
    "from sklearn.tree import DecisionTreeRegressor\n",
    "from sklearn.metrics import mean_squared_error\n",
    "from sklearn.linear_model import Ridge\n",
    "from sklearn.preprocessing import PolynomialFeatures"
   ]
  },
  {
   "cell_type": "code",
   "execution_count": 2,
   "id": "virtual-submission",
   "metadata": {},
   "outputs": [
    {
     "data": {
      "text/html": [
       "<div>\n",
       "<style scoped>\n",
       "    .dataframe tbody tr th:only-of-type {\n",
       "        vertical-align: middle;\n",
       "    }\n",
       "\n",
       "    .dataframe tbody tr th {\n",
       "        vertical-align: top;\n",
       "    }\n",
       "\n",
       "    .dataframe thead th {\n",
       "        text-align: right;\n",
       "    }\n",
       "</style>\n",
       "<table border=\"1\" class=\"dataframe\">\n",
       "  <thead>\n",
       "    <tr style=\"text-align: right;\">\n",
       "      <th></th>\n",
       "      <th>start_date</th>\n",
       "      <th>end_date</th>\n",
       "      <th>created_on</th>\n",
       "      <th>lat</th>\n",
       "      <th>lon</th>\n",
       "      <th>l1</th>\n",
       "      <th>l2</th>\n",
       "      <th>l3</th>\n",
       "      <th>rooms</th>\n",
       "      <th>bedrooms</th>\n",
       "      <th>bathrooms</th>\n",
       "      <th>surface_total</th>\n",
       "      <th>surface_covered</th>\n",
       "      <th>price</th>\n",
       "      <th>currency</th>\n",
       "      <th>title</th>\n",
       "      <th>description</th>\n",
       "      <th>property_type</th>\n",
       "      <th>operation_type</th>\n",
       "    </tr>\n",
       "  </thead>\n",
       "  <tbody>\n",
       "    <tr>\n",
       "      <th>0</th>\n",
       "      <td>2019-10-17</td>\n",
       "      <td>2019-12-23</td>\n",
       "      <td>2019-10-17</td>\n",
       "      <td>-34.605880</td>\n",
       "      <td>-58.384949</td>\n",
       "      <td>Argentina</td>\n",
       "      <td>Capital Federal</td>\n",
       "      <td>San Cristobal</td>\n",
       "      <td>7.0</td>\n",
       "      <td>7.0</td>\n",
       "      <td>2.0</td>\n",
       "      <td>140.0</td>\n",
       "      <td>140.0</td>\n",
       "      <td>153000.0</td>\n",
       "      <td>USD</td>\n",
       "      <td>***Venta semipiso centro, ideal hostel*****</td>\n",
       "      <td>DESCRIPCION DE LA PROPIEDAD: Departamento de 1...</td>\n",
       "      <td>Departamento</td>\n",
       "      <td>Venta</td>\n",
       "    </tr>\n",
       "    <tr>\n",
       "      <th>1</th>\n",
       "      <td>2019-10-17</td>\n",
       "      <td>2019-11-21</td>\n",
       "      <td>2019-10-17</td>\n",
       "      <td>-34.624056</td>\n",
       "      <td>-58.412110</td>\n",
       "      <td>Argentina</td>\n",
       "      <td>Capital Federal</td>\n",
       "      <td>Boedo</td>\n",
       "      <td>2.0</td>\n",
       "      <td>1.0</td>\n",
       "      <td>2.0</td>\n",
       "      <td>70.0</td>\n",
       "      <td>58.0</td>\n",
       "      <td>159000.0</td>\n",
       "      <td>USD</td>\n",
       "      <td>Espectacular PH reciclado en Boedo sin expensas.</td>\n",
       "      <td>PH reciclado en Boedo a una cuadra de la plaz...</td>\n",
       "      <td>PH</td>\n",
       "      <td>Venta</td>\n",
       "    </tr>\n",
       "    <tr>\n",
       "      <th>2</th>\n",
       "      <td>2019-10-17</td>\n",
       "      <td>2019-11-01</td>\n",
       "      <td>2019-10-17</td>\n",
       "      <td>-34.593569</td>\n",
       "      <td>-58.427474</td>\n",
       "      <td>Argentina</td>\n",
       "      <td>Capital Federal</td>\n",
       "      <td>Palermo</td>\n",
       "      <td>2.0</td>\n",
       "      <td>1.0</td>\n",
       "      <td>1.0</td>\n",
       "      <td>45.0</td>\n",
       "      <td>45.0</td>\n",
       "      <td>125000.0</td>\n",
       "      <td>USD</td>\n",
       "      <td>Depto.tipo casa de 2 ambientes en Venta en Pal...</td>\n",
       "      <td>2 ambienets amplio , excelente estado , patio ...</td>\n",
       "      <td>PH</td>\n",
       "      <td>Venta</td>\n",
       "    </tr>\n",
       "    <tr>\n",
       "      <th>3</th>\n",
       "      <td>2019-10-17</td>\n",
       "      <td>2019-12-23</td>\n",
       "      <td>2019-10-17</td>\n",
       "      <td>-34.581294</td>\n",
       "      <td>-58.436754</td>\n",
       "      <td>Argentina</td>\n",
       "      <td>Capital Federal</td>\n",
       "      <td>Palermo</td>\n",
       "      <td>2.0</td>\n",
       "      <td>1.0</td>\n",
       "      <td>1.0</td>\n",
       "      <td>85.0</td>\n",
       "      <td>50.0</td>\n",
       "      <td>295000.0</td>\n",
       "      <td>USD</td>\n",
       "      <td>COSTA RICA 5800 / PALERMO HOLLYWOOD / VENTA PH...</td>\n",
       "      <td>HERMOSO PH EN PALERMO!!!2 AMBIENTES TOTALMENTE...</td>\n",
       "      <td>PH</td>\n",
       "      <td>Venta</td>\n",
       "    </tr>\n",
       "    <tr>\n",
       "      <th>4</th>\n",
       "      <td>2019-10-17</td>\n",
       "      <td>2020-03-11</td>\n",
       "      <td>2019-10-17</td>\n",
       "      <td>-34.914194</td>\n",
       "      <td>-57.938219</td>\n",
       "      <td>Argentina</td>\n",
       "      <td>Bs.As. G.B.A. Zona Sur</td>\n",
       "      <td>La Plata</td>\n",
       "      <td>2.0</td>\n",
       "      <td>1.0</td>\n",
       "      <td>1.0</td>\n",
       "      <td>50.0</td>\n",
       "      <td>35.0</td>\n",
       "      <td>40000.0</td>\n",
       "      <td>USD</td>\n",
       "      <td>58 entre 1 y 2  Venta de departamento en ph.1 ...</td>\n",
       "      <td>58 entre 1 y 2  Venta de departamento en PH. P...</td>\n",
       "      <td>PH</td>\n",
       "      <td>Venta</td>\n",
       "    </tr>\n",
       "  </tbody>\n",
       "</table>\n",
       "</div>"
      ],
      "text/plain": [
       "   start_date    end_date  created_on        lat        lon         l1  \\\n",
       "0  2019-10-17  2019-12-23  2019-10-17 -34.605880 -58.384949  Argentina   \n",
       "1  2019-10-17  2019-11-21  2019-10-17 -34.624056 -58.412110  Argentina   \n",
       "2  2019-10-17  2019-11-01  2019-10-17 -34.593569 -58.427474  Argentina   \n",
       "3  2019-10-17  2019-12-23  2019-10-17 -34.581294 -58.436754  Argentina   \n",
       "4  2019-10-17  2020-03-11  2019-10-17 -34.914194 -57.938219  Argentina   \n",
       "\n",
       "                       l2             l3  rooms  bedrooms  bathrooms  \\\n",
       "0         Capital Federal  San Cristobal    7.0       7.0        2.0   \n",
       "1         Capital Federal          Boedo    2.0       1.0        2.0   \n",
       "2         Capital Federal        Palermo    2.0       1.0        1.0   \n",
       "3         Capital Federal        Palermo    2.0       1.0        1.0   \n",
       "4  Bs.As. G.B.A. Zona Sur       La Plata    2.0       1.0        1.0   \n",
       "\n",
       "   surface_total  surface_covered     price currency  \\\n",
       "0          140.0            140.0  153000.0      USD   \n",
       "1           70.0             58.0  159000.0      USD   \n",
       "2           45.0             45.0  125000.0      USD   \n",
       "3           85.0             50.0  295000.0      USD   \n",
       "4           50.0             35.0   40000.0      USD   \n",
       "\n",
       "                                               title  \\\n",
       "0        ***Venta semipiso centro, ideal hostel*****   \n",
       "1   Espectacular PH reciclado en Boedo sin expensas.   \n",
       "2  Depto.tipo casa de 2 ambientes en Venta en Pal...   \n",
       "3  COSTA RICA 5800 / PALERMO HOLLYWOOD / VENTA PH...   \n",
       "4  58 entre 1 y 2  Venta de departamento en ph.1 ...   \n",
       "\n",
       "                                         description property_type  \\\n",
       "0  DESCRIPCION DE LA PROPIEDAD: Departamento de 1...  Departamento   \n",
       "1   PH reciclado en Boedo a una cuadra de la plaz...            PH   \n",
       "2  2 ambienets amplio , excelente estado , patio ...            PH   \n",
       "3  HERMOSO PH EN PALERMO!!!2 AMBIENTES TOTALMENTE...            PH   \n",
       "4  58 entre 1 y 2  Venta de departamento en PH. P...            PH   \n",
       "\n",
       "  operation_type  \n",
       "0          Venta  \n",
       "1          Venta  \n",
       "2          Venta  \n",
       "3          Venta  \n",
       "4          Venta  "
      ]
     },
     "execution_count": 2,
     "metadata": {},
     "output_type": "execute_result"
    }
   ],
   "source": [
    "proyecto = pd.read_csv('DS_Proyecto_01_Datos_Properati.csv') #importamos el dataset \n",
    "proyecto.head()"
   ]
  },
  {
   "cell_type": "code",
   "execution_count": 3,
   "id": "brutal-nurse",
   "metadata": {},
   "outputs": [
    {
     "data": {
      "text/plain": [
       "start_date             0\n",
       "end_date               0\n",
       "created_on             0\n",
       "lat                 9925\n",
       "lon                 9959\n",
       "l1                     0\n",
       "l2                     0\n",
       "l3                     0\n",
       "rooms                  0\n",
       "bedrooms               0\n",
       "bathrooms           5957\n",
       "surface_total      20527\n",
       "surface_covered    21614\n",
       "price                  0\n",
       "currency               0\n",
       "title                  0\n",
       "description            0\n",
       "property_type          0\n",
       "operation_type         0\n",
       "dtype: int64"
      ]
     },
     "execution_count": 3,
     "metadata": {},
     "output_type": "execute_result"
    }
   ],
   "source": [
    "proyecto.isna().sum()"
   ]
  },
  {
   "cell_type": "code",
   "execution_count": 4,
   "id": "tender-height",
   "metadata": {},
   "outputs": [
    {
     "name": "stdout",
     "output_type": "stream",
     "text": [
      "<class 'pandas.core.frame.DataFrame'>\n",
      "RangeIndex: 146660 entries, 0 to 146659\n",
      "Data columns (total 19 columns):\n",
      " #   Column           Non-Null Count   Dtype  \n",
      "---  ------           --------------   -----  \n",
      " 0   start_date       146660 non-null  object \n",
      " 1   end_date         146660 non-null  object \n",
      " 2   created_on       146660 non-null  object \n",
      " 3   lat              136735 non-null  float64\n",
      " 4   lon              136701 non-null  float64\n",
      " 5   l1               146660 non-null  object \n",
      " 6   l2               146660 non-null  object \n",
      " 7   l3               146660 non-null  object \n",
      " 8   rooms            146660 non-null  float64\n",
      " 9   bedrooms         146660 non-null  float64\n",
      " 10  bathrooms        140703 non-null  float64\n",
      " 11  surface_total    126133 non-null  float64\n",
      " 12  surface_covered  125046 non-null  float64\n",
      " 13  price            146660 non-null  float64\n",
      " 14  currency         146660 non-null  object \n",
      " 15  title            146660 non-null  object \n",
      " 16  description      146660 non-null  object \n",
      " 17  property_type    146660 non-null  object \n",
      " 18  operation_type   146660 non-null  object \n",
      "dtypes: float64(8), object(11)\n",
      "memory usage: 21.3+ MB\n"
     ]
    }
   ],
   "source": [
    "proyecto.info()"
   ]
  },
  {
   "cell_type": "markdown",
   "id": "talented-visiting",
   "metadata": {},
   "source": [
    "Para comenzar, voy realizar un filtro sobre propiedad, trabajando sólo con departamento, PH y casa de Capital Federal; la superficie total debe ser mayor a la cubierta y debe tener como máximo 5 baños. El valor máximo a tomar por propiedad es de hasta USD$400.000"
   ]
  },
  {
   "cell_type": "code",
   "execution_count": 5,
   "id": "portable-static",
   "metadata": {},
   "outputs": [
    {
     "data": {
      "text/plain": [
       "(70059, 19)"
      ]
     },
     "execution_count": 5,
     "metadata": {},
     "output_type": "execute_result"
    }
   ],
   "source": [
    "nprop = proyecto.property_type.isin(['Departamento', 'Casa', 'PH'])\n",
    "nsup=(proyecto['surface_total']>=proyecto['surface_covered'])\n",
    "nprecio= proyecto['price']<=400000\n",
    "ncap= proyecto['l2']=='Capital Federal'\n",
    "nban= proyecto['bathrooms']<=5\n",
    "\n",
    "\n",
    "proyecto=proyecto[nprop & nsup & nprecio & ncap & nban]\n",
    "proyecto.shape\n",
    "\n"
   ]
  },
  {
   "cell_type": "code",
   "execution_count": 6,
   "id": "prescribed-petite",
   "metadata": {},
   "outputs": [
    {
     "data": {
      "text/plain": [
       "start_date            0\n",
       "end_date              0\n",
       "created_on            0\n",
       "lat                3057\n",
       "lon                3057\n",
       "l1                    0\n",
       "l2                    0\n",
       "l3                    0\n",
       "rooms                 0\n",
       "bedrooms              0\n",
       "bathrooms             0\n",
       "surface_total         0\n",
       "surface_covered       0\n",
       "price                 0\n",
       "currency              0\n",
       "title                 0\n",
       "description           0\n",
       "property_type         0\n",
       "operation_type        0\n",
       "dtype: int64"
      ]
     },
     "execution_count": 6,
     "metadata": {},
     "output_type": "execute_result"
    }
   ],
   "source": [
    "proyecto.isna().sum()"
   ]
  },
  {
   "cell_type": "markdown",
   "id": "stuffed-outdoors",
   "metadata": {},
   "source": [
    "* **Encoding**"
   ]
  },
  {
   "cell_type": "markdown",
   "id": "adverse-specific",
   "metadata": {},
   "source": [
    "Vamos a convertir las variables de Tipo de propiedad en numéricas y se van a añadir al DS"
   ]
  },
  {
   "cell_type": "code",
   "execution_count": 7,
   "id": "modular-terrain",
   "metadata": {},
   "outputs": [
    {
     "data": {
      "text/html": [
       "<div>\n",
       "<style scoped>\n",
       "    .dataframe tbody tr th:only-of-type {\n",
       "        vertical-align: middle;\n",
       "    }\n",
       "\n",
       "    .dataframe tbody tr th {\n",
       "        vertical-align: top;\n",
       "    }\n",
       "\n",
       "    .dataframe thead th {\n",
       "        text-align: right;\n",
       "    }\n",
       "</style>\n",
       "<table border=\"1\" class=\"dataframe\">\n",
       "  <thead>\n",
       "    <tr style=\"text-align: right;\">\n",
       "      <th></th>\n",
       "      <th>property_type_Casa</th>\n",
       "      <th>property_type_Departamento</th>\n",
       "      <th>property_type_PH</th>\n",
       "    </tr>\n",
       "  </thead>\n",
       "  <tbody>\n",
       "    <tr>\n",
       "      <th>0</th>\n",
       "      <td>0</td>\n",
       "      <td>1</td>\n",
       "      <td>0</td>\n",
       "    </tr>\n",
       "    <tr>\n",
       "      <th>1</th>\n",
       "      <td>0</td>\n",
       "      <td>0</td>\n",
       "      <td>1</td>\n",
       "    </tr>\n",
       "    <tr>\n",
       "      <th>2</th>\n",
       "      <td>0</td>\n",
       "      <td>0</td>\n",
       "      <td>1</td>\n",
       "    </tr>\n",
       "    <tr>\n",
       "      <th>3</th>\n",
       "      <td>0</td>\n",
       "      <td>0</td>\n",
       "      <td>1</td>\n",
       "    </tr>\n",
       "    <tr>\n",
       "      <th>5</th>\n",
       "      <td>0</td>\n",
       "      <td>0</td>\n",
       "      <td>1</td>\n",
       "    </tr>\n",
       "    <tr>\n",
       "      <th>...</th>\n",
       "      <td>...</td>\n",
       "      <td>...</td>\n",
       "      <td>...</td>\n",
       "    </tr>\n",
       "    <tr>\n",
       "      <th>146542</th>\n",
       "      <td>0</td>\n",
       "      <td>1</td>\n",
       "      <td>0</td>\n",
       "    </tr>\n",
       "    <tr>\n",
       "      <th>146543</th>\n",
       "      <td>0</td>\n",
       "      <td>1</td>\n",
       "      <td>0</td>\n",
       "    </tr>\n",
       "    <tr>\n",
       "      <th>146545</th>\n",
       "      <td>0</td>\n",
       "      <td>1</td>\n",
       "      <td>0</td>\n",
       "    </tr>\n",
       "    <tr>\n",
       "      <th>146549</th>\n",
       "      <td>0</td>\n",
       "      <td>0</td>\n",
       "      <td>1</td>\n",
       "    </tr>\n",
       "    <tr>\n",
       "      <th>146550</th>\n",
       "      <td>0</td>\n",
       "      <td>0</td>\n",
       "      <td>1</td>\n",
       "    </tr>\n",
       "  </tbody>\n",
       "</table>\n",
       "<p>70059 rows × 3 columns</p>\n",
       "</div>"
      ],
      "text/plain": [
       "        property_type_Casa  property_type_Departamento  property_type_PH\n",
       "0                        0                           1                 0\n",
       "1                        0                           0                 1\n",
       "2                        0                           0                 1\n",
       "3                        0                           0                 1\n",
       "5                        0                           0                 1\n",
       "...                    ...                         ...               ...\n",
       "146542                   0                           1                 0\n",
       "146543                   0                           1                 0\n",
       "146545                   0                           1                 0\n",
       "146549                   0                           0                 1\n",
       "146550                   0                           0                 1\n",
       "\n",
       "[70059 rows x 3 columns]"
      ]
     },
     "execution_count": 7,
     "metadata": {},
     "output_type": "execute_result"
    }
   ],
   "source": [
    "dummies= pd.get_dummies(proyecto['property_type'], prefix = 'property_type')\n",
    "dummies"
   ]
  },
  {
   "cell_type": "code",
   "execution_count": 8,
   "id": "boring-oxide",
   "metadata": {},
   "outputs": [
    {
     "data": {
      "text/html": [
       "<div>\n",
       "<style scoped>\n",
       "    .dataframe tbody tr th:only-of-type {\n",
       "        vertical-align: middle;\n",
       "    }\n",
       "\n",
       "    .dataframe tbody tr th {\n",
       "        vertical-align: top;\n",
       "    }\n",
       "\n",
       "    .dataframe thead th {\n",
       "        text-align: right;\n",
       "    }\n",
       "</style>\n",
       "<table border=\"1\" class=\"dataframe\">\n",
       "  <thead>\n",
       "    <tr style=\"text-align: right;\">\n",
       "      <th></th>\n",
       "      <th>start_date</th>\n",
       "      <th>end_date</th>\n",
       "      <th>created_on</th>\n",
       "      <th>lat</th>\n",
       "      <th>lon</th>\n",
       "      <th>l1</th>\n",
       "      <th>l2</th>\n",
       "      <th>l3</th>\n",
       "      <th>rooms</th>\n",
       "      <th>bedrooms</th>\n",
       "      <th>...</th>\n",
       "      <th>surface_covered</th>\n",
       "      <th>price</th>\n",
       "      <th>currency</th>\n",
       "      <th>title</th>\n",
       "      <th>description</th>\n",
       "      <th>property_type</th>\n",
       "      <th>operation_type</th>\n",
       "      <th>property_type_Casa</th>\n",
       "      <th>property_type_Departamento</th>\n",
       "      <th>property_type_PH</th>\n",
       "    </tr>\n",
       "  </thead>\n",
       "  <tbody>\n",
       "    <tr>\n",
       "      <th>0</th>\n",
       "      <td>2019-10-17</td>\n",
       "      <td>2019-12-23</td>\n",
       "      <td>2019-10-17</td>\n",
       "      <td>-34.605880</td>\n",
       "      <td>-58.384949</td>\n",
       "      <td>Argentina</td>\n",
       "      <td>Capital Federal</td>\n",
       "      <td>San Cristobal</td>\n",
       "      <td>7.0</td>\n",
       "      <td>7.0</td>\n",
       "      <td>...</td>\n",
       "      <td>140.0</td>\n",
       "      <td>153000.0</td>\n",
       "      <td>USD</td>\n",
       "      <td>***Venta semipiso centro, ideal hostel*****</td>\n",
       "      <td>DESCRIPCION DE LA PROPIEDAD: Departamento de 1...</td>\n",
       "      <td>Departamento</td>\n",
       "      <td>Venta</td>\n",
       "      <td>0</td>\n",
       "      <td>1</td>\n",
       "      <td>0</td>\n",
       "    </tr>\n",
       "    <tr>\n",
       "      <th>1</th>\n",
       "      <td>2019-10-17</td>\n",
       "      <td>2019-11-21</td>\n",
       "      <td>2019-10-17</td>\n",
       "      <td>-34.624056</td>\n",
       "      <td>-58.412110</td>\n",
       "      <td>Argentina</td>\n",
       "      <td>Capital Federal</td>\n",
       "      <td>Boedo</td>\n",
       "      <td>2.0</td>\n",
       "      <td>1.0</td>\n",
       "      <td>...</td>\n",
       "      <td>58.0</td>\n",
       "      <td>159000.0</td>\n",
       "      <td>USD</td>\n",
       "      <td>Espectacular PH reciclado en Boedo sin expensas.</td>\n",
       "      <td>PH reciclado en Boedo a una cuadra de la plaz...</td>\n",
       "      <td>PH</td>\n",
       "      <td>Venta</td>\n",
       "      <td>0</td>\n",
       "      <td>0</td>\n",
       "      <td>1</td>\n",
       "    </tr>\n",
       "    <tr>\n",
       "      <th>2</th>\n",
       "      <td>2019-10-17</td>\n",
       "      <td>2019-11-01</td>\n",
       "      <td>2019-10-17</td>\n",
       "      <td>-34.593569</td>\n",
       "      <td>-58.427474</td>\n",
       "      <td>Argentina</td>\n",
       "      <td>Capital Federal</td>\n",
       "      <td>Palermo</td>\n",
       "      <td>2.0</td>\n",
       "      <td>1.0</td>\n",
       "      <td>...</td>\n",
       "      <td>45.0</td>\n",
       "      <td>125000.0</td>\n",
       "      <td>USD</td>\n",
       "      <td>Depto.tipo casa de 2 ambientes en Venta en Pal...</td>\n",
       "      <td>2 ambienets amplio , excelente estado , patio ...</td>\n",
       "      <td>PH</td>\n",
       "      <td>Venta</td>\n",
       "      <td>0</td>\n",
       "      <td>0</td>\n",
       "      <td>1</td>\n",
       "    </tr>\n",
       "    <tr>\n",
       "      <th>3</th>\n",
       "      <td>2019-10-17</td>\n",
       "      <td>2019-12-23</td>\n",
       "      <td>2019-10-17</td>\n",
       "      <td>-34.581294</td>\n",
       "      <td>-58.436754</td>\n",
       "      <td>Argentina</td>\n",
       "      <td>Capital Federal</td>\n",
       "      <td>Palermo</td>\n",
       "      <td>2.0</td>\n",
       "      <td>1.0</td>\n",
       "      <td>...</td>\n",
       "      <td>50.0</td>\n",
       "      <td>295000.0</td>\n",
       "      <td>USD</td>\n",
       "      <td>COSTA RICA 5800 / PALERMO HOLLYWOOD / VENTA PH...</td>\n",
       "      <td>HERMOSO PH EN PALERMO!!!2 AMBIENTES TOTALMENTE...</td>\n",
       "      <td>PH</td>\n",
       "      <td>Venta</td>\n",
       "      <td>0</td>\n",
       "      <td>0</td>\n",
       "      <td>1</td>\n",
       "    </tr>\n",
       "    <tr>\n",
       "      <th>5</th>\n",
       "      <td>2019-10-17</td>\n",
       "      <td>2019-11-01</td>\n",
       "      <td>2019-10-17</td>\n",
       "      <td>-34.593779</td>\n",
       "      <td>-58.441239</td>\n",
       "      <td>Argentina</td>\n",
       "      <td>Capital Federal</td>\n",
       "      <td>Villa Crespo</td>\n",
       "      <td>2.0</td>\n",
       "      <td>1.0</td>\n",
       "      <td>...</td>\n",
       "      <td>56.0</td>\n",
       "      <td>150000.0</td>\n",
       "      <td>USD</td>\n",
       "      <td>Depto.tipo casa de 2 ambientes en Venta en Vil...</td>\n",
       "      <td>Excelente ph solo 2 unidades, no paga expensas...</td>\n",
       "      <td>PH</td>\n",
       "      <td>Venta</td>\n",
       "      <td>0</td>\n",
       "      <td>0</td>\n",
       "      <td>1</td>\n",
       "    </tr>\n",
       "    <tr>\n",
       "      <th>...</th>\n",
       "      <td>...</td>\n",
       "      <td>...</td>\n",
       "      <td>...</td>\n",
       "      <td>...</td>\n",
       "      <td>...</td>\n",
       "      <td>...</td>\n",
       "      <td>...</td>\n",
       "      <td>...</td>\n",
       "      <td>...</td>\n",
       "      <td>...</td>\n",
       "      <td>...</td>\n",
       "      <td>...</td>\n",
       "      <td>...</td>\n",
       "      <td>...</td>\n",
       "      <td>...</td>\n",
       "      <td>...</td>\n",
       "      <td>...</td>\n",
       "      <td>...</td>\n",
       "      <td>...</td>\n",
       "      <td>...</td>\n",
       "      <td>...</td>\n",
       "    </tr>\n",
       "    <tr>\n",
       "      <th>146542</th>\n",
       "      <td>2019-07-31</td>\n",
       "      <td>2020-01-17</td>\n",
       "      <td>2019-07-31</td>\n",
       "      <td>-34.578688</td>\n",
       "      <td>-58.435533</td>\n",
       "      <td>Argentina</td>\n",
       "      <td>Capital Federal</td>\n",
       "      <td>Palermo</td>\n",
       "      <td>2.0</td>\n",
       "      <td>1.0</td>\n",
       "      <td>...</td>\n",
       "      <td>80.0</td>\n",
       "      <td>170000.0</td>\n",
       "      <td>USD</td>\n",
       "      <td>A extrenar departamento en venta  en Palermo</td>\n",
       "      <td>Simpático departamento a estrenar en Palermo H...</td>\n",
       "      <td>Departamento</td>\n",
       "      <td>Venta</td>\n",
       "      <td>0</td>\n",
       "      <td>1</td>\n",
       "      <td>0</td>\n",
       "    </tr>\n",
       "    <tr>\n",
       "      <th>146543</th>\n",
       "      <td>2019-07-31</td>\n",
       "      <td>2019-08-14</td>\n",
       "      <td>2019-07-31</td>\n",
       "      <td>-34.581699</td>\n",
       "      <td>-58.433547</td>\n",
       "      <td>Argentina</td>\n",
       "      <td>Capital Federal</td>\n",
       "      <td>Palermo</td>\n",
       "      <td>3.0</td>\n",
       "      <td>2.0</td>\n",
       "      <td>...</td>\n",
       "      <td>81.0</td>\n",
       "      <td>225000.0</td>\n",
       "      <td>USD</td>\n",
       "      <td>Duplex 2 dormitorios super luminoso y amplio !</td>\n",
       "      <td>Para visitarlo contactar a Marta Cell: 0116153...</td>\n",
       "      <td>Departamento</td>\n",
       "      <td>Venta</td>\n",
       "      <td>0</td>\n",
       "      <td>1</td>\n",
       "      <td>0</td>\n",
       "    </tr>\n",
       "    <tr>\n",
       "      <th>146545</th>\n",
       "      <td>2019-07-31</td>\n",
       "      <td>2019-09-04</td>\n",
       "      <td>2019-07-31</td>\n",
       "      <td>-34.581425</td>\n",
       "      <td>-58.442707</td>\n",
       "      <td>Argentina</td>\n",
       "      <td>Capital Federal</td>\n",
       "      <td>Palermo</td>\n",
       "      <td>3.0</td>\n",
       "      <td>2.0</td>\n",
       "      <td>...</td>\n",
       "      <td>82.0</td>\n",
       "      <td>399000.0</td>\n",
       "      <td>USD</td>\n",
       "      <td>Palermo Hollywood - 3 Amb c/ dependencia y coc...</td>\n",
       "      <td>Exclusivo 3 ambientes c/depend., balcón al con...</td>\n",
       "      <td>Departamento</td>\n",
       "      <td>Venta</td>\n",
       "      <td>0</td>\n",
       "      <td>1</td>\n",
       "      <td>0</td>\n",
       "    </tr>\n",
       "    <tr>\n",
       "      <th>146549</th>\n",
       "      <td>2019-07-31</td>\n",
       "      <td>2019-10-12</td>\n",
       "      <td>2019-07-31</td>\n",
       "      <td>-34.576573</td>\n",
       "      <td>-58.434394</td>\n",
       "      <td>Argentina</td>\n",
       "      <td>Capital Federal</td>\n",
       "      <td>Palermo</td>\n",
       "      <td>3.0</td>\n",
       "      <td>2.0</td>\n",
       "      <td>...</td>\n",
       "      <td>84.0</td>\n",
       "      <td>178000.0</td>\n",
       "      <td>USD</td>\n",
       "      <td>Hermoso PH de 3 ambientes al frente muy lumisoso</td>\n",
       "      <td>Hermoso PH ubicado en el primer piso.al frente...</td>\n",
       "      <td>PH</td>\n",
       "      <td>Venta</td>\n",
       "      <td>0</td>\n",
       "      <td>0</td>\n",
       "      <td>1</td>\n",
       "    </tr>\n",
       "    <tr>\n",
       "      <th>146550</th>\n",
       "      <td>2019-07-31</td>\n",
       "      <td>2019-09-21</td>\n",
       "      <td>2019-07-31</td>\n",
       "      <td>NaN</td>\n",
       "      <td>NaN</td>\n",
       "      <td>Argentina</td>\n",
       "      <td>Capital Federal</td>\n",
       "      <td>Palermo</td>\n",
       "      <td>5.0</td>\n",
       "      <td>2.0</td>\n",
       "      <td>...</td>\n",
       "      <td>95.0</td>\n",
       "      <td>298000.0</td>\n",
       "      <td>USD</td>\n",
       "      <td>PH de diseño - 5 ambientes con Terraza  sobre ...</td>\n",
       "      <td>PH de diseño de 2 dormitorios con escritorio a...</td>\n",
       "      <td>PH</td>\n",
       "      <td>Venta</td>\n",
       "      <td>0</td>\n",
       "      <td>0</td>\n",
       "      <td>1</td>\n",
       "    </tr>\n",
       "  </tbody>\n",
       "</table>\n",
       "<p>70059 rows × 22 columns</p>\n",
       "</div>"
      ],
      "text/plain": [
       "        start_date    end_date  created_on        lat        lon         l1  \\\n",
       "0       2019-10-17  2019-12-23  2019-10-17 -34.605880 -58.384949  Argentina   \n",
       "1       2019-10-17  2019-11-21  2019-10-17 -34.624056 -58.412110  Argentina   \n",
       "2       2019-10-17  2019-11-01  2019-10-17 -34.593569 -58.427474  Argentina   \n",
       "3       2019-10-17  2019-12-23  2019-10-17 -34.581294 -58.436754  Argentina   \n",
       "5       2019-10-17  2019-11-01  2019-10-17 -34.593779 -58.441239  Argentina   \n",
       "...            ...         ...         ...        ...        ...        ...   \n",
       "146542  2019-07-31  2020-01-17  2019-07-31 -34.578688 -58.435533  Argentina   \n",
       "146543  2019-07-31  2019-08-14  2019-07-31 -34.581699 -58.433547  Argentina   \n",
       "146545  2019-07-31  2019-09-04  2019-07-31 -34.581425 -58.442707  Argentina   \n",
       "146549  2019-07-31  2019-10-12  2019-07-31 -34.576573 -58.434394  Argentina   \n",
       "146550  2019-07-31  2019-09-21  2019-07-31        NaN        NaN  Argentina   \n",
       "\n",
       "                     l2             l3  rooms  bedrooms  ...  surface_covered  \\\n",
       "0       Capital Federal  San Cristobal    7.0       7.0  ...            140.0   \n",
       "1       Capital Federal          Boedo    2.0       1.0  ...             58.0   \n",
       "2       Capital Federal        Palermo    2.0       1.0  ...             45.0   \n",
       "3       Capital Federal        Palermo    2.0       1.0  ...             50.0   \n",
       "5       Capital Federal   Villa Crespo    2.0       1.0  ...             56.0   \n",
       "...                 ...            ...    ...       ...  ...              ...   \n",
       "146542  Capital Federal        Palermo    2.0       1.0  ...             80.0   \n",
       "146543  Capital Federal        Palermo    3.0       2.0  ...             81.0   \n",
       "146545  Capital Federal        Palermo    3.0       2.0  ...             82.0   \n",
       "146549  Capital Federal        Palermo    3.0       2.0  ...             84.0   \n",
       "146550  Capital Federal        Palermo    5.0       2.0  ...             95.0   \n",
       "\n",
       "           price  currency                                              title  \\\n",
       "0       153000.0       USD        ***Venta semipiso centro, ideal hostel*****   \n",
       "1       159000.0       USD   Espectacular PH reciclado en Boedo sin expensas.   \n",
       "2       125000.0       USD  Depto.tipo casa de 2 ambientes en Venta en Pal...   \n",
       "3       295000.0       USD  COSTA RICA 5800 / PALERMO HOLLYWOOD / VENTA PH...   \n",
       "5       150000.0       USD  Depto.tipo casa de 2 ambientes en Venta en Vil...   \n",
       "...          ...       ...                                                ...   \n",
       "146542  170000.0       USD      A extrenar departamento en venta  en Palermo    \n",
       "146543  225000.0       USD     Duplex 2 dormitorios super luminoso y amplio !   \n",
       "146545  399000.0       USD  Palermo Hollywood - 3 Amb c/ dependencia y coc...   \n",
       "146549  178000.0       USD   Hermoso PH de 3 ambientes al frente muy lumisoso   \n",
       "146550  298000.0       USD  PH de diseño - 5 ambientes con Terraza  sobre ...   \n",
       "\n",
       "                                              description property_type  \\\n",
       "0       DESCRIPCION DE LA PROPIEDAD: Departamento de 1...  Departamento   \n",
       "1        PH reciclado en Boedo a una cuadra de la plaz...            PH   \n",
       "2       2 ambienets amplio , excelente estado , patio ...            PH   \n",
       "3       HERMOSO PH EN PALERMO!!!2 AMBIENTES TOTALMENTE...            PH   \n",
       "5       Excelente ph solo 2 unidades, no paga expensas...            PH   \n",
       "...                                                   ...           ...   \n",
       "146542  Simpático departamento a estrenar en Palermo H...  Departamento   \n",
       "146543  Para visitarlo contactar a Marta Cell: 0116153...  Departamento   \n",
       "146545  Exclusivo 3 ambientes c/depend., balcón al con...  Departamento   \n",
       "146549  Hermoso PH ubicado en el primer piso.al frente...            PH   \n",
       "146550  PH de diseño de 2 dormitorios con escritorio a...            PH   \n",
       "\n",
       "       operation_type property_type_Casa property_type_Departamento  \\\n",
       "0               Venta                  0                          1   \n",
       "1               Venta                  0                          0   \n",
       "2               Venta                  0                          0   \n",
       "3               Venta                  0                          0   \n",
       "5               Venta                  0                          0   \n",
       "...               ...                ...                        ...   \n",
       "146542          Venta                  0                          1   \n",
       "146543          Venta                  0                          1   \n",
       "146545          Venta                  0                          1   \n",
       "146549          Venta                  0                          0   \n",
       "146550          Venta                  0                          0   \n",
       "\n",
       "        property_type_PH  \n",
       "0                      0  \n",
       "1                      1  \n",
       "2                      1  \n",
       "3                      1  \n",
       "5                      1  \n",
       "...                  ...  \n",
       "146542                 0  \n",
       "146543                 0  \n",
       "146545                 0  \n",
       "146549                 1  \n",
       "146550                 1  \n",
       "\n",
       "[70059 rows x 22 columns]"
      ]
     },
     "execution_count": 8,
     "metadata": {},
     "output_type": "execute_result"
    }
   ],
   "source": [
    "concatenado_uno =pd.concat([proyecto,dummies], axis=1)\n",
    "concatenado_uno"
   ]
  },
  {
   "cell_type": "markdown",
   "id": "strategic-investment",
   "metadata": {},
   "source": [
    "Elimino las variables que considero no aportan demasiado al Dataset"
   ]
  },
  {
   "cell_type": "code",
   "execution_count": 9,
   "id": "laden-pharmacology",
   "metadata": {},
   "outputs": [
    {
     "data": {
      "text/html": [
       "<div>\n",
       "<style scoped>\n",
       "    .dataframe tbody tr th:only-of-type {\n",
       "        vertical-align: middle;\n",
       "    }\n",
       "\n",
       "    .dataframe tbody tr th {\n",
       "        vertical-align: top;\n",
       "    }\n",
       "\n",
       "    .dataframe thead th {\n",
       "        text-align: right;\n",
       "    }\n",
       "</style>\n",
       "<table border=\"1\" class=\"dataframe\">\n",
       "  <thead>\n",
       "    <tr style=\"text-align: right;\">\n",
       "      <th></th>\n",
       "      <th>rooms</th>\n",
       "      <th>bedrooms</th>\n",
       "      <th>bathrooms</th>\n",
       "      <th>surface_total</th>\n",
       "      <th>surface_covered</th>\n",
       "      <th>price</th>\n",
       "      <th>property_type_Casa</th>\n",
       "      <th>property_type_Departamento</th>\n",
       "      <th>property_type_PH</th>\n",
       "    </tr>\n",
       "  </thead>\n",
       "  <tbody>\n",
       "    <tr>\n",
       "      <th>0</th>\n",
       "      <td>7.0</td>\n",
       "      <td>7.0</td>\n",
       "      <td>2.0</td>\n",
       "      <td>140.0</td>\n",
       "      <td>140.0</td>\n",
       "      <td>153000.0</td>\n",
       "      <td>0</td>\n",
       "      <td>1</td>\n",
       "      <td>0</td>\n",
       "    </tr>\n",
       "    <tr>\n",
       "      <th>1</th>\n",
       "      <td>2.0</td>\n",
       "      <td>1.0</td>\n",
       "      <td>2.0</td>\n",
       "      <td>70.0</td>\n",
       "      <td>58.0</td>\n",
       "      <td>159000.0</td>\n",
       "      <td>0</td>\n",
       "      <td>0</td>\n",
       "      <td>1</td>\n",
       "    </tr>\n",
       "    <tr>\n",
       "      <th>2</th>\n",
       "      <td>2.0</td>\n",
       "      <td>1.0</td>\n",
       "      <td>1.0</td>\n",
       "      <td>45.0</td>\n",
       "      <td>45.0</td>\n",
       "      <td>125000.0</td>\n",
       "      <td>0</td>\n",
       "      <td>0</td>\n",
       "      <td>1</td>\n",
       "    </tr>\n",
       "    <tr>\n",
       "      <th>3</th>\n",
       "      <td>2.0</td>\n",
       "      <td>1.0</td>\n",
       "      <td>1.0</td>\n",
       "      <td>85.0</td>\n",
       "      <td>50.0</td>\n",
       "      <td>295000.0</td>\n",
       "      <td>0</td>\n",
       "      <td>0</td>\n",
       "      <td>1</td>\n",
       "    </tr>\n",
       "    <tr>\n",
       "      <th>5</th>\n",
       "      <td>2.0</td>\n",
       "      <td>1.0</td>\n",
       "      <td>1.0</td>\n",
       "      <td>56.0</td>\n",
       "      <td>56.0</td>\n",
       "      <td>150000.0</td>\n",
       "      <td>0</td>\n",
       "      <td>0</td>\n",
       "      <td>1</td>\n",
       "    </tr>\n",
       "    <tr>\n",
       "      <th>...</th>\n",
       "      <td>...</td>\n",
       "      <td>...</td>\n",
       "      <td>...</td>\n",
       "      <td>...</td>\n",
       "      <td>...</td>\n",
       "      <td>...</td>\n",
       "      <td>...</td>\n",
       "      <td>...</td>\n",
       "      <td>...</td>\n",
       "    </tr>\n",
       "    <tr>\n",
       "      <th>146542</th>\n",
       "      <td>2.0</td>\n",
       "      <td>1.0</td>\n",
       "      <td>1.0</td>\n",
       "      <td>80.0</td>\n",
       "      <td>80.0</td>\n",
       "      <td>170000.0</td>\n",
       "      <td>0</td>\n",
       "      <td>1</td>\n",
       "      <td>0</td>\n",
       "    </tr>\n",
       "    <tr>\n",
       "      <th>146543</th>\n",
       "      <td>3.0</td>\n",
       "      <td>2.0</td>\n",
       "      <td>2.0</td>\n",
       "      <td>85.0</td>\n",
       "      <td>81.0</td>\n",
       "      <td>225000.0</td>\n",
       "      <td>0</td>\n",
       "      <td>1</td>\n",
       "      <td>0</td>\n",
       "    </tr>\n",
       "    <tr>\n",
       "      <th>146545</th>\n",
       "      <td>3.0</td>\n",
       "      <td>2.0</td>\n",
       "      <td>2.0</td>\n",
       "      <td>88.0</td>\n",
       "      <td>82.0</td>\n",
       "      <td>399000.0</td>\n",
       "      <td>0</td>\n",
       "      <td>1</td>\n",
       "      <td>0</td>\n",
       "    </tr>\n",
       "    <tr>\n",
       "      <th>146549</th>\n",
       "      <td>3.0</td>\n",
       "      <td>2.0</td>\n",
       "      <td>1.0</td>\n",
       "      <td>84.0</td>\n",
       "      <td>84.0</td>\n",
       "      <td>178000.0</td>\n",
       "      <td>0</td>\n",
       "      <td>0</td>\n",
       "      <td>1</td>\n",
       "    </tr>\n",
       "    <tr>\n",
       "      <th>146550</th>\n",
       "      <td>5.0</td>\n",
       "      <td>2.0</td>\n",
       "      <td>2.0</td>\n",
       "      <td>114.0</td>\n",
       "      <td>95.0</td>\n",
       "      <td>298000.0</td>\n",
       "      <td>0</td>\n",
       "      <td>0</td>\n",
       "      <td>1</td>\n",
       "    </tr>\n",
       "  </tbody>\n",
       "</table>\n",
       "<p>70059 rows × 9 columns</p>\n",
       "</div>"
      ],
      "text/plain": [
       "        rooms  bedrooms  bathrooms  surface_total  surface_covered     price  \\\n",
       "0         7.0       7.0        2.0          140.0            140.0  153000.0   \n",
       "1         2.0       1.0        2.0           70.0             58.0  159000.0   \n",
       "2         2.0       1.0        1.0           45.0             45.0  125000.0   \n",
       "3         2.0       1.0        1.0           85.0             50.0  295000.0   \n",
       "5         2.0       1.0        1.0           56.0             56.0  150000.0   \n",
       "...       ...       ...        ...            ...              ...       ...   \n",
       "146542    2.0       1.0        1.0           80.0             80.0  170000.0   \n",
       "146543    3.0       2.0        2.0           85.0             81.0  225000.0   \n",
       "146545    3.0       2.0        2.0           88.0             82.0  399000.0   \n",
       "146549    3.0       2.0        1.0           84.0             84.0  178000.0   \n",
       "146550    5.0       2.0        2.0          114.0             95.0  298000.0   \n",
       "\n",
       "        property_type_Casa  property_type_Departamento  property_type_PH  \n",
       "0                        0                           1                 0  \n",
       "1                        0                           0                 1  \n",
       "2                        0                           0                 1  \n",
       "3                        0                           0                 1  \n",
       "5                        0                           0                 1  \n",
       "...                    ...                         ...               ...  \n",
       "146542                   0                           1                 0  \n",
       "146543                   0                           1                 0  \n",
       "146545                   0                           1                 0  \n",
       "146549                   0                           0                 1  \n",
       "146550                   0                           0                 1  \n",
       "\n",
       "[70059 rows x 9 columns]"
      ]
     },
     "execution_count": 9,
     "metadata": {},
     "output_type": "execute_result"
    }
   ],
   "source": [
    "proyecto_uno = concatenado_uno.drop(columns = ['start_date', 'end_date', 'lat', 'lon', 'currency','title', 'description', 'operation_type', 'l1', 'created_on', 'property_type', 'l2','l3'])\n",
    "proyecto_uno"
   ]
  },
  {
   "cell_type": "markdown",
   "id": "express-recommendation",
   "metadata": {},
   "source": [
    "* **Detección de Outliers**"
   ]
  },
  {
   "cell_type": "markdown",
   "id": "egyptian-shooting",
   "metadata": {},
   "source": [
    "Para identificar los outliers de las distintas variables numéricas, graficaremos un boxplot para ver la distribución de cada una:\n",
    "\n",
    "Las variables numéricas son:  \n",
    "\n",
    " bedrooms        \n",
    " \n",
    " bathrooms      \n",
    " \n",
    " surface_total   \n",
    " \n",
    " surface_covered  \n",
    " \n",
    " price          "
   ]
  },
  {
   "cell_type": "code",
   "execution_count": 10,
   "id": "mathematical-moore",
   "metadata": {},
   "outputs": [
    {
     "data": {
      "text/plain": [
       "Text(0.5, 1.0, 'Distribución de la variable Price:')"
      ]
     },
     "execution_count": 10,
     "metadata": {},
     "output_type": "execute_result"
    },
    {
     "data": {
      "image/png": "[encoded data removed]",
      "text/plain": [
       "<Figure size 1440x720 with 5 Axes>"
      ]
     },
     "metadata": {
      "needs_background": "light"
     },
     "output_type": "display_data"
    }
   ],
   "source": [
    "plt.figure(figsize =(20,10))\n",
    "\n",
    "plt.subplot(9,1,1)\n",
    "\n",
    "sns.boxplot(data= proyecto_uno, x='bedrooms')\n",
    "plt.title('Distribución de la variable Bedrooms:')\n",
    "\n",
    "plt.subplot(9,1,3)\n",
    "\n",
    "sns.boxplot(data= proyecto_uno, x='bathrooms')\n",
    "plt.title('Distribución de la variable Bathrooms:')\n",
    "\n",
    "plt.subplot(9,1,5)\n",
    "\n",
    "sns.boxplot(data= proyecto_uno, x='surface_total')\n",
    "plt.title('Distribución de la variable  Surface_total:')\n",
    "\n",
    "plt.subplot(9,1,7)\n",
    "\n",
    "sns.boxplot(data= proyecto_uno, x='surface_covered')\n",
    "plt.title('Distribución de la variable  Surface_covered:')\n",
    "\n",
    "plt.subplot(9,1,9)\n",
    "\n",
    "sns.boxplot(data= proyecto_uno, x='price')\n",
    "plt.title('Distribución de la variable Price:')"
   ]
  },
  {
   "cell_type": "markdown",
   "id": "civilian-installation",
   "metadata": {},
   "source": [
    "Para quitar los outliers, voy a utilizar la regla de tres sigmas (en el proyecto anterior utilice rango intercuartilico)\n",
    "Se van a eliminar los valores atípicos de precio, superficie total y superficie cubierta porque son los que se visualizan con mas outliers"
   ]
  },
  {
   "cell_type": "code",
   "execution_count": 11,
   "id": "potential-peninsula",
   "metadata": {},
   "outputs": [],
   "source": [
    "from scipy.stats import zscore\n",
    "\n",
    "zscore_precio = zscore(proyecto_uno['price'])\n",
    "zscore_suptot = zscore(proyecto_uno['surface_total'])\n",
    "zscore_supcub = zscore(proyecto_uno['surface_covered'])\n",
    "filtro_zscore = (abs(zscore_precio)>3) |  (abs(zscore_suptot)>3) | (abs(zscore_supcub)>3)\n",
    "proyecto_dos= proyecto_uno[~filtro_zscore]"
   ]
  },
  {
   "cell_type": "code",
   "execution_count": 12,
   "id": "rational-bulgarian",
   "metadata": {},
   "outputs": [
    {
     "data": {
      "text/plain": [
       "(69947, 9)"
      ]
     },
     "execution_count": 12,
     "metadata": {},
     "output_type": "execute_result"
    }
   ],
   "source": [
    "proyecto_dos.shape"
   ]
  },
  {
   "cell_type": "markdown",
   "id": "apart-opening",
   "metadata": {},
   "source": [
    "Volvemos a graficar para ver la nueva distribución"
   ]
  },
  {
   "cell_type": "code",
   "execution_count": 13,
   "id": "vocal-woman",
   "metadata": {},
   "outputs": [
    {
     "data": {
      "text/plain": [
       "Text(0.5, 1.0, 'Distribución de la variable Price:')"
      ]
     },
     "execution_count": 13,
     "metadata": {},
     "output_type": "execute_result"
    },
    {
     "data": {
      "image/png": "[encoded data removed]",
      "text/plain": [
       "<Figure size 1440x720 with 5 Axes>"
      ]
     },
     "metadata": {
      "needs_background": "light"
     },
     "output_type": "display_data"
    }
   ],
   "source": [
    "plt.figure(figsize =(20,10))\n",
    "\n",
    "plt.subplot(9,1,1)\n",
    "\n",
    "sns.boxplot(data= proyecto_dos, x='bedrooms')\n",
    "plt.title('Distribución de la variable Bedrooms:')\n",
    "\n",
    "plt.subplot(9,1,3)\n",
    "\n",
    "sns.boxplot(data= proyecto_dos, x='bathrooms')\n",
    "plt.title('Distribución de la variable Bathrooms:')\n",
    "\n",
    "plt.subplot(9,1,5)\n",
    "\n",
    "sns.boxplot(data= proyecto_dos, x='surface_total')\n",
    "plt.title('Distribución de la variable  Surface_total:')\n",
    "\n",
    "plt.subplot(9,1,7)\n",
    "\n",
    "sns.boxplot(data= proyecto_dos, x='surface_covered')\n",
    "plt.title('Distribución de la variable  Surface_covered:')\n",
    "\n",
    "plt.subplot(9,1,9)\n",
    "\n",
    "sns.boxplot(data= proyecto_dos, x='price')\n",
    "plt.title('Distribución de la variable Price:')"
   ]
  },
  {
   "cell_type": "markdown",
   "id": "brilliant-blond",
   "metadata": {},
   "source": [
    "* **Escalado de datos**"
   ]
  },
  {
   "cell_type": "markdown",
   "id": "spare-phone",
   "metadata": {},
   "source": [
    "Definimos X e y y estandarizamos los datos"
   ]
  },
  {
   "cell_type": "code",
   "execution_count": 14,
   "id": "parliamentary-greensboro",
   "metadata": {},
   "outputs": [],
   "source": [
    "X = proyecto_dos[['rooms', 'bedrooms', 'bathrooms', 'surface_total', 'surface_covered', 'property_type_Casa', 'property_type_Departamento', 'property_type_PH']] \n",
    "y = proyecto_dos['price']"
   ]
  },
  {
   "cell_type": "code",
   "execution_count": 15,
   "id": "rough-smith",
   "metadata": {},
   "outputs": [],
   "source": [
    "from sklearn.model_selection import train_test_split\n",
    "\n",
    "X_train, X_test, y_train, y_test = train_test_split(X, y, test_size=0.2, random_state=42)"
   ]
  },
  {
   "cell_type": "code",
   "execution_count": 16,
   "id": "through-junction",
   "metadata": {},
   "outputs": [
    {
     "data": {
      "text/plain": [
       "array([[ 0.18695917,  0.16741775,  1.04521618, ..., -0.13591919,\n",
       "         0.41271085, -0.38210247],\n",
       "       [ 0.18695917,  0.16741775,  1.04521618, ..., -0.13591919,\n",
       "         0.41271085, -0.38210247],\n",
       "       [ 0.18695917,  0.16741775, -0.59468742, ..., -0.13591919,\n",
       "         0.41271085, -0.38210247],\n",
       "       ...,\n",
       "       [-0.70980699, -0.89305258,  1.04521618, ..., -0.13591919,\n",
       "         0.41271085, -0.38210247],\n",
       "       [ 1.08372532,  1.22788808, -0.59468742, ..., -0.13591919,\n",
       "        -2.42300391,  2.61709905],\n",
       "       [-1.60657315, -0.89305258, -0.59468742, ..., -0.13591919,\n",
       "         0.41271085, -0.38210247]])"
      ]
     },
     "execution_count": 16,
     "metadata": {},
     "output_type": "execute_result"
    }
   ],
   "source": [
    "scl = StandardScaler()\n",
    "X_train_scaler = scl.fit_transform(X_train)\n",
    "X_train_scaler"
   ]
  },
  {
   "cell_type": "code",
   "execution_count": 17,
   "id": "phantom-recipe",
   "metadata": {},
   "outputs": [
    {
     "data": {
      "text/plain": [
       "(4.2284384618209225e-17, 1.0)"
      ]
     },
     "execution_count": 17,
     "metadata": {},
     "output_type": "execute_result"
    }
   ],
   "source": [
    "np.mean(X_train_scaler),np.std(X_train_scaler) #media y desviacion estandar"
   ]
  },
  {
   "cell_type": "code",
   "execution_count": 18,
   "id": "collected-davis",
   "metadata": {},
   "outputs": [
    {
     "data": {
      "text/plain": [
       "(55957, 8)"
      ]
     },
     "execution_count": 18,
     "metadata": {},
     "output_type": "execute_result"
    }
   ],
   "source": [
    "X_train_scaler.shape"
   ]
  },
  {
   "cell_type": "code",
   "execution_count": 19,
   "id": "known-flush",
   "metadata": {},
   "outputs": [
    {
     "data": {
      "text/plain": [
       "array([[ 0.18695917,  0.16741775,  1.04521618, ..., -0.13591919,\n",
       "         0.41271085, -0.38210247],\n",
       "       [ 0.18695917,  0.16741775, -0.59468742, ..., -0.13591919,\n",
       "         0.41271085, -0.38210247],\n",
       "       [ 1.08372532,  1.22788808, -0.59468742, ..., -0.13591919,\n",
       "         0.41271085, -0.38210247],\n",
       "       ...,\n",
       "       [ 1.08372532,  1.22788808,  1.04521618, ..., -0.13591919,\n",
       "        -2.42300391,  2.61709905],\n",
       "       [-0.70980699, -0.89305258, -0.59468742, ..., -0.13591919,\n",
       "         0.41271085, -0.38210247],\n",
       "       [ 0.18695917,  0.16741775,  2.68511978, ..., -0.13591919,\n",
       "         0.41271085, -0.38210247]])"
      ]
     },
     "execution_count": 19,
     "metadata": {},
     "output_type": "execute_result"
    }
   ],
   "source": [
    "X_test_scaler = scl.transform(X_test)\n",
    "X_test_scaler"
   ]
  },
  {
   "cell_type": "markdown",
   "id": "impressive-kinase",
   "metadata": {},
   "source": [
    "# Entrenando Arboles"
   ]
  },
  {
   "cell_type": "markdown",
   "id": "peripheral-street",
   "metadata": {},
   "source": [
    "Entrenamos nuevamente el Arbol de decision escalado y vamos a comparar su rendimiento en base al proyecto 1"
   ]
  },
  {
   "cell_type": "code",
   "execution_count": 20,
   "id": "disciplinary-function",
   "metadata": {},
   "outputs": [
    {
     "name": "stdout",
     "output_type": "stream",
     "text": [
      "La raíz de error medio cuadrático en Train es:52024.0074955207 \n",
      "La raíz de error medio cuadrático en Test es:51884.378233808966 \n"
     ]
    }
   ],
   "source": [
    "X_train_dt = X_train_scaler\n",
    "X_test_dt = X_test_scaler\n",
    "y_train_dt =y_train\n",
    "y_test_dt =y_test\n",
    "\n",
    "tree = DecisionTreeRegressor(max_depth =3) #La profundidad del árbol es 3\n",
    "tree.fit (X_train_dt,y_train_dt)\n",
    "\n",
    "y_train_dt_pred = tree.predict(X_train_dt)\n",
    "y_test_dt_pred =tree.predict(X_test_dt)\n",
    "\n",
    "rmse_train_dt =np.sqrt(mean_squared_error(y_train_dt, y_train_dt_pred))\n",
    "rmse_test_dt =np.sqrt(mean_squared_error(y_test_dt, y_test_dt_pred))\n",
    "print(f'La raíz de error medio cuadrático en Train es:{rmse_train_dt} ')\n",
    "print(f'La raíz de error medio cuadrático en Test es:{rmse_test_dt} ')"
   ]
  },
  {
   "cell_type": "markdown",
   "id": "fourth-steps",
   "metadata": {},
   "source": [
    "Comparando el resultado con el modelo anterior podemos ver que hay una gran disminucion en el RMSE tanto en Train como en Tes, por lo que el mismo mejoró"
   ]
  },
  {
   "cell_type": "markdown",
   "id": "latin-jonathan",
   "metadata": {},
   "source": [
    "**PARTE B - Modelos Avanzados**\n",
    "\n",
    "6- Elige dos de los modelos avanzados vistos (en el caso de regresión, considera una regresión lineal con atributos polinómicos y regularización). Entrénalos y evalúalos con sus argumentos por defecto. No te olvides de hacer un train/test split y usar Validación Cruzada.\n",
    "\n",
    "7- Optimiza sus hiperparámetros mediante Validación Cruzada y Grid Search o Random Search.\n",
    "\n",
    "8- Compara el desempeño de los nuevos modelos entre sí y con el modelo de la Parte A. ¿Cuál elegirías? Justifica."
   ]
  },
  {
   "cell_type": "markdown",
   "id": "involved-minority",
   "metadata": {},
   "source": [
    "Vamos a utilizar Random Forest, Lasso y Grid Search\n",
    "\n",
    "Redefinimos nuevamente las variables\n"
   ]
  },
  {
   "cell_type": "code",
   "execution_count": 21,
   "id": "fewer-digest",
   "metadata": {},
   "outputs": [],
   "source": [
    "\n",
    "def entrena_modelo (X_train, X_test, y_train, y_test, modelo):\n",
    "    \n",
    "    #Entrenamos el modelo y predecimos y_train e y_test:\n",
    "    modelo.fit(X_train, y_train)\n",
    "    y_train_pred = modelo.predict(X_train)\n",
    "    y_test_pred = modelo.predict(X_test)\n",
    "    \n",
    "    #Imprimimos las metricas consideradas para evaluar el modelo:\n",
    "    rmse_train = np.sqrt(mean_squared_error(y_train, y_train_pred))\n",
    "    rmse_test = np.sqrt(mean_squared_error(y_test, y_test_pred))\n",
    "    r2 = modelo.score(X_test, y_test)\n",
    "    print(f'Score de modelo: {r2}')\n",
    "    print(f'Raiz del error cuadrático medio en Train: {rmse_train}')\n",
    "    print(f'Raiz del error cuadrático medio en Test: {rmse_test}')\n",
    "    \n",
    "    #Graficamos la distribucion de errores:\n",
    "    plt.figure(figsize = (15,6))\n",
    "    plt.subplot(1,2,1)\n",
    "    sns.distplot(y_train - y_train_pred, bins = 20, label = 'train')\n",
    "    sns.distplot(y_test - y_test_pred, bins = 20, label = 'test')\n",
    "    plt.xlabel('errores')\n",
    "    plt.legend()\n",
    "\n",
    "    ax = plt.subplot(1,2,2)\n",
    "    plt.scatter(y_test,y_test_pred, s =2)    \n",
    "    lims = [\n",
    "    np.min([ax.get_xlim(), ax.get_ylim()]),  # min of both axes\n",
    "    np.max([ax.get_xlim(), ax.get_ylim()]),  # max of both axes]\n",
    "    ]    \n",
    "    ax.plot(lims, lims, 'k-', alpha=0.75, zorder=0)\n",
    "    plt.xlabel('y (test)')\n",
    "    plt.ylabel('y_pred (test)')\n",
    "    \n",
    "    plt.tight_layout()\n",
    "    plt.show()\n",
    "    \n",
    "\n",
    "    return rmse_train,rmse_test,r2"
   ]
  },
  {
   "cell_type": "markdown",
   "id": "continental-failing",
   "metadata": {},
   "source": [
    "Trataremos de buscar los mejores hiperparámetros para entrenar el modelo, agregando también validación cruzada con 5 pliegues y evaluaremos su performance:"
   ]
  },
  {
   "cell_type": "markdown",
   "id": "driven-resource",
   "metadata": {},
   "source": [
    "* **GridSearch**"
   ]
  },
  {
   "cell_type": "code",
   "execution_count": 22,
   "id": "fabulous-membership",
   "metadata": {},
   "outputs": [],
   "source": [
    "n_estimators = [100,250,500]\n",
    "max_depth = [10,15,30]\n",
    "\n",
    "\n",
    "grid= {'n_estimators': n_estimators,\n",
    "               'max_depth': max_depth,}"
   ]
  },
  {
   "cell_type": "code",
   "execution_count": 23,
   "id": "sustained-portuguese",
   "metadata": {},
   "outputs": [],
   "source": [
    "modelo5 = GridSearchCV(RandomForestRegressor(random_state = 42),param_grid = grid, n_jobs = -1, cv = 3)"
   ]
  },
  {
   "cell_type": "code",
   "execution_count": 24,
   "id": "artistic-preservation",
   "metadata": {},
   "outputs": [
    {
     "name": "stdout",
     "output_type": "stream",
     "text": [
      "Score de modelo: 0.7680901102277771\n",
      "Raiz del error cuadrático medio en Train: 30814.74248179693\n",
      "Raiz del error cuadrático medio en Test: 39727.57570764538\n"
     ]
    },
    {
     "name": "stderr",
     "output_type": "stream",
     "text": [
      "C:\\Users\\Juli\\miniconda3\\lib\\site-packages\\seaborn\\distributions.py:2557: FutureWarning: `distplot` is a deprecated function and will be removed in a future version. Please adapt your code to use either `displot` (a figure-level function with similar flexibility) or `histplot` (an axes-level function for histograms).\n",
      "  warnings.warn(msg, FutureWarning)\n",
      "C:\\Users\\Juli\\miniconda3\\lib\\site-packages\\seaborn\\distributions.py:2557: FutureWarning: `distplot` is a deprecated function and will be removed in a future version. Please adapt your code to use either `displot` (a figure-level function with similar flexibility) or `histplot` (an axes-level function for histograms).\n",
      "  warnings.warn(msg, FutureWarning)\n"
     ]
    },
    {
     "data": {
      "image/png": "[encoded data removed]",
      "text/plain": [
       "<Figure size 1080x432 with 2 Axes>"
      ]
     },
     "metadata": {
      "needs_background": "light"
     },
     "output_type": "display_data"
    }
   ],
   "source": [
    "rmse_train_5,rmse_test_5,score5 = entrena_modelo(X_train, X_test, y_train, y_test, modelo5)"
   ]
  },
  {
   "cell_type": "code",
   "execution_count": 25,
   "id": "cognitive-estimate",
   "metadata": {},
   "outputs": [
    {
     "name": "stdout",
     "output_type": "stream",
     "text": [
      "Los mejores parametros son: {'max_depth': 30, 'n_estimators': 500}\n"
     ]
    }
   ],
   "source": [
    "best_params =  modelo5.best_params_\n",
    "print (f'Los mejores parametros son: {best_params}')"
   ]
  },
  {
   "cell_type": "markdown",
   "id": "legislative-genealogy",
   "metadata": {},
   "source": [
    "* **Ridge con polynomial features**"
   ]
  },
  {
   "cell_type": "code",
   "execution_count": 26,
   "id": "advised-dressing",
   "metadata": {},
   "outputs": [],
   "source": [
    "poly = PolynomialFeatures(degree = 3, include_bias=False) \n",
    "X_train_new = poly.fit_transform(X_train_scaler)\n",
    "X_test_new = poly.transform(X_test_scaler)\n"
   ]
  },
  {
   "cell_type": "code",
   "execution_count": 27,
   "id": "banned-counter",
   "metadata": {},
   "outputs": [
    {
     "data": {
      "text/plain": [
       "array([[  0.18695917,   0.16741775,   1.04521618, ...,  -0.06508361,\n",
       "          0.06025673,  -0.05578784],\n",
       "       [  0.18695917,   0.16741775,   1.04521618, ...,  -0.06508361,\n",
       "          0.06025673,  -0.05578784],\n",
       "       [  0.18695917,   0.16741775,  -0.59468742, ...,  -0.06508361,\n",
       "          0.06025673,  -0.05578784],\n",
       "       ...,\n",
       "       [ -0.70980699,  -0.89305258,   1.04521618, ...,  -0.06508361,\n",
       "          0.06025673,  -0.05578784],\n",
       "       [  1.08372532,   1.22788808,  -0.59468742, ...,  15.3648523 ,\n",
       "        -16.59565645,  17.92505438],\n",
       "       [ -1.60657315,  -0.89305258,  -0.59468742, ...,  -0.06508361,\n",
       "          0.06025673,  -0.05578784]])"
      ]
     },
     "execution_count": 27,
     "metadata": {},
     "output_type": "execute_result"
    }
   ],
   "source": [
    "X_train_new"
   ]
  },
  {
   "cell_type": "code",
   "execution_count": 28,
   "id": "hearing-longer",
   "metadata": {},
   "outputs": [],
   "source": [
    "grid= {'alpha': [0.01],\n",
    "       'fit_intercept' : [True]}"
   ]
  },
  {
   "cell_type": "code",
   "execution_count": 29,
   "id": "duplicate-roads",
   "metadata": {},
   "outputs": [],
   "source": [
    "modelo6 = GridSearchCV(Ridge(random_state=42),param_grid = grid, n_jobs = -1, cv = 3)"
   ]
  },
  {
   "cell_type": "code",
   "execution_count": 30,
   "id": "attempted-rogers",
   "metadata": {},
   "outputs": [
    {
     "name": "stdout",
     "output_type": "stream",
     "text": [
      "Score de modelo: -60.05629009978467\n",
      "Raiz del error cuadrático medio en Train: 48196.96755847557\n",
      "Raiz del error cuadrático medio en Test: 644610.8857409329\n"
     ]
    },
    {
     "name": "stderr",
     "output_type": "stream",
     "text": [
      "C:\\Users\\Juli\\miniconda3\\lib\\site-packages\\seaborn\\distributions.py:2557: FutureWarning: `distplot` is a deprecated function and will be removed in a future version. Please adapt your code to use either `displot` (a figure-level function with similar flexibility) or `histplot` (an axes-level function for histograms).\n",
      "  warnings.warn(msg, FutureWarning)\n",
      "C:\\Users\\Juli\\miniconda3\\lib\\site-packages\\seaborn\\distributions.py:2557: FutureWarning: `distplot` is a deprecated function and will be removed in a future version. Please adapt your code to use either `displot` (a figure-level function with similar flexibility) or `histplot` (an axes-level function for histograms).\n",
      "  warnings.warn(msg, FutureWarning)\n"
     ]
    },
    {
     "data": {
      "image/png": "[encoded data removed]",
      "text/plain": [
       "<Figure size 1080x432 with 2 Axes>"
      ]
     },
     "metadata": {
      "needs_background": "light"
     },
     "output_type": "display_data"
    }
   ],
   "source": [
    "rmse_train_6,rmse_test_6,score6 = entrena_modelo(X_train_new, X_test_new, y_train, y_test, modelo6)"
   ]
  },
  {
   "cell_type": "markdown",
   "id": "explicit-arabic",
   "metadata": {},
   "source": [
    "Grafica con los datos escalados"
   ]
  },
  {
   "cell_type": "code",
   "execution_count": 98,
   "id": "worst-lexington",
   "metadata": {},
   "outputs": [
    {
     "name": "stdout",
     "output_type": "stream",
     "text": [
      "Score de modelo: 0.4233154686274162\n",
      "Raiz del error cuadrático medio en Train: 55848.98511144051\n",
      "Raiz del error cuadrático medio en Test: 62647.187780061744\n"
     ]
    },
    {
     "name": "stderr",
     "output_type": "stream",
     "text": [
      "C:\\Users\\Juli\\miniconda3\\lib\\site-packages\\seaborn\\distributions.py:2557: FutureWarning: `distplot` is a deprecated function and will be removed in a future version. Please adapt your code to use either `displot` (a figure-level function with similar flexibility) or `histplot` (an axes-level function for histograms).\n",
      "  warnings.warn(msg, FutureWarning)\n",
      "C:\\Users\\Juli\\miniconda3\\lib\\site-packages\\seaborn\\distributions.py:2557: FutureWarning: `distplot` is a deprecated function and will be removed in a future version. Please adapt your code to use either `displot` (a figure-level function with similar flexibility) or `histplot` (an axes-level function for histograms).\n",
      "  warnings.warn(msg, FutureWarning)\n"
     ]
    },
    {
     "data": {
      "image/png": "[encoded data removed]",
      "text/plain": [
       "<Figure size 1080x432 with 2 Axes>"
      ]
     },
     "metadata": {
      "needs_background": "light"
     },
     "output_type": "display_data"
    }
   ],
   "source": [
    "rmse_train_6,rmse_test_6,score6 = entrena_modelo(X_train_scaler, X_test_scaler, y_train, y_test, modelo6)"
   ]
  },
  {
   "cell_type": "markdown",
   "id": "minor-things",
   "metadata": {},
   "source": [
    "**Features importances**"
   ]
  },
  {
   "cell_type": "code",
   "execution_count": 99,
   "id": "descending-sunday",
   "metadata": {},
   "outputs": [
    {
     "data": {
      "text/plain": [
       "array([0.02312405, 0.02347048, 0.04742426, 0.47397342, 0.40658024,\n",
       "       0.00159058, 0.01608017, 0.0077568 ])"
      ]
     },
     "execution_count": 99,
     "metadata": {},
     "output_type": "execute_result"
    }
   ],
   "source": [
    "modelo5.best_estimator_.feature_importances_"
   ]
  },
  {
   "cell_type": "code",
   "execution_count": 100,
   "id": "blond-auction",
   "metadata": {},
   "outputs": [
    {
     "data": {
      "text/plain": [
       "Index(['rooms', 'bedrooms', 'bathrooms', 'surface_total', 'surface_covered',\n",
       "       'property_type_Casa', 'property_type_Departamento', 'property_type_PH'],\n",
       "      dtype='object')"
      ]
     },
     "execution_count": 100,
     "metadata": {},
     "output_type": "execute_result"
    }
   ],
   "source": [
    " X_train.columns"
   ]
  },
  {
   "cell_type": "code",
   "execution_count": 103,
   "id": "narrow-pendant",
   "metadata": {},
   "outputs": [
    {
     "data": {
      "text/plain": [
       "array([14280.72468368, -5328.61408419, 22644.52607273,  5179.39794606,\n",
       "       36044.23079178, -5358.58405053,  5502.25694596, -3674.67870653])"
      ]
     },
     "execution_count": 103,
     "metadata": {},
     "output_type": "execute_result"
    }
   ],
   "source": [
    "modelo6.best_estimator_.coef_"
   ]
  },
  {
   "cell_type": "markdown",
   "id": "leading-chrome",
   "metadata": {},
   "source": [
    "**PARTE C - Interpretación de modelos**\n"
   ]
  },
  {
   "cell_type": "markdown",
   "id": "statewide-karen",
   "metadata": {},
   "source": [
    "¿Qué variables fueron relevantes para el modelo para hacer una predicción? \n",
    "\n",
    "Analizando el proyecto y las variables utilizadas, considero que las mas importantes para el mismo son baños,superficie total y superficie cubierta. \n",
    "Se nota que los errores están más dispersos mientras mayor es el precio que deben predecir\n"
   ]
  },
  {
   "cell_type": "markdown",
   "id": "gorgeous-feelings",
   "metadata": {},
   "source": [
    "En comparación al proyecto 1, en donde RMSE dio un resultado de 113.429 para Train y 148.267 para Test, creo que el modelo con el nuevo análisis y el escalado de datos mejoró considerablemente.\n",
    "\n",
    "Al momento de realizar los modelos avanzados, esperaba que Random forest y grid search tuvieran una mejor perfomance que el árbol de decision con los datos estandarizados.\n",
    "\n",
    "Al utilizar polynomial features, el resultado de Ridge da bastante mal y tiende al overfitting. Esperaba que fuera mucho mejor.\n",
    "\n",
    "Como acción futura me propondría tratar de mejorar la performance de polynomial features. "
   ]
  }
 ],
 "metadata": {
  "kernelspec": {
   "display_name": "Python 3",
   "language": "python",
   "name": "python3"
  },
  "language_info": {
   "codemirror_mode": {
    "name": "ipython",
    "version": 3
   },
   "file_extension": ".py",
   "mimetype": "text/x-python",
   "name": "python",
   "nbconvert_exporter": "python",
   "pygments_lexer": "ipython3",
   "version": "3.8.5"
  }
 },
 "nbformat": 4,
 "nbformat_minor": 5
}
